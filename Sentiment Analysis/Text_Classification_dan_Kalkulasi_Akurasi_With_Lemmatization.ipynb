{
  "nbformat": 4,
  "nbformat_minor": 0,
  "metadata": {
    "colab": {
      "provenance": []
    },
    "kernelspec": {
      "name": "python3",
      "display_name": "Python 3"
    },
    "language_info": {
      "name": "python"
    }
  },
  "cells": [
    {
      "cell_type": "code",
      "source": [
        "!pip install scikit-learn"
      ],
      "metadata": {
        "colab": {
          "base_uri": "https://localhost:8080/"
        },
        "id": "svmj4_HEjXPO",
        "outputId": "0e360db0-2b06-4b45-bd95-38340f9ebb33"
      },
      "execution_count": null,
      "outputs": [
        {
          "output_type": "stream",
          "name": "stdout",
          "text": [
            "Requirement already satisfied: scikit-learn in /usr/local/lib/python3.10/dist-packages (1.2.2)\n",
            "Requirement already satisfied: numpy>=1.17.3 in /usr/local/lib/python3.10/dist-packages (from scikit-learn) (1.23.5)\n",
            "Requirement already satisfied: scipy>=1.3.2 in /usr/local/lib/python3.10/dist-packages (from scikit-learn) (1.11.3)\n",
            "Requirement already satisfied: joblib>=1.1.1 in /usr/local/lib/python3.10/dist-packages (from scikit-learn) (1.3.2)\n",
            "Requirement already satisfied: threadpoolctl>=2.0.0 in /usr/local/lib/python3.10/dist-packages (from scikit-learn) (3.2.0)\n"
          ]
        }
      ]
    },
    {
      "cell_type": "code",
      "execution_count": null,
      "metadata": {
        "colab": {
          "base_uri": "https://localhost:8080/"
        },
        "id": "YQdo3pp4jTCk",
        "outputId": "2e1935c6-7511-48c7-8b64-fe94749ac0d0"
      },
      "outputs": [
        {
          "output_type": "stream",
          "name": "stdout",
          "text": [
            "Requirement already satisfied: nltk in /usr/local/lib/python3.10/dist-packages (3.8.1)\n",
            "Requirement already satisfied: click in /usr/local/lib/python3.10/dist-packages (from nltk) (8.1.7)\n",
            "Requirement already satisfied: joblib in /usr/local/lib/python3.10/dist-packages (from nltk) (1.3.2)\n",
            "Requirement already satisfied: regex>=2021.8.3 in /usr/local/lib/python3.10/dist-packages (from nltk) (2023.6.3)\n",
            "Requirement already satisfied: tqdm in /usr/local/lib/python3.10/dist-packages (from nltk) (4.66.1)\n"
          ]
        }
      ],
      "source": [
        "# !pip install Sastrawi\n",
        "!pip install nltk"
      ]
    },
    {
      "cell_type": "code",
      "source": [
        "!pip install pydotplus"
      ],
      "metadata": {
        "colab": {
          "base_uri": "https://localhost:8080/"
        },
        "id": "iLFoz5CRjaF5",
        "outputId": "547c2b28-7a58-497c-e127-80a2d1b8019d"
      },
      "execution_count": null,
      "outputs": [
        {
          "output_type": "stream",
          "name": "stdout",
          "text": [
            "Requirement already satisfied: pydotplus in /usr/local/lib/python3.10/dist-packages (2.0.2)\n",
            "Requirement already satisfied: pyparsing>=2.0.1 in /usr/local/lib/python3.10/dist-packages (from pydotplus) (3.1.1)\n"
          ]
        }
      ]
    },
    {
      "cell_type": "code",
      "source": [
        "#mount process for access google drive\n",
        "from google.colab import drive\n",
        "drive.mount('/content/drive')"
      ],
      "metadata": {
        "colab": {
          "base_uri": "https://localhost:8080/"
        },
        "id": "9Lh0rzqJjcRc",
        "outputId": "acf7895b-7a09-4355-c230-a7e9dca1331a"
      },
      "execution_count": null,
      "outputs": [
        {
          "output_type": "stream",
          "name": "stdout",
          "text": [
            "Mounted at /content/drive\n"
          ]
        }
      ]
    },
    {
      "cell_type": "code",
      "source": [
        "#Import Library\n",
        "import pandas as pd\n",
        "import numpy as np\n",
        "import string\n",
        "import os\n",
        "import re\n",
        "from datetime import datetime\n",
        "\n",
        "# Import matplotlib library for visualize the data\n",
        "import matplotlib.pyplot as plt\n",
        "import seaborn as sns"
      ],
      "metadata": {
        "id": "y5x27OFGjjD9"
      },
      "execution_count": null,
      "outputs": []
    },
    {
      "cell_type": "code",
      "source": [
        "# Import NLTK library - word_tokenize library for tokenization process using nltk\n",
        "# for process of pos-tagging, lemmatization and cleaning the stopwords\n",
        "import nltk\n",
        "from nltk.tokenize import word_tokenize\n",
        "from nltk.tokenize import sent_tokenize\n",
        "from nltk.corpus import stopwords\n",
        "from nltk.stem import WordNetLemmatizer\n",
        "from nltk.stem.porter import PorterStemmer\n",
        "from nltk.stem import LancasterStemmer\n",
        "nltk.download('punkt')\n",
        "nltk.download('stopwords')\n",
        "nltk.download('wordnet')\n",
        "nltk.download('averaged_perceptron_tagger')\n",
        "\n",
        "# Import Sklearn Library\n",
        "from sklearn.feature_extraction.text import TfidfVectorizer\n",
        "from sklearn.preprocessing import LabelEncoder, StandardScaler\n",
        "from sklearn.metrics import classification_report, confusion_matrix, accuracy_score\n",
        "from sklearn.model_selection import train_test_split, GridSearchCV\n",
        "from sklearn.metrics.pairwise import cosine_similarity\n",
        "from sklearn.metrics import accuracy_score, confusion_matrix, recall_score, f1_score, precision_score, confusion_matrix\n",
        "from sklearn.metrics import precision_recall_fscore_support as score\n",
        "\n",
        "from sklearn import model_selection, svm\n",
        "from sklearn import svm #for svm algorithm\n",
        "from sklearn.svm import SVC\n",
        "\n",
        "from sklearn.ensemble import RandomForestClassifier\n",
        "from sklearn.ensemble import AdaBoostClassifier\n",
        "from sklearn.ensemble import BaggingClassifier\n",
        "from sklearn.tree import DecisionTreeClassifier\n",
        "import sklearn.tree as tree\n",
        "\n",
        "# ------------------------------------------------------------------------------------------------------------------------------------\n",
        "# Additional library for data pre-processing process\n",
        "import spacy\n",
        "import csv\n",
        "\n",
        "from sklearn.feature_extraction.text import CountVectorizer\n",
        "from sklearn import model_selection, naive_bayes\n",
        "from sklearn.linear_model import LogisticRegression\n",
        "from sklearn.neighbors import KNeighborsClassifier\n",
        "from sklearn.naive_bayes import GaussianNB\n",
        "\n",
        "import pydotplus\n",
        "#from Sastrawi.StopWordRemover.StopWordRemoverFactory import StopWordRemoverFactory\n",
        "#from Sastrawi.Stemmer.StemmerFactory import StemmerFactory #import Indonesian Stemmer\n",
        "from scipy.spatial import distance\n",
        "from six import StringIO\n",
        "from IPython.display import Image\n",
        "porter_stemmer = PorterStemmer()\n",
        "\n",
        "#for stopwords removal\n",
        "from spacy.lang.en import English\n",
        "\n",
        "#load English tokenizer, tagger, parser, NER and word vectors\n",
        "nlp = English()\n",
        "from spacy.lang.en.stop_words import STOP_WORDS\n",
        "sp = spacy.load('en_core_web_sm')"
      ],
      "metadata": {
        "colab": {
          "base_uri": "https://localhost:8080/"
        },
        "id": "kQQ1sE-Ajj0x",
        "outputId": "07274bc0-02e1-4ac9-f4d3-3617949e2c15"
      },
      "execution_count": null,
      "outputs": [
        {
          "output_type": "stream",
          "name": "stderr",
          "text": [
            "[nltk_data] Downloading package punkt to /root/nltk_data...\n",
            "[nltk_data]   Unzipping tokenizers/punkt.zip.\n",
            "[nltk_data] Downloading package stopwords to /root/nltk_data...\n",
            "[nltk_data]   Unzipping corpora/stopwords.zip.\n",
            "[nltk_data] Downloading package wordnet to /root/nltk_data...\n",
            "[nltk_data] Downloading package averaged_perceptron_tagger to\n",
            "[nltk_data]     /root/nltk_data...\n",
            "[nltk_data]   Unzipping taggers/averaged_perceptron_tagger.zip.\n"
          ]
        }
      ]
    },
    {
      "cell_type": "code",
      "source": [
        "data_maret = pd.read_excel('/content/drive/My Drive/Skripsi/sample_reviews_maret.xlsx')\n",
        "data_mei = pd.read_excel('/content/drive/My Drive/Skripsi/sample_reviews_Mei.xlsx')"
      ],
      "metadata": {
        "id": "ugDXudoIV6Z1"
      },
      "execution_count": null,
      "outputs": []
    },
    {
      "cell_type": "code",
      "source": [
        "#merge dataset\n",
        "frames = [data_maret, data_mei]\n",
        "df = pd.concat(frames)\n",
        "\n",
        "#replace column's name\n",
        "df = df.rename(columns={\"pengguna\" :\"pengguna\", \"tweet\": \"tweet\",\"clean_tweet\" :\"clean_tweet\", \"en_tweet\" : \"en_tweet\", \"text\" : \"text\", \"text_tokenized\" : \"text_tokenized\", \"text_tagging\" : \"text_tagging\", \"text_stopword\" : \"text_stopword\", \"text_stemmed\" : \"text_stemmed\", \"text_lemmatized\" : \"text_lemmatized\", \"polarity\" : \"polarity\", \"label\" : \"label\"})\n",
        "df = df[['pengguna','tweet', 'clean_tweet', 'en_tweet', 'text', 'text_tokenized', 'text_tagging', 'text_stopword', 'text_stemmed', 'text_lemmatized', 'polarity', 'label']]\n",
        "df.head()"
      ],
      "metadata": {
        "colab": {
          "base_uri": "https://localhost:8080/",
          "height": 581
        },
        "id": "DbBA4PTBWSph",
        "outputId": "360a8fc3-578a-4925-b243-6b70ce0fe7d9"
      },
      "execution_count": null,
      "outputs": [
        {
          "output_type": "execute_result",
          "data": {
            "text/plain": [
              "       pengguna                                              tweet  \\\n",
              "0    towongsing  RT @pengarang_sajak: Adakah simpati utk anak2 ...   \n",
              "1       fhyetan  @Nebuchanedzar_I @mudasir_11 @UpdateBolabola G...   \n",
              "2    MHHBJA2005  Genap 8 tahun buat serangan pencerobohan ke at...   \n",
              "3   HarryRusuh2  @NdaJoesh @HarryRidwan__Ay Mudah mudahan. Tera...   \n",
              "4  ahmaddiontri  @andy24670125 @fadlizon Wkwkwk, padahal Saudi ...   \n",
              "\n",
              "                                         clean_tweet  \\\n",
              "0   Adakah simpati utk anak di Utara Pakistan yg ...   \n",
              "1  Gua kira itu bukan orang islam tapi Syiah jadi...   \n",
              "2  Genap tahun buat serangan pencerobohan ke atas...   \n",
              "3  Mudah mudahan Terakhir sebelom suspend Tadi ny...   \n",
              "4  Wkwkwk padahal Saudi hanya back up pemerintaha...   \n",
              "\n",
              "                                            en_tweet  \\\n",
              "0  Is a hoop for a child in North Pakistan whose ...   \n",
              "1  I don't think it's Muslim but Shia so don't be...   \n",
              "2  It's been a year since the invasion of Yemen, ...   \n",
              "3  Hopefully, lastly, before being suspended, I'v...   \n",
              "4  Wkwkwk even though the Saudis only back up the...   \n",
              "\n",
              "                                                text  \\\n",
              "0  is a hoop for a child in north pakistan whose ...   \n",
              "1  i don't think it's muslim but shia so don't be...   \n",
              "2  it's been a year since the invasion of yemen, ...   \n",
              "3  hopefully, lastly, before being suspended, i'v...   \n",
              "4  wkwkwk even though the saudis only back up the...   \n",
              "\n",
              "                                      text_tokenized  \\\n",
              "0  ['is', 'a', 'hoop', 'for', 'a', 'child', 'in',...   \n",
              "1  ['i', 'do', \"n't\", 'think', 'it', \"'s\", 'musli...   \n",
              "2  ['it', \"'s\", 'been', 'a', 'year', 'since', 'th...   \n",
              "3  ['hopefully', ',', 'lastly', ',', 'before', 'b...   \n",
              "4  ['wkwkwk', 'even', 'though', 'the', 'saudis', ...   \n",
              "\n",
              "                                        text_tagging  \\\n",
              "0  [('is', 'VBZ'), ('a', 'DT'), ('hoop', 'NN'), (...   \n",
              "1  [('i', 'NNS'), ('do', 'VBP'), (\"n't\", 'RB'), (...   \n",
              "2  [('it', 'PRP'), (\"'s\", 'VBZ'), ('been', 'VBN')...   \n",
              "3  [('hopefully', 'RB'), (',', ','), ('lastly', '...   \n",
              "4  [('wkwkwk', 'NN'), ('even', 'RB'), ('though', ...   \n",
              "\n",
              "                                       text_stopword  \\\n",
              "0  ['hoop', 'child', 'north', 'pakistan', 'whose'...   \n",
              "1  [\"n't\", 'think', \"'s\", 'muslim', 'shia', \"n't\"...   \n",
              "2  [\"'s\", 'year', 'since', 'invasion', 'yemen', '...   \n",
              "3  ['hopefully', ',', 'lastly', ',', 'suspended',...   \n",
              "4  ['wkwkwk', 'even', 'though', 'saudis', 'back',...   \n",
              "\n",
              "                                        text_stemmed  \\\n",
              "0  ['hoop', 'child', 'north', 'pakistan', 'whose'...   \n",
              "1  [\"n't\", 'think', \"'s\", 'muslim', 'shia', \"n't\"...   \n",
              "2  [\"'s\", 'year', 'sinc', 'invas', 'yemen', ',', ...   \n",
              "3  ['hope', ',', 'lastli', ',', 'suspend', ',', \"...   \n",
              "4  ['wkwkwk', 'even', 'though', 'saudi', 'back', ...   \n",
              "\n",
              "                                     text_lemmatized  polarity    label  \n",
              "0  ['hoop', 'child', 'north', 'pakistan', 'whose'...     -0.05  negatif  \n",
              "1  [\"n't\", 'think', \"'s\", 'muslim', 'shia', \"n't\"...      0.00   netral  \n",
              "2  [\"'s\", 'year', 'sinc', 'invas', 'yemen', ',', ...      0.00   netral  \n",
              "3  ['hope', ',', 'lastli', ',', 'suspend', ',', \"...      0.00   netral  \n",
              "4  ['wkwkwk', 'even', 'though', 'saudi', 'back', ...      0.00   netral  "
            ],
            "text/html": [
              "\n",
              "  <div id=\"df-8a20dcbe-e581-4c68-898f-ce4a8f72d193\" class=\"colab-df-container\">\n",
              "    <div>\n",
              "<style scoped>\n",
              "    .dataframe tbody tr th:only-of-type {\n",
              "        vertical-align: middle;\n",
              "    }\n",
              "\n",
              "    .dataframe tbody tr th {\n",
              "        vertical-align: top;\n",
              "    }\n",
              "\n",
              "    .dataframe thead th {\n",
              "        text-align: right;\n",
              "    }\n",
              "</style>\n",
              "<table border=\"1\" class=\"dataframe\">\n",
              "  <thead>\n",
              "    <tr style=\"text-align: right;\">\n",
              "      <th></th>\n",
              "      <th>pengguna</th>\n",
              "      <th>tweet</th>\n",
              "      <th>clean_tweet</th>\n",
              "      <th>en_tweet</th>\n",
              "      <th>text</th>\n",
              "      <th>text_tokenized</th>\n",
              "      <th>text_tagging</th>\n",
              "      <th>text_stopword</th>\n",
              "      <th>text_stemmed</th>\n",
              "      <th>text_lemmatized</th>\n",
              "      <th>polarity</th>\n",
              "      <th>label</th>\n",
              "    </tr>\n",
              "  </thead>\n",
              "  <tbody>\n",
              "    <tr>\n",
              "      <th>0</th>\n",
              "      <td>towongsing</td>\n",
              "      <td>RT @pengarang_sajak: Adakah simpati utk anak2 ...</td>\n",
              "      <td>Adakah simpati utk anak di Utara Pakistan yg ...</td>\n",
              "      <td>Is a hoop for a child in North Pakistan whose ...</td>\n",
              "      <td>is a hoop for a child in north pakistan whose ...</td>\n",
              "      <td>['is', 'a', 'hoop', 'for', 'a', 'child', 'in',...</td>\n",
              "      <td>[('is', 'VBZ'), ('a', 'DT'), ('hoop', 'NN'), (...</td>\n",
              "      <td>['hoop', 'child', 'north', 'pakistan', 'whose'...</td>\n",
              "      <td>['hoop', 'child', 'north', 'pakistan', 'whose'...</td>\n",
              "      <td>['hoop', 'child', 'north', 'pakistan', 'whose'...</td>\n",
              "      <td>-0.05</td>\n",
              "      <td>negatif</td>\n",
              "    </tr>\n",
              "    <tr>\n",
              "      <th>1</th>\n",
              "      <td>fhyetan</td>\n",
              "      <td>@Nebuchanedzar_I @mudasir_11 @UpdateBolabola G...</td>\n",
              "      <td>Gua kira itu bukan orang islam tapi Syiah jadi...</td>\n",
              "      <td>I don't think it's Muslim but Shia so don't be...</td>\n",
              "      <td>i don't think it's muslim but shia so don't be...</td>\n",
              "      <td>['i', 'do', \"n't\", 'think', 'it', \"'s\", 'musli...</td>\n",
              "      <td>[('i', 'NNS'), ('do', 'VBP'), (\"n't\", 'RB'), (...</td>\n",
              "      <td>[\"n't\", 'think', \"'s\", 'muslim', 'shia', \"n't\"...</td>\n",
              "      <td>[\"n't\", 'think', \"'s\", 'muslim', 'shia', \"n't\"...</td>\n",
              "      <td>[\"n't\", 'think', \"'s\", 'muslim', 'shia', \"n't\"...</td>\n",
              "      <td>0.00</td>\n",
              "      <td>netral</td>\n",
              "    </tr>\n",
              "    <tr>\n",
              "      <th>2</th>\n",
              "      <td>MHHBJA2005</td>\n",
              "      <td>Genap 8 tahun buat serangan pencerobohan ke at...</td>\n",
              "      <td>Genap tahun buat serangan pencerobohan ke atas...</td>\n",
              "      <td>It's been a year since the invasion of Yemen, ...</td>\n",
              "      <td>it's been a year since the invasion of yemen, ...</td>\n",
              "      <td>['it', \"'s\", 'been', 'a', 'year', 'since', 'th...</td>\n",
              "      <td>[('it', 'PRP'), (\"'s\", 'VBZ'), ('been', 'VBN')...</td>\n",
              "      <td>[\"'s\", 'year', 'since', 'invasion', 'yemen', '...</td>\n",
              "      <td>[\"'s\", 'year', 'sinc', 'invas', 'yemen', ',', ...</td>\n",
              "      <td>[\"'s\", 'year', 'sinc', 'invas', 'yemen', ',', ...</td>\n",
              "      <td>0.00</td>\n",
              "      <td>netral</td>\n",
              "    </tr>\n",
              "    <tr>\n",
              "      <th>3</th>\n",
              "      <td>HarryRusuh2</td>\n",
              "      <td>@NdaJoesh @HarryRidwan__Ay Mudah mudahan. Tera...</td>\n",
              "      <td>Mudah mudahan Terakhir sebelom suspend Tadi ny...</td>\n",
              "      <td>Hopefully, lastly, before being suspended, I'v...</td>\n",
              "      <td>hopefully, lastly, before being suspended, i'v...</td>\n",
              "      <td>['hopefully', ',', 'lastly', ',', 'before', 'b...</td>\n",
              "      <td>[('hopefully', 'RB'), (',', ','), ('lastly', '...</td>\n",
              "      <td>['hopefully', ',', 'lastly', ',', 'suspended',...</td>\n",
              "      <td>['hope', ',', 'lastli', ',', 'suspend', ',', \"...</td>\n",
              "      <td>['hope', ',', 'lastli', ',', 'suspend', ',', \"...</td>\n",
              "      <td>0.00</td>\n",
              "      <td>netral</td>\n",
              "    </tr>\n",
              "    <tr>\n",
              "      <th>4</th>\n",
              "      <td>ahmaddiontri</td>\n",
              "      <td>@andy24670125 @fadlizon Wkwkwk, padahal Saudi ...</td>\n",
              "      <td>Wkwkwk padahal Saudi hanya back up pemerintaha...</td>\n",
              "      <td>Wkwkwk even though the Saudis only back up the...</td>\n",
              "      <td>wkwkwk even though the saudis only back up the...</td>\n",
              "      <td>['wkwkwk', 'even', 'though', 'the', 'saudis', ...</td>\n",
              "      <td>[('wkwkwk', 'NN'), ('even', 'RB'), ('though', ...</td>\n",
              "      <td>['wkwkwk', 'even', 'though', 'saudis', 'back',...</td>\n",
              "      <td>['wkwkwk', 'even', 'though', 'saudi', 'back', ...</td>\n",
              "      <td>['wkwkwk', 'even', 'though', 'saudi', 'back', ...</td>\n",
              "      <td>0.00</td>\n",
              "      <td>netral</td>\n",
              "    </tr>\n",
              "  </tbody>\n",
              "</table>\n",
              "</div>\n",
              "    <div class=\"colab-df-buttons\">\n",
              "\n",
              "  <div class=\"colab-df-container\">\n",
              "    <button class=\"colab-df-convert\" onclick=\"convertToInteractive('df-8a20dcbe-e581-4c68-898f-ce4a8f72d193')\"\n",
              "            title=\"Convert this dataframe to an interactive table.\"\n",
              "            style=\"display:none;\">\n",
              "\n",
              "  <svg xmlns=\"http://www.w3.org/2000/svg\" height=\"24px\" viewBox=\"0 -960 960 960\">\n",
              "    <path d=\"M120-120v-720h720v720H120Zm60-500h600v-160H180v160Zm220 220h160v-160H400v160Zm0 220h160v-160H400v160ZM180-400h160v-160H180v160Zm440 0h160v-160H620v160ZM180-180h160v-160H180v160Zm440 0h160v-160H620v160Z\"/>\n",
              "  </svg>\n",
              "    </button>\n",
              "\n",
              "  <style>\n",
              "    .colab-df-container {\n",
              "      display:flex;\n",
              "      gap: 12px;\n",
              "    }\n",
              "\n",
              "    .colab-df-convert {\n",
              "      background-color: #E8F0FE;\n",
              "      border: none;\n",
              "      border-radius: 50%;\n",
              "      cursor: pointer;\n",
              "      display: none;\n",
              "      fill: #1967D2;\n",
              "      height: 32px;\n",
              "      padding: 0 0 0 0;\n",
              "      width: 32px;\n",
              "    }\n",
              "\n",
              "    .colab-df-convert:hover {\n",
              "      background-color: #E2EBFA;\n",
              "      box-shadow: 0px 1px 2px rgba(60, 64, 67, 0.3), 0px 1px 3px 1px rgba(60, 64, 67, 0.15);\n",
              "      fill: #174EA6;\n",
              "    }\n",
              "\n",
              "    .colab-df-buttons div {\n",
              "      margin-bottom: 4px;\n",
              "    }\n",
              "\n",
              "    [theme=dark] .colab-df-convert {\n",
              "      background-color: #3B4455;\n",
              "      fill: #D2E3FC;\n",
              "    }\n",
              "\n",
              "    [theme=dark] .colab-df-convert:hover {\n",
              "      background-color: #434B5C;\n",
              "      box-shadow: 0px 1px 3px 1px rgba(0, 0, 0, 0.15);\n",
              "      filter: drop-shadow(0px 1px 2px rgba(0, 0, 0, 0.3));\n",
              "      fill: #FFFFFF;\n",
              "    }\n",
              "  </style>\n",
              "\n",
              "    <script>\n",
              "      const buttonEl =\n",
              "        document.querySelector('#df-8a20dcbe-e581-4c68-898f-ce4a8f72d193 button.colab-df-convert');\n",
              "      buttonEl.style.display =\n",
              "        google.colab.kernel.accessAllowed ? 'block' : 'none';\n",
              "\n",
              "      async function convertToInteractive(key) {\n",
              "        const element = document.querySelector('#df-8a20dcbe-e581-4c68-898f-ce4a8f72d193');\n",
              "        const dataTable =\n",
              "          await google.colab.kernel.invokeFunction('convertToInteractive',\n",
              "                                                    [key], {});\n",
              "        if (!dataTable) return;\n",
              "\n",
              "        const docLinkHtml = 'Like what you see? Visit the ' +\n",
              "          '<a target=\"_blank\" href=https://colab.research.google.com/notebooks/data_table.ipynb>data table notebook</a>'\n",
              "          + ' to learn more about interactive tables.';\n",
              "        element.innerHTML = '';\n",
              "        dataTable['output_type'] = 'display_data';\n",
              "        await google.colab.output.renderOutput(dataTable, element);\n",
              "        const docLink = document.createElement('div');\n",
              "        docLink.innerHTML = docLinkHtml;\n",
              "        element.appendChild(docLink);\n",
              "      }\n",
              "    </script>\n",
              "  </div>\n",
              "\n",
              "\n",
              "<div id=\"df-be21fc18-13b0-409c-884f-8f5c85889b61\">\n",
              "  <button class=\"colab-df-quickchart\" onclick=\"quickchart('df-be21fc18-13b0-409c-884f-8f5c85889b61')\"\n",
              "            title=\"Suggest charts\"\n",
              "            style=\"display:none;\">\n",
              "\n",
              "<svg xmlns=\"http://www.w3.org/2000/svg\" height=\"24px\"viewBox=\"0 0 24 24\"\n",
              "     width=\"24px\">\n",
              "    <g>\n",
              "        <path d=\"M19 3H5c-1.1 0-2 .9-2 2v14c0 1.1.9 2 2 2h14c1.1 0 2-.9 2-2V5c0-1.1-.9-2-2-2zM9 17H7v-7h2v7zm4 0h-2V7h2v10zm4 0h-2v-4h2v4z\"/>\n",
              "    </g>\n",
              "</svg>\n",
              "  </button>\n",
              "\n",
              "<style>\n",
              "  .colab-df-quickchart {\n",
              "      --bg-color: #E8F0FE;\n",
              "      --fill-color: #1967D2;\n",
              "      --hover-bg-color: #E2EBFA;\n",
              "      --hover-fill-color: #174EA6;\n",
              "      --disabled-fill-color: #AAA;\n",
              "      --disabled-bg-color: #DDD;\n",
              "  }\n",
              "\n",
              "  [theme=dark] .colab-df-quickchart {\n",
              "      --bg-color: #3B4455;\n",
              "      --fill-color: #D2E3FC;\n",
              "      --hover-bg-color: #434B5C;\n",
              "      --hover-fill-color: #FFFFFF;\n",
              "      --disabled-bg-color: #3B4455;\n",
              "      --disabled-fill-color: #666;\n",
              "  }\n",
              "\n",
              "  .colab-df-quickchart {\n",
              "    background-color: var(--bg-color);\n",
              "    border: none;\n",
              "    border-radius: 50%;\n",
              "    cursor: pointer;\n",
              "    display: none;\n",
              "    fill: var(--fill-color);\n",
              "    height: 32px;\n",
              "    padding: 0;\n",
              "    width: 32px;\n",
              "  }\n",
              "\n",
              "  .colab-df-quickchart:hover {\n",
              "    background-color: var(--hover-bg-color);\n",
              "    box-shadow: 0 1px 2px rgba(60, 64, 67, 0.3), 0 1px 3px 1px rgba(60, 64, 67, 0.15);\n",
              "    fill: var(--button-hover-fill-color);\n",
              "  }\n",
              "\n",
              "  .colab-df-quickchart-complete:disabled,\n",
              "  .colab-df-quickchart-complete:disabled:hover {\n",
              "    background-color: var(--disabled-bg-color);\n",
              "    fill: var(--disabled-fill-color);\n",
              "    box-shadow: none;\n",
              "  }\n",
              "\n",
              "  .colab-df-spinner {\n",
              "    border: 2px solid var(--fill-color);\n",
              "    border-color: transparent;\n",
              "    border-bottom-color: var(--fill-color);\n",
              "    animation:\n",
              "      spin 1s steps(1) infinite;\n",
              "  }\n",
              "\n",
              "  @keyframes spin {\n",
              "    0% {\n",
              "      border-color: transparent;\n",
              "      border-bottom-color: var(--fill-color);\n",
              "      border-left-color: var(--fill-color);\n",
              "    }\n",
              "    20% {\n",
              "      border-color: transparent;\n",
              "      border-left-color: var(--fill-color);\n",
              "      border-top-color: var(--fill-color);\n",
              "    }\n",
              "    30% {\n",
              "      border-color: transparent;\n",
              "      border-left-color: var(--fill-color);\n",
              "      border-top-color: var(--fill-color);\n",
              "      border-right-color: var(--fill-color);\n",
              "    }\n",
              "    40% {\n",
              "      border-color: transparent;\n",
              "      border-right-color: var(--fill-color);\n",
              "      border-top-color: var(--fill-color);\n",
              "    }\n",
              "    60% {\n",
              "      border-color: transparent;\n",
              "      border-right-color: var(--fill-color);\n",
              "    }\n",
              "    80% {\n",
              "      border-color: transparent;\n",
              "      border-right-color: var(--fill-color);\n",
              "      border-bottom-color: var(--fill-color);\n",
              "    }\n",
              "    90% {\n",
              "      border-color: transparent;\n",
              "      border-bottom-color: var(--fill-color);\n",
              "    }\n",
              "  }\n",
              "</style>\n",
              "\n",
              "  <script>\n",
              "    async function quickchart(key) {\n",
              "      const quickchartButtonEl =\n",
              "        document.querySelector('#' + key + ' button');\n",
              "      quickchartButtonEl.disabled = true;  // To prevent multiple clicks.\n",
              "      quickchartButtonEl.classList.add('colab-df-spinner');\n",
              "      try {\n",
              "        const charts = await google.colab.kernel.invokeFunction(\n",
              "            'suggestCharts', [key], {});\n",
              "      } catch (error) {\n",
              "        console.error('Error during call to suggestCharts:', error);\n",
              "      }\n",
              "      quickchartButtonEl.classList.remove('colab-df-spinner');\n",
              "      quickchartButtonEl.classList.add('colab-df-quickchart-complete');\n",
              "    }\n",
              "    (() => {\n",
              "      let quickchartButtonEl =\n",
              "        document.querySelector('#df-be21fc18-13b0-409c-884f-8f5c85889b61 button');\n",
              "      quickchartButtonEl.style.display =\n",
              "        google.colab.kernel.accessAllowed ? 'block' : 'none';\n",
              "    })();\n",
              "  </script>\n",
              "</div>\n",
              "    </div>\n",
              "  </div>\n"
            ]
          },
          "metadata": {},
          "execution_count": 8
        }
      ]
    },
    {
      "cell_type": "code",
      "source": [
        "df.to_excel('/content/drive/My Drive/Skripsi/sample_reviews_gabungan.xlsx')"
      ],
      "metadata": {
        "id": "TnaFBqrcYgk7"
      },
      "execution_count": null,
      "outputs": []
    },
    {
      "cell_type": "markdown",
      "source": [
        "SVM Classifier Algorithm (Support vector machine Algorithm)\n",
        "data training 70% dan data testing 30% dengan menjadikan test_size=0.3"
      ],
      "metadata": {
        "id": "7LJjxD4DkSXN"
      }
    },
    {
      "cell_type": "code",
      "source": [
        "corpus = pd.read_excel('/content/drive/My Drive/Skripsi/sample_reviews_gabungan.xlsx')\n",
        "corpus.head()"
      ],
      "metadata": {
        "colab": {
          "base_uri": "https://localhost:8080/",
          "height": 598
        },
        "id": "i10j3u51kW02",
        "outputId": "ee9f6141-b351-4556-9461-a84515a4b0bd"
      },
      "execution_count": null,
      "outputs": [
        {
          "output_type": "execute_result",
          "data": {
            "text/plain": [
              "   Unnamed: 0      pengguna  \\\n",
              "0           0    towongsing   \n",
              "1           1       fhyetan   \n",
              "2           2    MHHBJA2005   \n",
              "3           3   HarryRusuh2   \n",
              "4           4  ahmaddiontri   \n",
              "\n",
              "                                               tweet  \\\n",
              "0  RT @pengarang_sajak: Adakah simpati utk anak2 ...   \n",
              "1  @Nebuchanedzar_I @mudasir_11 @UpdateBolabola G...   \n",
              "2  Genap 8 tahun buat serangan pencerobohan ke at...   \n",
              "3  @NdaJoesh @HarryRidwan__Ay Mudah mudahan. Tera...   \n",
              "4  @andy24670125 @fadlizon Wkwkwk, padahal Saudi ...   \n",
              "\n",
              "                                         clean_tweet  \\\n",
              "0   Adakah simpati utk anak di Utara Pakistan yg ...   \n",
              "1  Gua kira itu bukan orang islam tapi Syiah jadi...   \n",
              "2  Genap tahun buat serangan pencerobohan ke atas...   \n",
              "3  Mudah mudahan Terakhir sebelom suspend Tadi ny...   \n",
              "4  Wkwkwk padahal Saudi hanya back up pemerintaha...   \n",
              "\n",
              "                                            en_tweet  \\\n",
              "0  Is a hoop for a child in North Pakistan whose ...   \n",
              "1  I don't think it's Muslim but Shia so don't be...   \n",
              "2  It's been a year since the invasion of Yemen, ...   \n",
              "3  Hopefully, lastly, before being suspended, I'v...   \n",
              "4  Wkwkwk even though the Saudis only back up the...   \n",
              "\n",
              "                                                text  \\\n",
              "0  is a hoop for a child in north pakistan whose ...   \n",
              "1  i don't think it's muslim but shia so don't be...   \n",
              "2  it's been a year since the invasion of yemen, ...   \n",
              "3  hopefully, lastly, before being suspended, i'v...   \n",
              "4  wkwkwk even though the saudis only back up the...   \n",
              "\n",
              "                                      text_tokenized  \\\n",
              "0  ['is', 'a', 'hoop', 'for', 'a', 'child', 'in',...   \n",
              "1  ['i', 'do', \"n't\", 'think', 'it', \"'s\", 'musli...   \n",
              "2  ['it', \"'s\", 'been', 'a', 'year', 'since', 'th...   \n",
              "3  ['hopefully', ',', 'lastly', ',', 'before', 'b...   \n",
              "4  ['wkwkwk', 'even', 'though', 'the', 'saudis', ...   \n",
              "\n",
              "                                        text_tagging  \\\n",
              "0  [('is', 'VBZ'), ('a', 'DT'), ('hoop', 'NN'), (...   \n",
              "1  [('i', 'NNS'), ('do', 'VBP'), (\"n't\", 'RB'), (...   \n",
              "2  [('it', 'PRP'), (\"'s\", 'VBZ'), ('been', 'VBN')...   \n",
              "3  [('hopefully', 'RB'), (',', ','), ('lastly', '...   \n",
              "4  [('wkwkwk', 'NN'), ('even', 'RB'), ('though', ...   \n",
              "\n",
              "                                       text_stopword  \\\n",
              "0  ['hoop', 'child', 'north', 'pakistan', 'whose'...   \n",
              "1  [\"n't\", 'think', \"'s\", 'muslim', 'shia', \"n't\"...   \n",
              "2  [\"'s\", 'year', 'since', 'invasion', 'yemen', '...   \n",
              "3  ['hopefully', ',', 'lastly', ',', 'suspended',...   \n",
              "4  ['wkwkwk', 'even', 'though', 'saudis', 'back',...   \n",
              "\n",
              "                                        text_stemmed  \\\n",
              "0  ['hoop', 'child', 'north', 'pakistan', 'whose'...   \n",
              "1  [\"n't\", 'think', \"'s\", 'muslim', 'shia', \"n't\"...   \n",
              "2  [\"'s\", 'year', 'sinc', 'invas', 'yemen', ',', ...   \n",
              "3  ['hope', ',', 'lastli', ',', 'suspend', ',', \"...   \n",
              "4  ['wkwkwk', 'even', 'though', 'saudi', 'back', ...   \n",
              "\n",
              "                                     text_lemmatized  polarity    label  \n",
              "0  ['hoop', 'child', 'north', 'pakistan', 'whose'...     -0.05  negatif  \n",
              "1  [\"n't\", 'think', \"'s\", 'muslim', 'shia', \"n't\"...      0.00   netral  \n",
              "2  [\"'s\", 'year', 'sinc', 'invas', 'yemen', ',', ...      0.00   netral  \n",
              "3  ['hope', ',', 'lastli', ',', 'suspend', ',', \"...      0.00   netral  \n",
              "4  ['wkwkwk', 'even', 'though', 'saudi', 'back', ...      0.00   netral  "
            ],
            "text/html": [
              "\n",
              "  <div id=\"df-8281dae8-1acd-4a98-9bef-e651dae4af0b\" class=\"colab-df-container\">\n",
              "    <div>\n",
              "<style scoped>\n",
              "    .dataframe tbody tr th:only-of-type {\n",
              "        vertical-align: middle;\n",
              "    }\n",
              "\n",
              "    .dataframe tbody tr th {\n",
              "        vertical-align: top;\n",
              "    }\n",
              "\n",
              "    .dataframe thead th {\n",
              "        text-align: right;\n",
              "    }\n",
              "</style>\n",
              "<table border=\"1\" class=\"dataframe\">\n",
              "  <thead>\n",
              "    <tr style=\"text-align: right;\">\n",
              "      <th></th>\n",
              "      <th>Unnamed: 0</th>\n",
              "      <th>pengguna</th>\n",
              "      <th>tweet</th>\n",
              "      <th>clean_tweet</th>\n",
              "      <th>en_tweet</th>\n",
              "      <th>text</th>\n",
              "      <th>text_tokenized</th>\n",
              "      <th>text_tagging</th>\n",
              "      <th>text_stopword</th>\n",
              "      <th>text_stemmed</th>\n",
              "      <th>text_lemmatized</th>\n",
              "      <th>polarity</th>\n",
              "      <th>label</th>\n",
              "    </tr>\n",
              "  </thead>\n",
              "  <tbody>\n",
              "    <tr>\n",
              "      <th>0</th>\n",
              "      <td>0</td>\n",
              "      <td>towongsing</td>\n",
              "      <td>RT @pengarang_sajak: Adakah simpati utk anak2 ...</td>\n",
              "      <td>Adakah simpati utk anak di Utara Pakistan yg ...</td>\n",
              "      <td>Is a hoop for a child in North Pakistan whose ...</td>\n",
              "      <td>is a hoop for a child in north pakistan whose ...</td>\n",
              "      <td>['is', 'a', 'hoop', 'for', 'a', 'child', 'in',...</td>\n",
              "      <td>[('is', 'VBZ'), ('a', 'DT'), ('hoop', 'NN'), (...</td>\n",
              "      <td>['hoop', 'child', 'north', 'pakistan', 'whose'...</td>\n",
              "      <td>['hoop', 'child', 'north', 'pakistan', 'whose'...</td>\n",
              "      <td>['hoop', 'child', 'north', 'pakistan', 'whose'...</td>\n",
              "      <td>-0.05</td>\n",
              "      <td>negatif</td>\n",
              "    </tr>\n",
              "    <tr>\n",
              "      <th>1</th>\n",
              "      <td>1</td>\n",
              "      <td>fhyetan</td>\n",
              "      <td>@Nebuchanedzar_I @mudasir_11 @UpdateBolabola G...</td>\n",
              "      <td>Gua kira itu bukan orang islam tapi Syiah jadi...</td>\n",
              "      <td>I don't think it's Muslim but Shia so don't be...</td>\n",
              "      <td>i don't think it's muslim but shia so don't be...</td>\n",
              "      <td>['i', 'do', \"n't\", 'think', 'it', \"'s\", 'musli...</td>\n",
              "      <td>[('i', 'NNS'), ('do', 'VBP'), (\"n't\", 'RB'), (...</td>\n",
              "      <td>[\"n't\", 'think', \"'s\", 'muslim', 'shia', \"n't\"...</td>\n",
              "      <td>[\"n't\", 'think', \"'s\", 'muslim', 'shia', \"n't\"...</td>\n",
              "      <td>[\"n't\", 'think', \"'s\", 'muslim', 'shia', \"n't\"...</td>\n",
              "      <td>0.00</td>\n",
              "      <td>netral</td>\n",
              "    </tr>\n",
              "    <tr>\n",
              "      <th>2</th>\n",
              "      <td>2</td>\n",
              "      <td>MHHBJA2005</td>\n",
              "      <td>Genap 8 tahun buat serangan pencerobohan ke at...</td>\n",
              "      <td>Genap tahun buat serangan pencerobohan ke atas...</td>\n",
              "      <td>It's been a year since the invasion of Yemen, ...</td>\n",
              "      <td>it's been a year since the invasion of yemen, ...</td>\n",
              "      <td>['it', \"'s\", 'been', 'a', 'year', 'since', 'th...</td>\n",
              "      <td>[('it', 'PRP'), (\"'s\", 'VBZ'), ('been', 'VBN')...</td>\n",
              "      <td>[\"'s\", 'year', 'since', 'invasion', 'yemen', '...</td>\n",
              "      <td>[\"'s\", 'year', 'sinc', 'invas', 'yemen', ',', ...</td>\n",
              "      <td>[\"'s\", 'year', 'sinc', 'invas', 'yemen', ',', ...</td>\n",
              "      <td>0.00</td>\n",
              "      <td>netral</td>\n",
              "    </tr>\n",
              "    <tr>\n",
              "      <th>3</th>\n",
              "      <td>3</td>\n",
              "      <td>HarryRusuh2</td>\n",
              "      <td>@NdaJoesh @HarryRidwan__Ay Mudah mudahan. Tera...</td>\n",
              "      <td>Mudah mudahan Terakhir sebelom suspend Tadi ny...</td>\n",
              "      <td>Hopefully, lastly, before being suspended, I'v...</td>\n",
              "      <td>hopefully, lastly, before being suspended, i'v...</td>\n",
              "      <td>['hopefully', ',', 'lastly', ',', 'before', 'b...</td>\n",
              "      <td>[('hopefully', 'RB'), (',', ','), ('lastly', '...</td>\n",
              "      <td>['hopefully', ',', 'lastly', ',', 'suspended',...</td>\n",
              "      <td>['hope', ',', 'lastli', ',', 'suspend', ',', \"...</td>\n",
              "      <td>['hope', ',', 'lastli', ',', 'suspend', ',', \"...</td>\n",
              "      <td>0.00</td>\n",
              "      <td>netral</td>\n",
              "    </tr>\n",
              "    <tr>\n",
              "      <th>4</th>\n",
              "      <td>4</td>\n",
              "      <td>ahmaddiontri</td>\n",
              "      <td>@andy24670125 @fadlizon Wkwkwk, padahal Saudi ...</td>\n",
              "      <td>Wkwkwk padahal Saudi hanya back up pemerintaha...</td>\n",
              "      <td>Wkwkwk even though the Saudis only back up the...</td>\n",
              "      <td>wkwkwk even though the saudis only back up the...</td>\n",
              "      <td>['wkwkwk', 'even', 'though', 'the', 'saudis', ...</td>\n",
              "      <td>[('wkwkwk', 'NN'), ('even', 'RB'), ('though', ...</td>\n",
              "      <td>['wkwkwk', 'even', 'though', 'saudis', 'back',...</td>\n",
              "      <td>['wkwkwk', 'even', 'though', 'saudi', 'back', ...</td>\n",
              "      <td>['wkwkwk', 'even', 'though', 'saudi', 'back', ...</td>\n",
              "      <td>0.00</td>\n",
              "      <td>netral</td>\n",
              "    </tr>\n",
              "  </tbody>\n",
              "</table>\n",
              "</div>\n",
              "    <div class=\"colab-df-buttons\">\n",
              "\n",
              "  <div class=\"colab-df-container\">\n",
              "    <button class=\"colab-df-convert\" onclick=\"convertToInteractive('df-8281dae8-1acd-4a98-9bef-e651dae4af0b')\"\n",
              "            title=\"Convert this dataframe to an interactive table.\"\n",
              "            style=\"display:none;\">\n",
              "\n",
              "  <svg xmlns=\"http://www.w3.org/2000/svg\" height=\"24px\" viewBox=\"0 -960 960 960\">\n",
              "    <path d=\"M120-120v-720h720v720H120Zm60-500h600v-160H180v160Zm220 220h160v-160H400v160Zm0 220h160v-160H400v160ZM180-400h160v-160H180v160Zm440 0h160v-160H620v160ZM180-180h160v-160H180v160Zm440 0h160v-160H620v160Z\"/>\n",
              "  </svg>\n",
              "    </button>\n",
              "\n",
              "  <style>\n",
              "    .colab-df-container {\n",
              "      display:flex;\n",
              "      gap: 12px;\n",
              "    }\n",
              "\n",
              "    .colab-df-convert {\n",
              "      background-color: #E8F0FE;\n",
              "      border: none;\n",
              "      border-radius: 50%;\n",
              "      cursor: pointer;\n",
              "      display: none;\n",
              "      fill: #1967D2;\n",
              "      height: 32px;\n",
              "      padding: 0 0 0 0;\n",
              "      width: 32px;\n",
              "    }\n",
              "\n",
              "    .colab-df-convert:hover {\n",
              "      background-color: #E2EBFA;\n",
              "      box-shadow: 0px 1px 2px rgba(60, 64, 67, 0.3), 0px 1px 3px 1px rgba(60, 64, 67, 0.15);\n",
              "      fill: #174EA6;\n",
              "    }\n",
              "\n",
              "    .colab-df-buttons div {\n",
              "      margin-bottom: 4px;\n",
              "    }\n",
              "\n",
              "    [theme=dark] .colab-df-convert {\n",
              "      background-color: #3B4455;\n",
              "      fill: #D2E3FC;\n",
              "    }\n",
              "\n",
              "    [theme=dark] .colab-df-convert:hover {\n",
              "      background-color: #434B5C;\n",
              "      box-shadow: 0px 1px 3px 1px rgba(0, 0, 0, 0.15);\n",
              "      filter: drop-shadow(0px 1px 2px rgba(0, 0, 0, 0.3));\n",
              "      fill: #FFFFFF;\n",
              "    }\n",
              "  </style>\n",
              "\n",
              "    <script>\n",
              "      const buttonEl =\n",
              "        document.querySelector('#df-8281dae8-1acd-4a98-9bef-e651dae4af0b button.colab-df-convert');\n",
              "      buttonEl.style.display =\n",
              "        google.colab.kernel.accessAllowed ? 'block' : 'none';\n",
              "\n",
              "      async function convertToInteractive(key) {\n",
              "        const element = document.querySelector('#df-8281dae8-1acd-4a98-9bef-e651dae4af0b');\n",
              "        const dataTable =\n",
              "          await google.colab.kernel.invokeFunction('convertToInteractive',\n",
              "                                                    [key], {});\n",
              "        if (!dataTable) return;\n",
              "\n",
              "        const docLinkHtml = 'Like what you see? Visit the ' +\n",
              "          '<a target=\"_blank\" href=https://colab.research.google.com/notebooks/data_table.ipynb>data table notebook</a>'\n",
              "          + ' to learn more about interactive tables.';\n",
              "        element.innerHTML = '';\n",
              "        dataTable['output_type'] = 'display_data';\n",
              "        await google.colab.output.renderOutput(dataTable, element);\n",
              "        const docLink = document.createElement('div');\n",
              "        docLink.innerHTML = docLinkHtml;\n",
              "        element.appendChild(docLink);\n",
              "      }\n",
              "    </script>\n",
              "  </div>\n",
              "\n",
              "\n",
              "<div id=\"df-268d6464-c15f-4be5-9a17-b0800c3e64fc\">\n",
              "  <button class=\"colab-df-quickchart\" onclick=\"quickchart('df-268d6464-c15f-4be5-9a17-b0800c3e64fc')\"\n",
              "            title=\"Suggest charts\"\n",
              "            style=\"display:none;\">\n",
              "\n",
              "<svg xmlns=\"http://www.w3.org/2000/svg\" height=\"24px\"viewBox=\"0 0 24 24\"\n",
              "     width=\"24px\">\n",
              "    <g>\n",
              "        <path d=\"M19 3H5c-1.1 0-2 .9-2 2v14c0 1.1.9 2 2 2h14c1.1 0 2-.9 2-2V5c0-1.1-.9-2-2-2zM9 17H7v-7h2v7zm4 0h-2V7h2v10zm4 0h-2v-4h2v4z\"/>\n",
              "    </g>\n",
              "</svg>\n",
              "  </button>\n",
              "\n",
              "<style>\n",
              "  .colab-df-quickchart {\n",
              "      --bg-color: #E8F0FE;\n",
              "      --fill-color: #1967D2;\n",
              "      --hover-bg-color: #E2EBFA;\n",
              "      --hover-fill-color: #174EA6;\n",
              "      --disabled-fill-color: #AAA;\n",
              "      --disabled-bg-color: #DDD;\n",
              "  }\n",
              "\n",
              "  [theme=dark] .colab-df-quickchart {\n",
              "      --bg-color: #3B4455;\n",
              "      --fill-color: #D2E3FC;\n",
              "      --hover-bg-color: #434B5C;\n",
              "      --hover-fill-color: #FFFFFF;\n",
              "      --disabled-bg-color: #3B4455;\n",
              "      --disabled-fill-color: #666;\n",
              "  }\n",
              "\n",
              "  .colab-df-quickchart {\n",
              "    background-color: var(--bg-color);\n",
              "    border: none;\n",
              "    border-radius: 50%;\n",
              "    cursor: pointer;\n",
              "    display: none;\n",
              "    fill: var(--fill-color);\n",
              "    height: 32px;\n",
              "    padding: 0;\n",
              "    width: 32px;\n",
              "  }\n",
              "\n",
              "  .colab-df-quickchart:hover {\n",
              "    background-color: var(--hover-bg-color);\n",
              "    box-shadow: 0 1px 2px rgba(60, 64, 67, 0.3), 0 1px 3px 1px rgba(60, 64, 67, 0.15);\n",
              "    fill: var(--button-hover-fill-color);\n",
              "  }\n",
              "\n",
              "  .colab-df-quickchart-complete:disabled,\n",
              "  .colab-df-quickchart-complete:disabled:hover {\n",
              "    background-color: var(--disabled-bg-color);\n",
              "    fill: var(--disabled-fill-color);\n",
              "    box-shadow: none;\n",
              "  }\n",
              "\n",
              "  .colab-df-spinner {\n",
              "    border: 2px solid var(--fill-color);\n",
              "    border-color: transparent;\n",
              "    border-bottom-color: var(--fill-color);\n",
              "    animation:\n",
              "      spin 1s steps(1) infinite;\n",
              "  }\n",
              "\n",
              "  @keyframes spin {\n",
              "    0% {\n",
              "      border-color: transparent;\n",
              "      border-bottom-color: var(--fill-color);\n",
              "      border-left-color: var(--fill-color);\n",
              "    }\n",
              "    20% {\n",
              "      border-color: transparent;\n",
              "      border-left-color: var(--fill-color);\n",
              "      border-top-color: var(--fill-color);\n",
              "    }\n",
              "    30% {\n",
              "      border-color: transparent;\n",
              "      border-left-color: var(--fill-color);\n",
              "      border-top-color: var(--fill-color);\n",
              "      border-right-color: var(--fill-color);\n",
              "    }\n",
              "    40% {\n",
              "      border-color: transparent;\n",
              "      border-right-color: var(--fill-color);\n",
              "      border-top-color: var(--fill-color);\n",
              "    }\n",
              "    60% {\n",
              "      border-color: transparent;\n",
              "      border-right-color: var(--fill-color);\n",
              "    }\n",
              "    80% {\n",
              "      border-color: transparent;\n",
              "      border-right-color: var(--fill-color);\n",
              "      border-bottom-color: var(--fill-color);\n",
              "    }\n",
              "    90% {\n",
              "      border-color: transparent;\n",
              "      border-bottom-color: var(--fill-color);\n",
              "    }\n",
              "  }\n",
              "</style>\n",
              "\n",
              "  <script>\n",
              "    async function quickchart(key) {\n",
              "      const quickchartButtonEl =\n",
              "        document.querySelector('#' + key + ' button');\n",
              "      quickchartButtonEl.disabled = true;  // To prevent multiple clicks.\n",
              "      quickchartButtonEl.classList.add('colab-df-spinner');\n",
              "      try {\n",
              "        const charts = await google.colab.kernel.invokeFunction(\n",
              "            'suggestCharts', [key], {});\n",
              "      } catch (error) {\n",
              "        console.error('Error during call to suggestCharts:', error);\n",
              "      }\n",
              "      quickchartButtonEl.classList.remove('colab-df-spinner');\n",
              "      quickchartButtonEl.classList.add('colab-df-quickchart-complete');\n",
              "    }\n",
              "    (() => {\n",
              "      let quickchartButtonEl =\n",
              "        document.querySelector('#df-268d6464-c15f-4be5-9a17-b0800c3e64fc button');\n",
              "      quickchartButtonEl.style.display =\n",
              "        google.colab.kernel.accessAllowed ? 'block' : 'none';\n",
              "    })();\n",
              "  </script>\n",
              "</div>\n",
              "    </div>\n",
              "  </div>\n"
            ]
          },
          "metadata": {},
          "execution_count": 10
        }
      ]
    },
    {
      "cell_type": "markdown",
      "source": [
        "# Text Classification dan Kalkulasi Akurasi\n",
        "data training 70% dan data testing 30% dengan menjadikan test_size=0.3"
      ],
      "metadata": {
        "id": "hD4yx7E-kx3K"
      }
    },
    {
      "cell_type": "code",
      "source": [
        "#rename colume text_lemmatized into text_final\n",
        "corpus = corpus.rename(columns={'text_lemmatized':'text_final'})\n",
        "\n",
        "#HOLD-OUT - Dividing testing and training data\n",
        "#Train_X,Test_X,Train_Y,Test_Y = model_selection.train_test_split(df_new['text_final'],df_new['label'],test_size=0.3)\n",
        "#Train_X,Test_X,Train_Y,Test_Y = model_selection.train_test_split(df_new['text_final'],df_new['label'],test_size=0.33, random_state=66)\n",
        "Train_X,Test_X,Train_Y,Test_Y = train_test_split(corpus['text_final'],corpus['label'],test_size=0.3)\n",
        "\n",
        "# Label encode - transform Categorical data of string (negatif, netral, positif) into numerical values (0,1,2)\n",
        "Encoder = LabelEncoder()\n",
        "Train_Y = Encoder.fit_transform(Train_Y)\n",
        "Test_Y = Encoder.fit_transform(Test_Y)"
      ],
      "metadata": {
        "id": "gqZAtcfrkuKO"
      },
      "execution_count": null,
      "outputs": []
    },
    {
      "cell_type": "code",
      "source": [
        "#TF-IDF Vectorizer\n",
        "Tfidf_vect = TfidfVectorizer(max_features=5000)\n",
        "Tfidf_vect.fit(corpus['text_final'])\n",
        "\n",
        "Train_X_Tfidf = Tfidf_vect.transform(Train_X)\n",
        "Test_X_Tfidf = Tfidf_vect.transform(Test_X)\n",
        "\n",
        "#CHECKING\n",
        "print(Tfidf_vect.vocabulary_)\n",
        "print(Train_X_Tfidf)"
      ],
      "metadata": {
        "colab": {
          "base_uri": "https://localhost:8080/"
        },
        "id": "g1qs-92Fk4Wh",
        "outputId": "5168b246-e069-4470-d909-e127e5d94403"
      },
      "execution_count": null,
      "outputs": [
        {
          "output_type": "stream",
          "name": "stdout",
          "text": [
            "{'hoop': 138, 'child': 55, 'north': 211, 'pakistan': 218, 'whose': 325, 'parent': 220, 'slaughter': 271, 'taliban': 295, 'shiit': 267, 'minor': 194, 'think': 304, 'muslim': 203, 'shia': 265, 'surpris': 289, 'someon': 274, 'year': 332, 'sinc': 269, 'invas': 148, 'yemen': 333, 'sunnah': 287, 'peopl': 224, 'yam': 330, 'hope': 139, 'lastli': 170, 'suspend': 290, 've': 320, 'start': 278, 'get': 123, 'critic': 72, 'wkwkwk': 326, 'even': 100, 'though': 305, 'saudi': 258, 'back': 32, 'yemeni': 334, 'govern': 128, 'houthi': 140, 'rebellion': 249, 'complic': 65, 'koranist': 168, 'alway': 15, 'point': 229, 'pray': 233, 'oh': 212, 'accord': 5, 'tradit': 308, 'mean': 191, 'stingi': 283, 'person': 226, 'follow': 115, 'follback': 114, 'porn': 231, 'pl': 228, 'cebong': 52, 'buzzerp': 50, 'pki': 227, 'blasphemi': 44, 'li': 173, 'bashar': 36, 'al': 10, 'assad': 25, 'armi': 22, 'israel': 154, 'behavior': 37, 'bad': 33, 'month': 198, 'ramadhan': 245, 'best': 39, 'opportun': 213, 'make': 183, 'peac': 223, 'allah': 13, 'swt': 291, 'gloriou': 126, 'give': 124, 'servant': 262, 'imam': 145, 'ali': 12, 'zainal': 336, 'abidin': 1, 'right': 255, 'fast': 107, 'discus': 83, 'act': 6, 'worship': 328, 'day': 75, 'prayer': 234, 'read': 246, 'full': 120, 'enjoy': 96, 'updat': 319, 'link': 178, 'given': 125, 'istiqomah': 156, 'say': 259, 'claim': 59, 'padang': 217, 'see': 260, 'face': 104, 'name': 205, 'fix': 112, 'arab': 19, 'descent': 78, 'mukeny': 202, 'bin': 42, 'abi': 0, 'talib': 294, 'said': 256, 'abstain': 3, 'eat': 89, 'drink': 87, 'stay': 281, 'away': 30, 'everyth': 101, 'ramadan': 244, 'problem': 238, 'human': 141, 'mani': 186, 'young': 335, 'civilian': 58, 'expo': 103, 'daili': 73, 'th': 302, 'deztron': 80, 'technolog': 299, 'lead': 171, 'guarante': 130, 'product': 239, 'effici': 92, 'smart': 272, 'like': 177, 'bewar': 40, 'jil': 160, 'repeatedli': 253, 'sparrow': 275, 'necessarili': 206, 'christian': 56, 'emprit': 94, 'hajj': 131, 'bangkok': 35, 'chicken': 54, 'arhh': 21, 'noisi': 210, 'ar': 18, 'hang': 134, 'mutaah': 204, 'sapot': 257, 'mind': 193, 'distanc': 84, 'turn': 312, 'origin': 214, 'issu': 155, 'seem': 261, 'simpl': 268, 'question': 243, 'era': 98, 'terror': 301, 'mark': 189, 'bu': 49, 'never': 208, 'stop': 284, 'attack': 28, 'viral': 322, 'keun': 164, 'danger': 74, 'stage': 277, 'matur': 190, 'societi': 273, 'easili': 88, 'punish': 241, 'wahhabi': 324, 'belief': 38, 'chang': 53, 'iran': 150, 'angel': 17, 'gabriel': 121, 'wrong': 329, 'revel': 254, 'famili': 106, 'broken': 48, 'ah': 9, 'unstabl': 318, 'long': 179, 'twitter': 313, 'pro': 237, 'cathol': 51, 'itj': 157, 'present': 236, 'high': 137, 'qual': 242, 'tech': 298, 'complement': 64, 'life': 176, 'need': 207, 'flower': 113, 'pot': 232, 'gang': 122, 'let': 172, 'go': 127, 'dog': 85, 'readi': 247, 'packag': 216, 'come': 62, 'directli': 82, 'parliament': 221, 'statement': 280, 'egypt': 93, 'state': 279, 'misguid': 195, 'islam': 152, 'made': 181, 'tri': 309, 'realli': 248, 'hard': 135, 'today': 307, 'enter': 97, 'kaaba': 161, 'great': 129, 'bless': 45, 'dream': 86, 'symbol': 292, 'truth': 311, 'husni': 142, 'mubarak': 199, 'ter': 300, 'kimak': 167, 'actor': 7, 'assist': 26, 'lick': 175, 'black': 43, 'kwkwkw': 169, 'bhrwi': 41, 'politic': 230, 'religion': 252, 'continu': 67, 'taqiyyah': 297, 'kafir': 162, 'ask': 24, 'alazhar': 11, 'confirm': 66, 'deviat': 79, 'kalau': 163, 'proof': 240, 'talk': 296, 'evid': 102, 'slander': 270, 'especi': 99, 'true': 310, 'muhammadiyah': 201, 'orma': 215, 'fill': 110, 'academ': 4, 'educ': 91, 'food': 116, 'viciou': 321, 'circl': 57, 'indonesia': 147, 'hate': 136, 'jew': 159, 'brave': 46, 'abl': 2, 'fight': 109, 'iranian': 151, 'major': 182, 'palestin': 219, 'forget': 117, 'pe': 222, 'mufti': 200, 'arrest': 23, 'lost': 180, 'control': 68, 'unlik': 317, 'sunni': 288, 'free': 119, 'moder': 197, 'indic': 146, 'shame': 264, 'understand': 315, 'malay': 184, 'man': 185, 'bring': 47, 'shiia': 266, 'manipul': 187, 'thought': 306, 'medium': 192, 'correct': 70, 'percept': 225, 'spread': 276, 'thing': 303, 'fact': 105, 'azhar': 31, 'mistaken': 196, 'studi': 285, 'hypocrit': 143, 'coloni': 61, 'countri': 71, 'admit': 8, 'diplomaci': 81, 'regim': 250, 'ira': 149, 'ye': 331, 'still': 282, 'shaman': 263, 'khawarij': 165, 'takfiri': 293, 'amp': 16, 'also': 14, 'ijtihad': 144, 'halal': 132, 'kill': 166, 'fellow': 108, 'archipelago': 20, 'two': 314, 'island': 153, 'sumatra': 286, 'java': 158, 'unit': 316, 'pre': 235, 'religi': 251, 'maritim': 188, 'author': 29, 'clear': 60, 'enemi': 95, 'definit': 77, 'communist': 63, 'half': 133, 'bak': 34, 'atheist': 27, 'liber': 174, 'corner': 69, 'defend': 76, 'wkwkwkwk': 327, 'form': 118, 'econom': 90, 'nois': 209, 'finish': 111, 'wahhab': 323}\n",
            "  (0, 283)\t0.5409216286344691\n",
            "  (0, 231)\t0.27046081431723457\n",
            "  (0, 228)\t0.27046081431723457\n",
            "  (0, 227)\t0.27046081431723457\n",
            "  (0, 226)\t0.27046081431723457\n",
            "  (0, 173)\t0.27046081431723457\n",
            "  (0, 115)\t0.22150016466169675\n",
            "  (0, 114)\t0.27046081431723457\n",
            "  (0, 52)\t0.27046081431723457\n",
            "  (0, 50)\t0.27046081431723457\n",
            "  (0, 44)\t0.27046081431723457\n",
            "  (1, 299)\t0.5746510717709838\n",
            "  (1, 272)\t0.3225256111076525\n",
            "  (1, 239)\t0.2873255358854919\n",
            "  (1, 183)\t0.26413983906801786\n",
            "  (1, 171)\t0.3225256111076525\n",
            "  (1, 130)\t0.3225256111076525\n",
            "  (1, 92)\t0.35046548264375044\n",
            "  (1, 80)\t0.2873255358854919\n",
            "  (2, 302)\t0.5046203327390096\n",
            "  (2, 245)\t0.3861755572767553\n",
            "  (2, 234)\t0.4132705400429178\n",
            "  (2, 75)\t0.4132705400429178\n",
            "  (2, 73)\t0.5046203327390096\n",
            "  (3, 304)\t0.4829393151398956\n",
            "  :\t:\n",
            "  (78, 100)\t0.257998610577771\n",
            "  (78, 21)\t0.35713808972890054\n",
            "  (78, 18)\t0.35713808972890054\n",
            "  (79, 244)\t0.6535201969817683\n",
            "  (79, 234)\t0.535215541691808\n",
            "  (79, 75)\t0.535215541691808\n",
            "  (80, 322)\t0.3211199573482031\n",
            "  (80, 301)\t0.3211199573482031\n",
            "  (80, 265)\t0.11910823723808112\n",
            "  (80, 208)\t0.28607329356490163\n",
            "  (80, 189)\t0.3211199573482031\n",
            "  (80, 177)\t0.2457464958031481\n",
            "  (80, 164)\t0.3211199573482031\n",
            "  (80, 111)\t0.3489380593748089\n",
            "  (80, 98)\t0.3211199573482031\n",
            "  (80, 49)\t0.3211199573482031\n",
            "  (80, 28)\t0.3211199573482031\n",
            "  (81, 280)\t0.29582821249138697\n",
            "  (81, 265)\t0.1339813616051372\n",
            "  (81, 258)\t0.27643302328103003\n",
            "  (81, 241)\t0.32179545495311324\n",
            "  (81, 200)\t0.3612184188243552\n",
            "  (81, 195)\t0.5916564249827739\n",
            "  (81, 93)\t0.32179545495311324\n",
            "  (81, 23)\t0.3612184188243552\n"
          ]
        }
      ]
    },
    {
      "cell_type": "markdown",
      "source": [
        "SVM Classifier Algorithm (Support vector machine Algorithm)\n",
        "\n",
        "Hyperparameter Tuning"
      ],
      "metadata": {
        "id": "nPlMrsYKk-VP"
      }
    },
    {
      "cell_type": "code",
      "source": [
        "from sklearn.model_selection import GridSearchCV\n",
        "\n",
        "# defining parameter range\n",
        "param_grid = {'C': [0.1, 1, 10, 100, 1000],\n",
        "              'gamma': [1, 0.1, 0.01, 0.001, 0.0001],\n",
        "              'kernel': ['rbf']}\n",
        "\n",
        "grid = GridSearchCV(SVC(), param_grid, refit = True, verbose=3)\n",
        "\n",
        "# fitting the model for grid search\n",
        "grid.fit(Train_X_Tfidf, Train_Y)"
      ],
      "metadata": {
        "colab": {
          "base_uri": "https://localhost:8080/",
          "height": 1000
        },
        "id": "RooVLAAJk48q",
        "outputId": "d5852020-3031-408f-c8da-f5f98eb57f11"
      },
      "execution_count": null,
      "outputs": [
        {
          "output_type": "stream",
          "name": "stdout",
          "text": [
            "Fitting 5 folds for each of 25 candidates, totalling 125 fits\n",
            "[CV 1/5] END ........C=0.1, gamma=1, kernel=rbf;, score=0.588 total time=   0.0s\n",
            "[CV 2/5] END ........C=0.1, gamma=1, kernel=rbf;, score=0.529 total time=   0.0s\n",
            "[CV 3/5] END ........C=0.1, gamma=1, kernel=rbf;, score=0.562 total time=   0.0s\n",
            "[CV 4/5] END ........C=0.1, gamma=1, kernel=rbf;, score=0.562 total time=   0.0s\n",
            "[CV 5/5] END ........C=0.1, gamma=1, kernel=rbf;, score=0.562 total time=   0.0s\n",
            "[CV 1/5] END ......C=0.1, gamma=0.1, kernel=rbf;, score=0.588 total time=   0.0s\n",
            "[CV 2/5] END ......C=0.1, gamma=0.1, kernel=rbf;, score=0.529 total time=   0.0s\n",
            "[CV 3/5] END ......C=0.1, gamma=0.1, kernel=rbf;, score=0.562 total time=   0.0s\n",
            "[CV 4/5] END ......C=0.1, gamma=0.1, kernel=rbf;, score=0.562 total time=   0.0s\n",
            "[CV 5/5] END ......C=0.1, gamma=0.1, kernel=rbf;, score=0.562 total time=   0.0s\n",
            "[CV 1/5] END .....C=0.1, gamma=0.01, kernel=rbf;, score=0.588 total time=   0.0s\n",
            "[CV 2/5] END .....C=0.1, gamma=0.01, kernel=rbf;, score=0.529 total time=   0.0s\n",
            "[CV 3/5] END .....C=0.1, gamma=0.01, kernel=rbf;, score=0.562 total time=   0.0s\n",
            "[CV 4/5] END .....C=0.1, gamma=0.01, kernel=rbf;, score=0.562 total time=   0.0s\n",
            "[CV 5/5] END .....C=0.1, gamma=0.01, kernel=rbf;, score=0.562 total time=   0.0s\n",
            "[CV 1/5] END ....C=0.1, gamma=0.001, kernel=rbf;, score=0.588 total time=   0.0s\n",
            "[CV 2/5] END ....C=0.1, gamma=0.001, kernel=rbf;, score=0.529 total time=   0.0s\n",
            "[CV 3/5] END ....C=0.1, gamma=0.001, kernel=rbf;, score=0.562 total time=   0.0s\n",
            "[CV 4/5] END ....C=0.1, gamma=0.001, kernel=rbf;, score=0.562 total time=   0.0s\n",
            "[CV 5/5] END ....C=0.1, gamma=0.001, kernel=rbf;, score=0.562 total time=   0.0s\n",
            "[CV 1/5] END ...C=0.1, gamma=0.0001, kernel=rbf;, score=0.588 total time=   0.0s\n",
            "[CV 2/5] END ...C=0.1, gamma=0.0001, kernel=rbf;, score=0.529 total time=   0.0s\n",
            "[CV 3/5] END ...C=0.1, gamma=0.0001, kernel=rbf;, score=0.562 total time=   0.0s\n",
            "[CV 4/5] END ...C=0.1, gamma=0.0001, kernel=rbf;, score=0.562 total time=   0.0s\n",
            "[CV 5/5] END ...C=0.1, gamma=0.0001, kernel=rbf;, score=0.562 total time=   0.0s\n",
            "[CV 1/5] END ..........C=1, gamma=1, kernel=rbf;, score=0.882 total time=   0.0s\n",
            "[CV 2/5] END ..........C=1, gamma=1, kernel=rbf;, score=0.882 total time=   0.0s\n",
            "[CV 3/5] END ..........C=1, gamma=1, kernel=rbf;, score=0.812 total time=   0.0s\n",
            "[CV 4/5] END ..........C=1, gamma=1, kernel=rbf;, score=0.750 total time=   0.0s\n",
            "[CV 5/5] END ..........C=1, gamma=1, kernel=rbf;, score=0.938 total time=   0.0s\n",
            "[CV 1/5] END ........C=1, gamma=0.1, kernel=rbf;, score=0.588 total time=   0.0s\n",
            "[CV 2/5] END ........C=1, gamma=0.1, kernel=rbf;, score=0.529 total time=   0.0s\n",
            "[CV 3/5] END ........C=1, gamma=0.1, kernel=rbf;, score=0.562 total time=   0.0s\n",
            "[CV 4/5] END ........C=1, gamma=0.1, kernel=rbf;, score=0.562 total time=   0.0s\n",
            "[CV 5/5] END ........C=1, gamma=0.1, kernel=rbf;, score=0.562 total time=   0.0s\n",
            "[CV 1/5] END .......C=1, gamma=0.01, kernel=rbf;, score=0.588 total time=   0.0s\n",
            "[CV 2/5] END .......C=1, gamma=0.01, kernel=rbf;, score=0.529 total time=   0.0s\n",
            "[CV 3/5] END .......C=1, gamma=0.01, kernel=rbf;, score=0.562 total time=   0.0s\n",
            "[CV 4/5] END .......C=1, gamma=0.01, kernel=rbf;, score=0.562 total time=   0.0s\n",
            "[CV 5/5] END .......C=1, gamma=0.01, kernel=rbf;, score=0.562 total time=   0.0s\n",
            "[CV 1/5] END ......C=1, gamma=0.001, kernel=rbf;, score=0.588 total time=   0.0s\n",
            "[CV 2/5] END ......C=1, gamma=0.001, kernel=rbf;, score=0.529 total time=   0.0s\n",
            "[CV 3/5] END ......C=1, gamma=0.001, kernel=rbf;, score=0.562 total time=   0.0s\n",
            "[CV 4/5] END ......C=1, gamma=0.001, kernel=rbf;, score=0.562 total time=   0.0s\n",
            "[CV 5/5] END ......C=1, gamma=0.001, kernel=rbf;, score=0.562 total time=   0.0s\n",
            "[CV 1/5] END .....C=1, gamma=0.0001, kernel=rbf;, score=0.588 total time=   0.0s\n",
            "[CV 2/5] END .....C=1, gamma=0.0001, kernel=rbf;, score=0.529 total time=   0.0s\n",
            "[CV 3/5] END .....C=1, gamma=0.0001, kernel=rbf;, score=0.562 total time=   0.0s\n",
            "[CV 4/5] END .....C=1, gamma=0.0001, kernel=rbf;, score=0.562 total time=   0.0s\n",
            "[CV 5/5] END .....C=1, gamma=0.0001, kernel=rbf;, score=0.562 total time=   0.0s\n",
            "[CV 1/5] END .........C=10, gamma=1, kernel=rbf;, score=0.882 total time=   0.0s\n",
            "[CV 2/5] END .........C=10, gamma=1, kernel=rbf;, score=0.882 total time=   0.0s\n",
            "[CV 3/5] END .........C=10, gamma=1, kernel=rbf;, score=0.812 total time=   0.0s\n",
            "[CV 4/5] END .........C=10, gamma=1, kernel=rbf;, score=0.812 total time=   0.0s\n",
            "[CV 5/5] END .........C=10, gamma=1, kernel=rbf;, score=1.000 total time=   0.0s\n",
            "[CV 1/5] END .......C=10, gamma=0.1, kernel=rbf;, score=0.882 total time=   0.0s\n",
            "[CV 2/5] END .......C=10, gamma=0.1, kernel=rbf;, score=0.882 total time=   0.0s\n",
            "[CV 3/5] END .......C=10, gamma=0.1, kernel=rbf;, score=0.750 total time=   0.0s\n",
            "[CV 4/5] END .......C=10, gamma=0.1, kernel=rbf;, score=0.812 total time=   0.0s\n",
            "[CV 5/5] END .......C=10, gamma=0.1, kernel=rbf;, score=1.000 total time=   0.0s\n",
            "[CV 1/5] END ......C=10, gamma=0.01, kernel=rbf;, score=0.588 total time=   0.0s\n",
            "[CV 2/5] END ......C=10, gamma=0.01, kernel=rbf;, score=0.529 total time=   0.0s\n",
            "[CV 3/5] END ......C=10, gamma=0.01, kernel=rbf;, score=0.562 total time=   0.0s\n",
            "[CV 4/5] END ......C=10, gamma=0.01, kernel=rbf;, score=0.562 total time=   0.0s\n",
            "[CV 5/5] END ......C=10, gamma=0.01, kernel=rbf;, score=0.562 total time=   0.0s\n",
            "[CV 1/5] END .....C=10, gamma=0.001, kernel=rbf;, score=0.588 total time=   0.0s\n",
            "[CV 2/5] END .....C=10, gamma=0.001, kernel=rbf;, score=0.529 total time=   0.0s\n",
            "[CV 3/5] END .....C=10, gamma=0.001, kernel=rbf;, score=0.562 total time=   0.0s\n",
            "[CV 4/5] END .....C=10, gamma=0.001, kernel=rbf;, score=0.562 total time=   0.0s\n",
            "[CV 5/5] END .....C=10, gamma=0.001, kernel=rbf;, score=0.562 total time=   0.0s\n",
            "[CV 1/5] END ....C=10, gamma=0.0001, kernel=rbf;, score=0.588 total time=   0.0s\n",
            "[CV 2/5] END ....C=10, gamma=0.0001, kernel=rbf;, score=0.529 total time=   0.0s\n",
            "[CV 3/5] END ....C=10, gamma=0.0001, kernel=rbf;, score=0.562 total time=   0.0s\n",
            "[CV 4/5] END ....C=10, gamma=0.0001, kernel=rbf;, score=0.562 total time=   0.0s\n",
            "[CV 5/5] END ....C=10, gamma=0.0001, kernel=rbf;, score=0.562 total time=   0.0s\n",
            "[CV 1/5] END ........C=100, gamma=1, kernel=rbf;, score=0.882 total time=   0.0s\n",
            "[CV 2/5] END ........C=100, gamma=1, kernel=rbf;, score=0.882 total time=   0.0s\n",
            "[CV 3/5] END ........C=100, gamma=1, kernel=rbf;, score=0.812 total time=   0.0s\n",
            "[CV 4/5] END ........C=100, gamma=1, kernel=rbf;, score=0.812 total time=   0.0s\n",
            "[CV 5/5] END ........C=100, gamma=1, kernel=rbf;, score=1.000 total time=   0.0s\n",
            "[CV 1/5] END ......C=100, gamma=0.1, kernel=rbf;, score=0.882 total time=   0.0s\n",
            "[CV 2/5] END ......C=100, gamma=0.1, kernel=rbf;, score=0.882 total time=   0.0s\n",
            "[CV 3/5] END ......C=100, gamma=0.1, kernel=rbf;, score=0.750 total time=   0.0s\n",
            "[CV 4/5] END ......C=100, gamma=0.1, kernel=rbf;, score=0.812 total time=   0.0s\n",
            "[CV 5/5] END ......C=100, gamma=0.1, kernel=rbf;, score=1.000 total time=   0.0s\n",
            "[CV 1/5] END .....C=100, gamma=0.01, kernel=rbf;, score=0.882 total time=   0.0s\n",
            "[CV 2/5] END .....C=100, gamma=0.01, kernel=rbf;, score=0.882 total time=   0.0s\n",
            "[CV 3/5] END .....C=100, gamma=0.01, kernel=rbf;, score=0.750 total time=   0.0s\n",
            "[CV 4/5] END .....C=100, gamma=0.01, kernel=rbf;, score=0.875 total time=   0.0s\n",
            "[CV 5/5] END .....C=100, gamma=0.01, kernel=rbf;, score=1.000 total time=   0.0s\n",
            "[CV 1/5] END ....C=100, gamma=0.001, kernel=rbf;, score=0.588 total time=   0.0s\n",
            "[CV 2/5] END ....C=100, gamma=0.001, kernel=rbf;, score=0.529 total time=   0.0s\n",
            "[CV 3/5] END ....C=100, gamma=0.001, kernel=rbf;, score=0.562 total time=   0.0s\n",
            "[CV 4/5] END ....C=100, gamma=0.001, kernel=rbf;, score=0.562 total time=   0.0s\n",
            "[CV 5/5] END ....C=100, gamma=0.001, kernel=rbf;, score=0.562 total time=   0.0s\n",
            "[CV 1/5] END ...C=100, gamma=0.0001, kernel=rbf;, score=0.588 total time=   0.0s\n",
            "[CV 2/5] END ...C=100, gamma=0.0001, kernel=rbf;, score=0.529 total time=   0.0s\n",
            "[CV 3/5] END ...C=100, gamma=0.0001, kernel=rbf;, score=0.562 total time=   0.0s\n",
            "[CV 4/5] END ...C=100, gamma=0.0001, kernel=rbf;, score=0.562 total time=   0.0s\n",
            "[CV 5/5] END ...C=100, gamma=0.0001, kernel=rbf;, score=0.562 total time=   0.0s\n",
            "[CV 1/5] END .......C=1000, gamma=1, kernel=rbf;, score=0.882 total time=   0.0s\n",
            "[CV 2/5] END .......C=1000, gamma=1, kernel=rbf;, score=0.882 total time=   0.0s\n",
            "[CV 3/5] END .......C=1000, gamma=1, kernel=rbf;, score=0.812 total time=   0.0s\n",
            "[CV 4/5] END .......C=1000, gamma=1, kernel=rbf;, score=0.812 total time=   0.0s\n",
            "[CV 5/5] END .......C=1000, gamma=1, kernel=rbf;, score=1.000 total time=   0.0s\n",
            "[CV 1/5] END .....C=1000, gamma=0.1, kernel=rbf;, score=0.882 total time=   0.0s\n",
            "[CV 2/5] END .....C=1000, gamma=0.1, kernel=rbf;, score=0.882 total time=   0.0s\n",
            "[CV 3/5] END .....C=1000, gamma=0.1, kernel=rbf;, score=0.750 total time=   0.0s\n",
            "[CV 4/5] END .....C=1000, gamma=0.1, kernel=rbf;, score=0.812 total time=   0.0s\n",
            "[CV 5/5] END .....C=1000, gamma=0.1, kernel=rbf;, score=1.000 total time=   0.0s\n",
            "[CV 1/5] END ....C=1000, gamma=0.01, kernel=rbf;, score=0.882 total time=   0.0s\n",
            "[CV 2/5] END ....C=1000, gamma=0.01, kernel=rbf;, score=0.882 total time=   0.0s\n",
            "[CV 3/5] END ....C=1000, gamma=0.01, kernel=rbf;, score=0.750 total time=   0.0s\n",
            "[CV 4/5] END ....C=1000, gamma=0.01, kernel=rbf;, score=0.875 total time=   0.0s\n",
            "[CV 5/5] END ....C=1000, gamma=0.01, kernel=rbf;, score=1.000 total time=   0.0s\n",
            "[CV 1/5] END ...C=1000, gamma=0.001, kernel=rbf;, score=0.882 total time=   0.0s\n",
            "[CV 2/5] END ...C=1000, gamma=0.001, kernel=rbf;, score=0.882 total time=   0.0s\n",
            "[CV 3/5] END ...C=1000, gamma=0.001, kernel=rbf;, score=0.750 total time=   0.0s\n",
            "[CV 4/5] END ...C=1000, gamma=0.001, kernel=rbf;, score=0.875 total time=   0.0s\n",
            "[CV 5/5] END ...C=1000, gamma=0.001, kernel=rbf;, score=1.000 total time=   0.0s\n",
            "[CV 1/5] END ..C=1000, gamma=0.0001, kernel=rbf;, score=0.588 total time=   0.0s\n",
            "[CV 2/5] END ..C=1000, gamma=0.0001, kernel=rbf;, score=0.529 total time=   0.0s\n",
            "[CV 3/5] END ..C=1000, gamma=0.0001, kernel=rbf;, score=0.562 total time=   0.0s\n",
            "[CV 4/5] END ..C=1000, gamma=0.0001, kernel=rbf;, score=0.562 total time=   0.0s\n",
            "[CV 5/5] END ..C=1000, gamma=0.0001, kernel=rbf;, score=0.562 total time=   0.0s\n"
          ]
        },
        {
          "output_type": "execute_result",
          "data": {
            "text/plain": [
              "GridSearchCV(estimator=SVC(),\n",
              "             param_grid={'C': [0.1, 1, 10, 100, 1000],\n",
              "                         'gamma': [1, 0.1, 0.01, 0.001, 0.0001],\n",
              "                         'kernel': ['rbf']},\n",
              "             verbose=3)"
            ],
            "text/html": [
              "<style>#sk-container-id-1 {color: black;background-color: white;}#sk-container-id-1 pre{padding: 0;}#sk-container-id-1 div.sk-toggleable {background-color: white;}#sk-container-id-1 label.sk-toggleable__label {cursor: pointer;display: block;width: 100%;margin-bottom: 0;padding: 0.3em;box-sizing: border-box;text-align: center;}#sk-container-id-1 label.sk-toggleable__label-arrow:before {content: \"▸\";float: left;margin-right: 0.25em;color: #696969;}#sk-container-id-1 label.sk-toggleable__label-arrow:hover:before {color: black;}#sk-container-id-1 div.sk-estimator:hover label.sk-toggleable__label-arrow:before {color: black;}#sk-container-id-1 div.sk-toggleable__content {max-height: 0;max-width: 0;overflow: hidden;text-align: left;background-color: #f0f8ff;}#sk-container-id-1 div.sk-toggleable__content pre {margin: 0.2em;color: black;border-radius: 0.25em;background-color: #f0f8ff;}#sk-container-id-1 input.sk-toggleable__control:checked~div.sk-toggleable__content {max-height: 200px;max-width: 100%;overflow: auto;}#sk-container-id-1 input.sk-toggleable__control:checked~label.sk-toggleable__label-arrow:before {content: \"▾\";}#sk-container-id-1 div.sk-estimator input.sk-toggleable__control:checked~label.sk-toggleable__label {background-color: #d4ebff;}#sk-container-id-1 div.sk-label input.sk-toggleable__control:checked~label.sk-toggleable__label {background-color: #d4ebff;}#sk-container-id-1 input.sk-hidden--visually {border: 0;clip: rect(1px 1px 1px 1px);clip: rect(1px, 1px, 1px, 1px);height: 1px;margin: -1px;overflow: hidden;padding: 0;position: absolute;width: 1px;}#sk-container-id-1 div.sk-estimator {font-family: monospace;background-color: #f0f8ff;border: 1px dotted black;border-radius: 0.25em;box-sizing: border-box;margin-bottom: 0.5em;}#sk-container-id-1 div.sk-estimator:hover {background-color: #d4ebff;}#sk-container-id-1 div.sk-parallel-item::after {content: \"\";width: 100%;border-bottom: 1px solid gray;flex-grow: 1;}#sk-container-id-1 div.sk-label:hover label.sk-toggleable__label {background-color: #d4ebff;}#sk-container-id-1 div.sk-serial::before {content: \"\";position: absolute;border-left: 1px solid gray;box-sizing: border-box;top: 0;bottom: 0;left: 50%;z-index: 0;}#sk-container-id-1 div.sk-serial {display: flex;flex-direction: column;align-items: center;background-color: white;padding-right: 0.2em;padding-left: 0.2em;position: relative;}#sk-container-id-1 div.sk-item {position: relative;z-index: 1;}#sk-container-id-1 div.sk-parallel {display: flex;align-items: stretch;justify-content: center;background-color: white;position: relative;}#sk-container-id-1 div.sk-item::before, #sk-container-id-1 div.sk-parallel-item::before {content: \"\";position: absolute;border-left: 1px solid gray;box-sizing: border-box;top: 0;bottom: 0;left: 50%;z-index: -1;}#sk-container-id-1 div.sk-parallel-item {display: flex;flex-direction: column;z-index: 1;position: relative;background-color: white;}#sk-container-id-1 div.sk-parallel-item:first-child::after {align-self: flex-end;width: 50%;}#sk-container-id-1 div.sk-parallel-item:last-child::after {align-self: flex-start;width: 50%;}#sk-container-id-1 div.sk-parallel-item:only-child::after {width: 0;}#sk-container-id-1 div.sk-dashed-wrapped {border: 1px dashed gray;margin: 0 0.4em 0.5em 0.4em;box-sizing: border-box;padding-bottom: 0.4em;background-color: white;}#sk-container-id-1 div.sk-label label {font-family: monospace;font-weight: bold;display: inline-block;line-height: 1.2em;}#sk-container-id-1 div.sk-label-container {text-align: center;}#sk-container-id-1 div.sk-container {/* jupyter's `normalize.less` sets `[hidden] { display: none; }` but bootstrap.min.css set `[hidden] { display: none !important; }` so we also need the `!important` here to be able to override the default hidden behavior on the sphinx rendered scikit-learn.org. See: https://github.com/scikit-learn/scikit-learn/issues/21755 */display: inline-block !important;position: relative;}#sk-container-id-1 div.sk-text-repr-fallback {display: none;}</style><div id=\"sk-container-id-1\" class=\"sk-top-container\"><div class=\"sk-text-repr-fallback\"><pre>GridSearchCV(estimator=SVC(),\n",
              "             param_grid={&#x27;C&#x27;: [0.1, 1, 10, 100, 1000],\n",
              "                         &#x27;gamma&#x27;: [1, 0.1, 0.01, 0.001, 0.0001],\n",
              "                         &#x27;kernel&#x27;: [&#x27;rbf&#x27;]},\n",
              "             verbose=3)</pre><b>In a Jupyter environment, please rerun this cell to show the HTML representation or trust the notebook. <br />On GitHub, the HTML representation is unable to render, please try loading this page with nbviewer.org.</b></div><div class=\"sk-container\" hidden><div class=\"sk-item sk-dashed-wrapped\"><div class=\"sk-label-container\"><div class=\"sk-label sk-toggleable\"><input class=\"sk-toggleable__control sk-hidden--visually\" id=\"sk-estimator-id-1\" type=\"checkbox\" ><label for=\"sk-estimator-id-1\" class=\"sk-toggleable__label sk-toggleable__label-arrow\">GridSearchCV</label><div class=\"sk-toggleable__content\"><pre>GridSearchCV(estimator=SVC(),\n",
              "             param_grid={&#x27;C&#x27;: [0.1, 1, 10, 100, 1000],\n",
              "                         &#x27;gamma&#x27;: [1, 0.1, 0.01, 0.001, 0.0001],\n",
              "                         &#x27;kernel&#x27;: [&#x27;rbf&#x27;]},\n",
              "             verbose=3)</pre></div></div></div><div class=\"sk-parallel\"><div class=\"sk-parallel-item\"><div class=\"sk-item\"><div class=\"sk-label-container\"><div class=\"sk-label sk-toggleable\"><input class=\"sk-toggleable__control sk-hidden--visually\" id=\"sk-estimator-id-2\" type=\"checkbox\" ><label for=\"sk-estimator-id-2\" class=\"sk-toggleable__label sk-toggleable__label-arrow\">estimator: SVC</label><div class=\"sk-toggleable__content\"><pre>SVC()</pre></div></div></div><div class=\"sk-serial\"><div class=\"sk-item\"><div class=\"sk-estimator sk-toggleable\"><input class=\"sk-toggleable__control sk-hidden--visually\" id=\"sk-estimator-id-3\" type=\"checkbox\" ><label for=\"sk-estimator-id-3\" class=\"sk-toggleable__label sk-toggleable__label-arrow\">SVC</label><div class=\"sk-toggleable__content\"><pre>SVC()</pre></div></div></div></div></div></div></div></div></div></div>"
            ]
          },
          "metadata": {},
          "execution_count": 13
        }
      ]
    },
    {
      "cell_type": "code",
      "source": [
        "# print best parameter after tuning\n",
        "print(grid.best_params_)\n",
        "\n",
        "# print how our model looks after hyper-parameter tunning\n",
        "print(grid.best_estimator_)"
      ],
      "metadata": {
        "colab": {
          "base_uri": "https://localhost:8080/"
        },
        "id": "kS3AW7fDlGwA",
        "outputId": "97ddee7e-d3ce-4ebb-a85a-5cf241735b6a"
      },
      "execution_count": null,
      "outputs": [
        {
          "output_type": "stream",
          "name": "stdout",
          "text": [
            "{'C': 10, 'gamma': 1, 'kernel': 'rbf'}\n",
            "SVC(C=10, gamma=1)\n"
          ]
        }
      ]
    },
    {
      "cell_type": "code",
      "source": [
        "# re-run prediction model\n",
        "grid_predictions = grid.predict(Test_X_Tfidf)\n",
        "\n",
        "#print classification report\n",
        "print(classification_report(Test_Y, grid_predictions))"
      ],
      "metadata": {
        "colab": {
          "base_uri": "https://localhost:8080/"
        },
        "id": "xhm_HjEalKJ1",
        "outputId": "2d3ff4bb-954d-4fa8-b7d8-914688a4b0ce"
      },
      "execution_count": null,
      "outputs": [
        {
          "output_type": "stream",
          "name": "stdout",
          "text": [
            "              precision    recall  f1-score   support\n",
            "\n",
            "           0       1.00      0.67      0.80         6\n",
            "           1       0.75      1.00      0.86        18\n",
            "           2       1.00      0.67      0.80        12\n",
            "\n",
            "    accuracy                           0.83        36\n",
            "   macro avg       0.92      0.78      0.82        36\n",
            "weighted avg       0.88      0.83      0.83        36\n",
            "\n"
          ]
        }
      ]
    },
    {
      "cell_type": "markdown",
      "source": [],
      "metadata": {
        "id": "d-jaO0a-dEEo"
      }
    },
    {
      "cell_type": "markdown",
      "source": [
        "Classifier - SVM Algorithm"
      ],
      "metadata": {
        "id": "NQgQYwGAmhxQ"
      }
    },
    {
      "cell_type": "code",
      "source": [
        "# fit the training dataset on the classifier\n",
        "SVM = svm.SVC(C=10, kernel='rbf', gamma=1)\n",
        "SVM.fit(Train_X_Tfidf,Train_Y)\n",
        "\n",
        "# predict the labels on validation dataset\n",
        "predictions_SVM = SVM.predict(Test_X_Tfidf)"
      ],
      "metadata": {
        "id": "6NhlCbLwmf4R"
      },
      "execution_count": null,
      "outputs": []
    },
    {
      "cell_type": "code",
      "source": [
        "# visualize classifier SVM algorithm toward the data\n",
        "conf_matrix = confusion_matrix(Test_Y, predictions_SVM)\n",
        "class_label = [\"NEGATIF\", \"NETRAL\", \"POSITIF\"]\n",
        "test = pd.DataFrame(conf_matrix, index = class_label, columns = class_label)\n",
        "sns.heatmap(test, annot = True, fmt = \"d\")\n",
        "plt.title(\"Confusion Matrix SVM\")\n",
        "plt.xlabel(\"Predicted Label\")\n",
        "plt.ylabel(\"True Label\")\n",
        "plt.show()"
      ],
      "metadata": {
        "colab": {
          "base_uri": "https://localhost:8080/",
          "height": 472
        },
        "id": "8FrjjSlSlNI0",
        "outputId": "7051bd4a-e2df-402b-f32e-05e2bd669053"
      },
      "execution_count": null,
      "outputs": [
        {
          "output_type": "display_data",
          "data": {
            "text/plain": [
              "<Figure size 640x480 with 2 Axes>"
            ],
            "image/png": "[encoded data removed]"
          },
          "metadata": {}
        }
      ]
    },
    {
      "cell_type": "code",
      "source": [
        "# SVM RESULT\n",
        "print(\"SVM RESULT\")\n",
        "print(\"Accuracy Score =\",accuracy_score(predictions_SVM, Test_Y))\n",
        "precision, recall, fscore, support = score(Test_Y, predictions_SVM, average='weighted')\n",
        "print(\"Precision =\", precision)\n",
        "print(\"Recall =\", recall)\n",
        "print(\"F-score =\", fscore)"
      ],
      "metadata": {
        "colab": {
          "base_uri": "https://localhost:8080/"
        },
        "id": "E369MF0HlWjH",
        "outputId": "6516ac5f-0546-4f89-de53-4364440d8c47"
      },
      "execution_count": null,
      "outputs": [
        {
          "output_type": "stream",
          "name": "stdout",
          "text": [
            "SVM RESULT\n",
            "Accuracy Score = 0.8333333333333334\n",
            "Precision = 0.875\n",
            "Recall = 0.8333333333333334\n",
            "F-score = 0.8285714285714286\n"
          ]
        }
      ]
    },
    {
      "cell_type": "markdown",
      "source": [
        "SVM Classifier Algorithm (Support vector machine Algorithm)\n",
        "\n",
        "data training 80% dan data testing 20% dengan menjadikan test_size=0.2"
      ],
      "metadata": {
        "id": "MEvNC1-WnA0X"
      }
    },
    {
      "cell_type": "code",
      "source": [
        "corpus = pd.read_excel('/content/drive/My Drive/Skripsi/sample_reviews_gabungan.xlsx')\n",
        "corpus.head()"
      ],
      "metadata": {
        "colab": {
          "base_uri": "https://localhost:8080/",
          "height": 598
        },
        "id": "Q76EFi7knAIL",
        "outputId": "b8e605e4-cd4f-4a41-e692-021bec796c50"
      },
      "execution_count": null,
      "outputs": [
        {
          "output_type": "execute_result",
          "data": {
            "text/plain": [
              "   Unnamed: 0      pengguna  \\\n",
              "0           0    towongsing   \n",
              "1           1       fhyetan   \n",
              "2           2    MHHBJA2005   \n",
              "3           3   HarryRusuh2   \n",
              "4           4  ahmaddiontri   \n",
              "\n",
              "                                               tweet  \\\n",
              "0  RT @pengarang_sajak: Adakah simpati utk anak2 ...   \n",
              "1  @Nebuchanedzar_I @mudasir_11 @UpdateBolabola G...   \n",
              "2  Genap 8 tahun buat serangan pencerobohan ke at...   \n",
              "3  @NdaJoesh @HarryRidwan__Ay Mudah mudahan. Tera...   \n",
              "4  @andy24670125 @fadlizon Wkwkwk, padahal Saudi ...   \n",
              "\n",
              "                                         clean_tweet  \\\n",
              "0   Adakah simpati utk anak di Utara Pakistan yg ...   \n",
              "1  Gua kira itu bukan orang islam tapi Syiah jadi...   \n",
              "2  Genap tahun buat serangan pencerobohan ke atas...   \n",
              "3  Mudah mudahan Terakhir sebelom suspend Tadi ny...   \n",
              "4  Wkwkwk padahal Saudi hanya back up pemerintaha...   \n",
              "\n",
              "                                            en_tweet  \\\n",
              "0  Is a hoop for a child in North Pakistan whose ...   \n",
              "1  I don't think it's Muslim but Shia so don't be...   \n",
              "2  It's been a year since the invasion of Yemen, ...   \n",
              "3  Hopefully, lastly, before being suspended, I'v...   \n",
              "4  Wkwkwk even though the Saudis only back up the...   \n",
              "\n",
              "                                                text  \\\n",
              "0  is a hoop for a child in north pakistan whose ...   \n",
              "1  i don't think it's muslim but shia so don't be...   \n",
              "2  it's been a year since the invasion of yemen, ...   \n",
              "3  hopefully, lastly, before being suspended, i'v...   \n",
              "4  wkwkwk even though the saudis only back up the...   \n",
              "\n",
              "                                      text_tokenized  \\\n",
              "0  ['is', 'a', 'hoop', 'for', 'a', 'child', 'in',...   \n",
              "1  ['i', 'do', \"n't\", 'think', 'it', \"'s\", 'musli...   \n",
              "2  ['it', \"'s\", 'been', 'a', 'year', 'since', 'th...   \n",
              "3  ['hopefully', ',', 'lastly', ',', 'before', 'b...   \n",
              "4  ['wkwkwk', 'even', 'though', 'the', 'saudis', ...   \n",
              "\n",
              "                                        text_tagging  \\\n",
              "0  [('is', 'VBZ'), ('a', 'DT'), ('hoop', 'NN'), (...   \n",
              "1  [('i', 'NNS'), ('do', 'VBP'), (\"n't\", 'RB'), (...   \n",
              "2  [('it', 'PRP'), (\"'s\", 'VBZ'), ('been', 'VBN')...   \n",
              "3  [('hopefully', 'RB'), (',', ','), ('lastly', '...   \n",
              "4  [('wkwkwk', 'NN'), ('even', 'RB'), ('though', ...   \n",
              "\n",
              "                                       text_stopword  \\\n",
              "0  ['hoop', 'child', 'north', 'pakistan', 'whose'...   \n",
              "1  [\"n't\", 'think', \"'s\", 'muslim', 'shia', \"n't\"...   \n",
              "2  [\"'s\", 'year', 'since', 'invasion', 'yemen', '...   \n",
              "3  ['hopefully', ',', 'lastly', ',', 'suspended',...   \n",
              "4  ['wkwkwk', 'even', 'though', 'saudis', 'back',...   \n",
              "\n",
              "                                        text_stemmed  \\\n",
              "0  ['hoop', 'child', 'north', 'pakistan', 'whose'...   \n",
              "1  [\"n't\", 'think', \"'s\", 'muslim', 'shia', \"n't\"...   \n",
              "2  [\"'s\", 'year', 'sinc', 'invas', 'yemen', ',', ...   \n",
              "3  ['hope', ',', 'lastli', ',', 'suspend', ',', \"...   \n",
              "4  ['wkwkwk', 'even', 'though', 'saudi', 'back', ...   \n",
              "\n",
              "                                     text_lemmatized  polarity    label  \n",
              "0  ['hoop', 'child', 'north', 'pakistan', 'whose'...     -0.05  negatif  \n",
              "1  [\"n't\", 'think', \"'s\", 'muslim', 'shia', \"n't\"...      0.00   netral  \n",
              "2  [\"'s\", 'year', 'sinc', 'invas', 'yemen', ',', ...      0.00   netral  \n",
              "3  ['hope', ',', 'lastli', ',', 'suspend', ',', \"...      0.00   netral  \n",
              "4  ['wkwkwk', 'even', 'though', 'saudi', 'back', ...      0.00   netral  "
            ],
            "text/html": [
              "\n",
              "  <div id=\"df-77facb3e-1992-4895-a887-ac42c02f61d9\" class=\"colab-df-container\">\n",
              "    <div>\n",
              "<style scoped>\n",
              "    .dataframe tbody tr th:only-of-type {\n",
              "        vertical-align: middle;\n",
              "    }\n",
              "\n",
              "    .dataframe tbody tr th {\n",
              "        vertical-align: top;\n",
              "    }\n",
              "\n",
              "    .dataframe thead th {\n",
              "        text-align: right;\n",
              "    }\n",
              "</style>\n",
              "<table border=\"1\" class=\"dataframe\">\n",
              "  <thead>\n",
              "    <tr style=\"text-align: right;\">\n",
              "      <th></th>\n",
              "      <th>Unnamed: 0</th>\n",
              "      <th>pengguna</th>\n",
              "      <th>tweet</th>\n",
              "      <th>clean_tweet</th>\n",
              "      <th>en_tweet</th>\n",
              "      <th>text</th>\n",
              "      <th>text_tokenized</th>\n",
              "      <th>text_tagging</th>\n",
              "      <th>text_stopword</th>\n",
              "      <th>text_stemmed</th>\n",
              "      <th>text_lemmatized</th>\n",
              "      <th>polarity</th>\n",
              "      <th>label</th>\n",
              "    </tr>\n",
              "  </thead>\n",
              "  <tbody>\n",
              "    <tr>\n",
              "      <th>0</th>\n",
              "      <td>0</td>\n",
              "      <td>towongsing</td>\n",
              "      <td>RT @pengarang_sajak: Adakah simpati utk anak2 ...</td>\n",
              "      <td>Adakah simpati utk anak di Utara Pakistan yg ...</td>\n",
              "      <td>Is a hoop for a child in North Pakistan whose ...</td>\n",
              "      <td>is a hoop for a child in north pakistan whose ...</td>\n",
              "      <td>['is', 'a', 'hoop', 'for', 'a', 'child', 'in',...</td>\n",
              "      <td>[('is', 'VBZ'), ('a', 'DT'), ('hoop', 'NN'), (...</td>\n",
              "      <td>['hoop', 'child', 'north', 'pakistan', 'whose'...</td>\n",
              "      <td>['hoop', 'child', 'north', 'pakistan', 'whose'...</td>\n",
              "      <td>['hoop', 'child', 'north', 'pakistan', 'whose'...</td>\n",
              "      <td>-0.05</td>\n",
              "      <td>negatif</td>\n",
              "    </tr>\n",
              "    <tr>\n",
              "      <th>1</th>\n",
              "      <td>1</td>\n",
              "      <td>fhyetan</td>\n",
              "      <td>@Nebuchanedzar_I @mudasir_11 @UpdateBolabola G...</td>\n",
              "      <td>Gua kira itu bukan orang islam tapi Syiah jadi...</td>\n",
              "      <td>I don't think it's Muslim but Shia so don't be...</td>\n",
              "      <td>i don't think it's muslim but shia so don't be...</td>\n",
              "      <td>['i', 'do', \"n't\", 'think', 'it', \"'s\", 'musli...</td>\n",
              "      <td>[('i', 'NNS'), ('do', 'VBP'), (\"n't\", 'RB'), (...</td>\n",
              "      <td>[\"n't\", 'think', \"'s\", 'muslim', 'shia', \"n't\"...</td>\n",
              "      <td>[\"n't\", 'think', \"'s\", 'muslim', 'shia', \"n't\"...</td>\n",
              "      <td>[\"n't\", 'think', \"'s\", 'muslim', 'shia', \"n't\"...</td>\n",
              "      <td>0.00</td>\n",
              "      <td>netral</td>\n",
              "    </tr>\n",
              "    <tr>\n",
              "      <th>2</th>\n",
              "      <td>2</td>\n",
              "      <td>MHHBJA2005</td>\n",
              "      <td>Genap 8 tahun buat serangan pencerobohan ke at...</td>\n",
              "      <td>Genap tahun buat serangan pencerobohan ke atas...</td>\n",
              "      <td>It's been a year since the invasion of Yemen, ...</td>\n",
              "      <td>it's been a year since the invasion of yemen, ...</td>\n",
              "      <td>['it', \"'s\", 'been', 'a', 'year', 'since', 'th...</td>\n",
              "      <td>[('it', 'PRP'), (\"'s\", 'VBZ'), ('been', 'VBN')...</td>\n",
              "      <td>[\"'s\", 'year', 'since', 'invasion', 'yemen', '...</td>\n",
              "      <td>[\"'s\", 'year', 'sinc', 'invas', 'yemen', ',', ...</td>\n",
              "      <td>[\"'s\", 'year', 'sinc', 'invas', 'yemen', ',', ...</td>\n",
              "      <td>0.00</td>\n",
              "      <td>netral</td>\n",
              "    </tr>\n",
              "    <tr>\n",
              "      <th>3</th>\n",
              "      <td>3</td>\n",
              "      <td>HarryRusuh2</td>\n",
              "      <td>@NdaJoesh @HarryRidwan__Ay Mudah mudahan. Tera...</td>\n",
              "      <td>Mudah mudahan Terakhir sebelom suspend Tadi ny...</td>\n",
              "      <td>Hopefully, lastly, before being suspended, I'v...</td>\n",
              "      <td>hopefully, lastly, before being suspended, i'v...</td>\n",
              "      <td>['hopefully', ',', 'lastly', ',', 'before', 'b...</td>\n",
              "      <td>[('hopefully', 'RB'), (',', ','), ('lastly', '...</td>\n",
              "      <td>['hopefully', ',', 'lastly', ',', 'suspended',...</td>\n",
              "      <td>['hope', ',', 'lastli', ',', 'suspend', ',', \"...</td>\n",
              "      <td>['hope', ',', 'lastli', ',', 'suspend', ',', \"...</td>\n",
              "      <td>0.00</td>\n",
              "      <td>netral</td>\n",
              "    </tr>\n",
              "    <tr>\n",
              "      <th>4</th>\n",
              "      <td>4</td>\n",
              "      <td>ahmaddiontri</td>\n",
              "      <td>@andy24670125 @fadlizon Wkwkwk, padahal Saudi ...</td>\n",
              "      <td>Wkwkwk padahal Saudi hanya back up pemerintaha...</td>\n",
              "      <td>Wkwkwk even though the Saudis only back up the...</td>\n",
              "      <td>wkwkwk even though the saudis only back up the...</td>\n",
              "      <td>['wkwkwk', 'even', 'though', 'the', 'saudis', ...</td>\n",
              "      <td>[('wkwkwk', 'NN'), ('even', 'RB'), ('though', ...</td>\n",
              "      <td>['wkwkwk', 'even', 'though', 'saudis', 'back',...</td>\n",
              "      <td>['wkwkwk', 'even', 'though', 'saudi', 'back', ...</td>\n",
              "      <td>['wkwkwk', 'even', 'though', 'saudi', 'back', ...</td>\n",
              "      <td>0.00</td>\n",
              "      <td>netral</td>\n",
              "    </tr>\n",
              "  </tbody>\n",
              "</table>\n",
              "</div>\n",
              "    <div class=\"colab-df-buttons\">\n",
              "\n",
              "  <div class=\"colab-df-container\">\n",
              "    <button class=\"colab-df-convert\" onclick=\"convertToInteractive('df-77facb3e-1992-4895-a887-ac42c02f61d9')\"\n",
              "            title=\"Convert this dataframe to an interactive table.\"\n",
              "            style=\"display:none;\">\n",
              "\n",
              "  <svg xmlns=\"http://www.w3.org/2000/svg\" height=\"24px\" viewBox=\"0 -960 960 960\">\n",
              "    <path d=\"M120-120v-720h720v720H120Zm60-500h600v-160H180v160Zm220 220h160v-160H400v160Zm0 220h160v-160H400v160ZM180-400h160v-160H180v160Zm440 0h160v-160H620v160ZM180-180h160v-160H180v160Zm440 0h160v-160H620v160Z\"/>\n",
              "  </svg>\n",
              "    </button>\n",
              "\n",
              "  <style>\n",
              "    .colab-df-container {\n",
              "      display:flex;\n",
              "      gap: 12px;\n",
              "    }\n",
              "\n",
              "    .colab-df-convert {\n",
              "      background-color: #E8F0FE;\n",
              "      border: none;\n",
              "      border-radius: 50%;\n",
              "      cursor: pointer;\n",
              "      display: none;\n",
              "      fill: #1967D2;\n",
              "      height: 32px;\n",
              "      padding: 0 0 0 0;\n",
              "      width: 32px;\n",
              "    }\n",
              "\n",
              "    .colab-df-convert:hover {\n",
              "      background-color: #E2EBFA;\n",
              "      box-shadow: 0px 1px 2px rgba(60, 64, 67, 0.3), 0px 1px 3px 1px rgba(60, 64, 67, 0.15);\n",
              "      fill: #174EA6;\n",
              "    }\n",
              "\n",
              "    .colab-df-buttons div {\n",
              "      margin-bottom: 4px;\n",
              "    }\n",
              "\n",
              "    [theme=dark] .colab-df-convert {\n",
              "      background-color: #3B4455;\n",
              "      fill: #D2E3FC;\n",
              "    }\n",
              "\n",
              "    [theme=dark] .colab-df-convert:hover {\n",
              "      background-color: #434B5C;\n",
              "      box-shadow: 0px 1px 3px 1px rgba(0, 0, 0, 0.15);\n",
              "      filter: drop-shadow(0px 1px 2px rgba(0, 0, 0, 0.3));\n",
              "      fill: #FFFFFF;\n",
              "    }\n",
              "  </style>\n",
              "\n",
              "    <script>\n",
              "      const buttonEl =\n",
              "        document.querySelector('#df-77facb3e-1992-4895-a887-ac42c02f61d9 button.colab-df-convert');\n",
              "      buttonEl.style.display =\n",
              "        google.colab.kernel.accessAllowed ? 'block' : 'none';\n",
              "\n",
              "      async function convertToInteractive(key) {\n",
              "        const element = document.querySelector('#df-77facb3e-1992-4895-a887-ac42c02f61d9');\n",
              "        const dataTable =\n",
              "          await google.colab.kernel.invokeFunction('convertToInteractive',\n",
              "                                                    [key], {});\n",
              "        if (!dataTable) return;\n",
              "\n",
              "        const docLinkHtml = 'Like what you see? Visit the ' +\n",
              "          '<a target=\"_blank\" href=https://colab.research.google.com/notebooks/data_table.ipynb>data table notebook</a>'\n",
              "          + ' to learn more about interactive tables.';\n",
              "        element.innerHTML = '';\n",
              "        dataTable['output_type'] = 'display_data';\n",
              "        await google.colab.output.renderOutput(dataTable, element);\n",
              "        const docLink = document.createElement('div');\n",
              "        docLink.innerHTML = docLinkHtml;\n",
              "        element.appendChild(docLink);\n",
              "      }\n",
              "    </script>\n",
              "  </div>\n",
              "\n",
              "\n",
              "<div id=\"df-2e5617ac-dd5e-4e11-aece-1a8d4e8d5f87\">\n",
              "  <button class=\"colab-df-quickchart\" onclick=\"quickchart('df-2e5617ac-dd5e-4e11-aece-1a8d4e8d5f87')\"\n",
              "            title=\"Suggest charts\"\n",
              "            style=\"display:none;\">\n",
              "\n",
              "<svg xmlns=\"http://www.w3.org/2000/svg\" height=\"24px\"viewBox=\"0 0 24 24\"\n",
              "     width=\"24px\">\n",
              "    <g>\n",
              "        <path d=\"M19 3H5c-1.1 0-2 .9-2 2v14c0 1.1.9 2 2 2h14c1.1 0 2-.9 2-2V5c0-1.1-.9-2-2-2zM9 17H7v-7h2v7zm4 0h-2V7h2v10zm4 0h-2v-4h2v4z\"/>\n",
              "    </g>\n",
              "</svg>\n",
              "  </button>\n",
              "\n",
              "<style>\n",
              "  .colab-df-quickchart {\n",
              "      --bg-color: #E8F0FE;\n",
              "      --fill-color: #1967D2;\n",
              "      --hover-bg-color: #E2EBFA;\n",
              "      --hover-fill-color: #174EA6;\n",
              "      --disabled-fill-color: #AAA;\n",
              "      --disabled-bg-color: #DDD;\n",
              "  }\n",
              "\n",
              "  [theme=dark] .colab-df-quickchart {\n",
              "      --bg-color: #3B4455;\n",
              "      --fill-color: #D2E3FC;\n",
              "      --hover-bg-color: #434B5C;\n",
              "      --hover-fill-color: #FFFFFF;\n",
              "      --disabled-bg-color: #3B4455;\n",
              "      --disabled-fill-color: #666;\n",
              "  }\n",
              "\n",
              "  .colab-df-quickchart {\n",
              "    background-color: var(--bg-color);\n",
              "    border: none;\n",
              "    border-radius: 50%;\n",
              "    cursor: pointer;\n",
              "    display: none;\n",
              "    fill: var(--fill-color);\n",
              "    height: 32px;\n",
              "    padding: 0;\n",
              "    width: 32px;\n",
              "  }\n",
              "\n",
              "  .colab-df-quickchart:hover {\n",
              "    background-color: var(--hover-bg-color);\n",
              "    box-shadow: 0 1px 2px rgba(60, 64, 67, 0.3), 0 1px 3px 1px rgba(60, 64, 67, 0.15);\n",
              "    fill: var(--button-hover-fill-color);\n",
              "  }\n",
              "\n",
              "  .colab-df-quickchart-complete:disabled,\n",
              "  .colab-df-quickchart-complete:disabled:hover {\n",
              "    background-color: var(--disabled-bg-color);\n",
              "    fill: var(--disabled-fill-color);\n",
              "    box-shadow: none;\n",
              "  }\n",
              "\n",
              "  .colab-df-spinner {\n",
              "    border: 2px solid var(--fill-color);\n",
              "    border-color: transparent;\n",
              "    border-bottom-color: var(--fill-color);\n",
              "    animation:\n",
              "      spin 1s steps(1) infinite;\n",
              "  }\n",
              "\n",
              "  @keyframes spin {\n",
              "    0% {\n",
              "      border-color: transparent;\n",
              "      border-bottom-color: var(--fill-color);\n",
              "      border-left-color: var(--fill-color);\n",
              "    }\n",
              "    20% {\n",
              "      border-color: transparent;\n",
              "      border-left-color: var(--fill-color);\n",
              "      border-top-color: var(--fill-color);\n",
              "    }\n",
              "    30% {\n",
              "      border-color: transparent;\n",
              "      border-left-color: var(--fill-color);\n",
              "      border-top-color: var(--fill-color);\n",
              "      border-right-color: var(--fill-color);\n",
              "    }\n",
              "    40% {\n",
              "      border-color: transparent;\n",
              "      border-right-color: var(--fill-color);\n",
              "      border-top-color: var(--fill-color);\n",
              "    }\n",
              "    60% {\n",
              "      border-color: transparent;\n",
              "      border-right-color: var(--fill-color);\n",
              "    }\n",
              "    80% {\n",
              "      border-color: transparent;\n",
              "      border-right-color: var(--fill-color);\n",
              "      border-bottom-color: var(--fill-color);\n",
              "    }\n",
              "    90% {\n",
              "      border-color: transparent;\n",
              "      border-bottom-color: var(--fill-color);\n",
              "    }\n",
              "  }\n",
              "</style>\n",
              "\n",
              "  <script>\n",
              "    async function quickchart(key) {\n",
              "      const quickchartButtonEl =\n",
              "        document.querySelector('#' + key + ' button');\n",
              "      quickchartButtonEl.disabled = true;  // To prevent multiple clicks.\n",
              "      quickchartButtonEl.classList.add('colab-df-spinner');\n",
              "      try {\n",
              "        const charts = await google.colab.kernel.invokeFunction(\n",
              "            'suggestCharts', [key], {});\n",
              "      } catch (error) {\n",
              "        console.error('Error during call to suggestCharts:', error);\n",
              "      }\n",
              "      quickchartButtonEl.classList.remove('colab-df-spinner');\n",
              "      quickchartButtonEl.classList.add('colab-df-quickchart-complete');\n",
              "    }\n",
              "    (() => {\n",
              "      let quickchartButtonEl =\n",
              "        document.querySelector('#df-2e5617ac-dd5e-4e11-aece-1a8d4e8d5f87 button');\n",
              "      quickchartButtonEl.style.display =\n",
              "        google.colab.kernel.accessAllowed ? 'block' : 'none';\n",
              "    })();\n",
              "  </script>\n",
              "</div>\n",
              "    </div>\n",
              "  </div>\n"
            ]
          },
          "metadata": {},
          "execution_count": 20
        }
      ]
    },
    {
      "cell_type": "markdown",
      "source": [],
      "metadata": {
        "id": "5ypsnm_hnTx6"
      }
    },
    {
      "cell_type": "markdown",
      "source": [
        "Text Classification dan Kalkulasi Akurasi\n",
        "data training 80% dan data testing 20% dengan menjadikan test_size=0.2"
      ],
      "metadata": {
        "id": "HljStwRjnT3J"
      }
    },
    {
      "cell_type": "code",
      "source": [
        "#rename colume text_lemmatized into text_final\n",
        "corpus = corpus.rename(columns={'text_lemmatized':'text_final'})\n",
        "\n",
        "#HOLD-OUT - Dividing testing and training data\n",
        "#Train_X,Test_X,Train_Y,Test_Y = model_selection.train_test_split(df_new['text_final'],df_new['label'],test_size=0.2)\n",
        "#Train_X,Test_X,Train_Y,Test_Y = model_selection.train_test_split(df_new['text_final'],df_new['label'],test_size=0.20, random_state=66)\n",
        "Train_X,Test_X,Train_Y,Test_Y = train_test_split(corpus['text_final'],corpus['label'],test_size=0.2)\n",
        "\n",
        "# Label encode - transform Categorical data of string (negatif, netral, positif) into numerical values (0,1,2)\n",
        "Encoder = LabelEncoder()\n",
        "Train_Y = Encoder.fit_transform(Train_Y)\n",
        "Test_Y = Encoder.fit_transform(Test_Y)"
      ],
      "metadata": {
        "id": "MXtzhuhnnQ5s"
      },
      "execution_count": null,
      "outputs": []
    },
    {
      "cell_type": "code",
      "source": [
        "#TF-IDF Vectorizer\n",
        "Tfidf_vect = TfidfVectorizer(max_features=5000)\n",
        "Tfidf_vect.fit(corpus['text_final'])\n",
        "\n",
        "Train_X_Tfidf = Tfidf_vect.transform(Train_X)\n",
        "Test_X_Tfidf = Tfidf_vect.transform(Test_X)\n",
        "\n",
        "#CHECKING\n",
        "print(Tfidf_vect.vocabulary_)\n",
        "print(Train_X_Tfidf)"
      ],
      "metadata": {
        "colab": {
          "base_uri": "https://localhost:8080/"
        },
        "id": "NiH43dqrnY8V",
        "outputId": "596850ad-3f24-4503-b2a6-45cf2e6cc236"
      },
      "execution_count": null,
      "outputs": [
        {
          "output_type": "stream",
          "name": "stdout",
          "text": [
            "{'hoop': 138, 'child': 55, 'north': 211, 'pakistan': 218, 'whose': 325, 'parent': 220, 'slaughter': 271, 'taliban': 295, 'shiit': 267, 'minor': 194, 'think': 304, 'muslim': 203, 'shia': 265, 'surpris': 289, 'someon': 274, 'year': 332, 'sinc': 269, 'invas': 148, 'yemen': 333, 'sunnah': 287, 'peopl': 224, 'yam': 330, 'hope': 139, 'lastli': 170, 'suspend': 290, 've': 320, 'start': 278, 'get': 123, 'critic': 72, 'wkwkwk': 326, 'even': 100, 'though': 305, 'saudi': 258, 'back': 32, 'yemeni': 334, 'govern': 128, 'houthi': 140, 'rebellion': 249, 'complic': 65, 'koranist': 168, 'alway': 15, 'point': 229, 'pray': 233, 'oh': 212, 'accord': 5, 'tradit': 308, 'mean': 191, 'stingi': 283, 'person': 226, 'follow': 115, 'follback': 114, 'porn': 231, 'pl': 228, 'cebong': 52, 'buzzerp': 50, 'pki': 227, 'blasphemi': 44, 'li': 173, 'bashar': 36, 'al': 10, 'assad': 25, 'armi': 22, 'israel': 154, 'behavior': 37, 'bad': 33, 'month': 198, 'ramadhan': 245, 'best': 39, 'opportun': 213, 'make': 183, 'peac': 223, 'allah': 13, 'swt': 291, 'gloriou': 126, 'give': 124, 'servant': 262, 'imam': 145, 'ali': 12, 'zainal': 336, 'abidin': 1, 'right': 255, 'fast': 107, 'discus': 83, 'act': 6, 'worship': 328, 'day': 75, 'prayer': 234, 'read': 246, 'full': 120, 'enjoy': 96, 'updat': 319, 'link': 178, 'given': 125, 'istiqomah': 156, 'say': 259, 'claim': 59, 'padang': 217, 'see': 260, 'face': 104, 'name': 205, 'fix': 112, 'arab': 19, 'descent': 78, 'mukeny': 202, 'bin': 42, 'abi': 0, 'talib': 294, 'said': 256, 'abstain': 3, 'eat': 89, 'drink': 87, 'stay': 281, 'away': 30, 'everyth': 101, 'ramadan': 244, 'problem': 238, 'human': 141, 'mani': 186, 'young': 335, 'civilian': 58, 'expo': 103, 'daili': 73, 'th': 302, 'deztron': 80, 'technolog': 299, 'lead': 171, 'guarante': 130, 'product': 239, 'effici': 92, 'smart': 272, 'like': 177, 'bewar': 40, 'jil': 160, 'repeatedli': 253, 'sparrow': 275, 'necessarili': 206, 'christian': 56, 'emprit': 94, 'hajj': 131, 'bangkok': 35, 'chicken': 54, 'arhh': 21, 'noisi': 210, 'ar': 18, 'hang': 134, 'mutaah': 204, 'sapot': 257, 'mind': 193, 'distanc': 84, 'turn': 312, 'origin': 214, 'issu': 155, 'seem': 261, 'simpl': 268, 'question': 243, 'era': 98, 'terror': 301, 'mark': 189, 'bu': 49, 'never': 208, 'stop': 284, 'attack': 28, 'viral': 322, 'keun': 164, 'danger': 74, 'stage': 277, 'matur': 190, 'societi': 273, 'easili': 88, 'punish': 241, 'wahhabi': 324, 'belief': 38, 'chang': 53, 'iran': 150, 'angel': 17, 'gabriel': 121, 'wrong': 329, 'revel': 254, 'famili': 106, 'broken': 48, 'ah': 9, 'unstabl': 318, 'long': 179, 'twitter': 313, 'pro': 237, 'cathol': 51, 'itj': 157, 'present': 236, 'high': 137, 'qual': 242, 'tech': 298, 'complement': 64, 'life': 176, 'need': 207, 'flower': 113, 'pot': 232, 'gang': 122, 'let': 172, 'go': 127, 'dog': 85, 'readi': 247, 'packag': 216, 'come': 62, 'directli': 82, 'parliament': 221, 'statement': 280, 'egypt': 93, 'state': 279, 'misguid': 195, 'islam': 152, 'made': 181, 'tri': 309, 'realli': 248, 'hard': 135, 'today': 307, 'enter': 97, 'kaaba': 161, 'great': 129, 'bless': 45, 'dream': 86, 'symbol': 292, 'truth': 311, 'husni': 142, 'mubarak': 199, 'ter': 300, 'kimak': 167, 'actor': 7, 'assist': 26, 'lick': 175, 'black': 43, 'kwkwkw': 169, 'bhrwi': 41, 'politic': 230, 'religion': 252, 'continu': 67, 'taqiyyah': 297, 'kafir': 162, 'ask': 24, 'alazhar': 11, 'confirm': 66, 'deviat': 79, 'kalau': 163, 'proof': 240, 'talk': 296, 'evid': 102, 'slander': 270, 'especi': 99, 'true': 310, 'muhammadiyah': 201, 'orma': 215, 'fill': 110, 'academ': 4, 'educ': 91, 'food': 116, 'viciou': 321, 'circl': 57, 'indonesia': 147, 'hate': 136, 'jew': 159, 'brave': 46, 'abl': 2, 'fight': 109, 'iranian': 151, 'major': 182, 'palestin': 219, 'forget': 117, 'pe': 222, 'mufti': 200, 'arrest': 23, 'lost': 180, 'control': 68, 'unlik': 317, 'sunni': 288, 'free': 119, 'moder': 197, 'indic': 146, 'shame': 264, 'understand': 315, 'malay': 184, 'man': 185, 'bring': 47, 'shiia': 266, 'manipul': 187, 'thought': 306, 'medium': 192, 'correct': 70, 'percept': 225, 'spread': 276, 'thing': 303, 'fact': 105, 'azhar': 31, 'mistaken': 196, 'studi': 285, 'hypocrit': 143, 'coloni': 61, 'countri': 71, 'admit': 8, 'diplomaci': 81, 'regim': 250, 'ira': 149, 'ye': 331, 'still': 282, 'shaman': 263, 'khawarij': 165, 'takfiri': 293, 'amp': 16, 'also': 14, 'ijtihad': 144, 'halal': 132, 'kill': 166, 'fellow': 108, 'archipelago': 20, 'two': 314, 'island': 153, 'sumatra': 286, 'java': 158, 'unit': 316, 'pre': 235, 'religi': 251, 'maritim': 188, 'author': 29, 'clear': 60, 'enemi': 95, 'definit': 77, 'communist': 63, 'half': 133, 'bak': 34, 'atheist': 27, 'liber': 174, 'corner': 69, 'defend': 76, 'wkwkwkwk': 327, 'form': 118, 'econom': 90, 'nois': 209, 'finish': 111, 'wahhab': 323}\n",
            "  (0, 267)\t0.2857406642074066\n",
            "  (0, 154)\t0.3326304720972068\n",
            "  (0, 37)\t0.3733808272750728\n",
            "  (0, 36)\t0.3733808272750728\n",
            "  (0, 33)\t0.3733808272750728\n",
            "  (0, 25)\t0.3733808272750728\n",
            "  (0, 22)\t0.3733808272750728\n",
            "  (0, 10)\t0.3326304720972068\n",
            "  (1, 319)\t0.29363790524973654\n",
            "  (1, 246)\t0.5872758104994731\n",
            "  (1, 245)\t0.22471504681925794\n",
            "  (1, 234)\t0.2404815815108923\n",
            "  (1, 178)\t0.29363790524973654\n",
            "  (1, 125)\t0.29363790524973654\n",
            "  (1, 120)\t0.29363790524973654\n",
            "  (1, 115)\t0.2404815815108923\n",
            "  (1, 96)\t0.29363790524973654\n",
            "  (1, 75)\t0.2404815815108923\n",
            "  (2, 265)\t0.25369593822128067\n",
            "  (2, 169)\t0.6839730882607972\n",
            "  (2, 43)\t0.6839730882607972\n",
            "  (3, 309)\t0.387606051839834\n",
            "  (3, 307)\t0.47328293671927013\n",
            "  (3, 248)\t0.47328293671927013\n",
            "  (3, 181)\t0.421629379915923\n",
            "  :\t:\n",
            "  (91, 326)\t0.34326362917928777\n",
            "  (91, 305)\t0.34326362917928777\n",
            "  (91, 267)\t0.26269259221410163\n",
            "  (91, 258)\t0.26269259221410163\n",
            "  (91, 249)\t0.34326362917928777\n",
            "  (91, 140)\t0.3058002304536909\n",
            "  (91, 128)\t0.34326362917928777\n",
            "  (91, 100)\t0.2479756204592053\n",
            "  (91, 32)\t0.34326362917928777\n",
            "  (92, 309)\t0.387606051839834\n",
            "  (92, 307)\t0.47328293671927013\n",
            "  (92, 248)\t0.47328293671927013\n",
            "  (92, 181)\t0.421629379915923\n",
            "  (92, 135)\t0.47328293671927013\n",
            "  (93, 283)\t0.5409216286344691\n",
            "  (93, 231)\t0.27046081431723457\n",
            "  (93, 228)\t0.27046081431723457\n",
            "  (93, 227)\t0.27046081431723457\n",
            "  (93, 226)\t0.27046081431723457\n",
            "  (93, 173)\t0.27046081431723457\n",
            "  (93, 115)\t0.22150016466169675\n",
            "  (93, 114)\t0.27046081431723457\n",
            "  (93, 52)\t0.27046081431723457\n",
            "  (93, 50)\t0.27046081431723457\n",
            "  (93, 44)\t0.27046081431723457\n"
          ]
        }
      ]
    },
    {
      "cell_type": "markdown",
      "source": [
        "SVM Classifier Algorithm (Support vector machine Algorithm)\n",
        "Hyperparameter Tuning"
      ],
      "metadata": {
        "id": "29MsjvpenbTB"
      }
    },
    {
      "cell_type": "code",
      "source": [
        "from sklearn.model_selection import GridSearchCV\n",
        "\n",
        "# defining parameter range\n",
        "param_grid = {'C': [0.1, 1, 10, 100, 1000],\n",
        "              'gamma': [1, 0.1, 0.01, 0.001, 0.0001],\n",
        "              'kernel': ['rbf']}\n",
        "\n",
        "grid = GridSearchCV(SVC(), param_grid, refit = True, verbose=3)\n",
        "\n",
        "# fitting the model for grid search\n",
        "grid.fit(Train_X_Tfidf, Train_Y)"
      ],
      "metadata": {
        "colab": {
          "base_uri": "https://localhost:8080/",
          "height": 1000
        },
        "id": "RPrSgqy3ncIV",
        "outputId": "c5019633-b3bf-4584-ed14-22eff97b36db"
      },
      "execution_count": null,
      "outputs": [
        {
          "output_type": "stream",
          "name": "stdout",
          "text": [
            "Fitting 5 folds for each of 25 candidates, totalling 125 fits\n",
            "[CV 1/5] END ........C=0.1, gamma=1, kernel=rbf;, score=0.579 total time=   0.0s\n",
            "[CV 2/5] END ........C=0.1, gamma=1, kernel=rbf;, score=0.579 total time=   0.0s\n",
            "[CV 3/5] END ........C=0.1, gamma=1, kernel=rbf;, score=0.579 total time=   0.0s\n",
            "[CV 4/5] END ........C=0.1, gamma=1, kernel=rbf;, score=0.579 total time=   0.0s\n",
            "[CV 5/5] END ........C=0.1, gamma=1, kernel=rbf;, score=0.556 total time=   0.0s\n",
            "[CV 1/5] END ......C=0.1, gamma=0.1, kernel=rbf;, score=0.579 total time=   0.0s\n",
            "[CV 2/5] END ......C=0.1, gamma=0.1, kernel=rbf;, score=0.579 total time=   0.0s\n",
            "[CV 3/5] END ......C=0.1, gamma=0.1, kernel=rbf;, score=0.579 total time=   0.0s\n",
            "[CV 4/5] END ......C=0.1, gamma=0.1, kernel=rbf;, score=0.579 total time=   0.0s\n",
            "[CV 5/5] END ......C=0.1, gamma=0.1, kernel=rbf;, score=0.556 total time=   0.0s\n",
            "[CV 1/5] END .....C=0.1, gamma=0.01, kernel=rbf;, score=0.579 total time=   0.0s\n",
            "[CV 2/5] END .....C=0.1, gamma=0.01, kernel=rbf;, score=0.579 total time=   0.0s\n",
            "[CV 3/5] END .....C=0.1, gamma=0.01, kernel=rbf;, score=0.579 total time=   0.0s\n",
            "[CV 4/5] END .....C=0.1, gamma=0.01, kernel=rbf;, score=0.579 total time=   0.0s\n",
            "[CV 5/5] END .....C=0.1, gamma=0.01, kernel=rbf;, score=0.556 total time=   0.0s\n",
            "[CV 1/5] END ....C=0.1, gamma=0.001, kernel=rbf;, score=0.579 total time=   0.0s\n",
            "[CV 2/5] END ....C=0.1, gamma=0.001, kernel=rbf;, score=0.579 total time=   0.0s\n",
            "[CV 3/5] END ....C=0.1, gamma=0.001, kernel=rbf;, score=0.579 total time=   0.0s\n",
            "[CV 4/5] END ....C=0.1, gamma=0.001, kernel=rbf;, score=0.579 total time=   0.0s\n",
            "[CV 5/5] END ....C=0.1, gamma=0.001, kernel=rbf;, score=0.556 total time=   0.0s\n",
            "[CV 1/5] END ...C=0.1, gamma=0.0001, kernel=rbf;, score=0.579 total time=   0.0s\n",
            "[CV 2/5] END ...C=0.1, gamma=0.0001, kernel=rbf;, score=0.579 total time=   0.0s\n",
            "[CV 3/5] END ...C=0.1, gamma=0.0001, kernel=rbf;, score=0.579 total time=   0.0s\n",
            "[CV 4/5] END ...C=0.1, gamma=0.0001, kernel=rbf;, score=0.579 total time=   0.0s\n",
            "[CV 5/5] END ...C=0.1, gamma=0.0001, kernel=rbf;, score=0.556 total time=   0.0s\n",
            "[CV 1/5] END ..........C=1, gamma=1, kernel=rbf;, score=0.947 total time=   0.0s\n",
            "[CV 2/5] END ..........C=1, gamma=1, kernel=rbf;, score=0.842 total time=   0.0s\n",
            "[CV 3/5] END ..........C=1, gamma=1, kernel=rbf;, score=0.842 total time=   0.0s\n",
            "[CV 4/5] END ..........C=1, gamma=1, kernel=rbf;, score=0.684 total time=   0.0s\n",
            "[CV 5/5] END ..........C=1, gamma=1, kernel=rbf;, score=0.889 total time=   0.0s\n",
            "[CV 1/5] END ........C=1, gamma=0.1, kernel=rbf;, score=0.579 total time=   0.0s\n",
            "[CV 2/5] END ........C=1, gamma=0.1, kernel=rbf;, score=0.579 total time=   0.0s\n",
            "[CV 3/5] END ........C=1, gamma=0.1, kernel=rbf;, score=0.579 total time=   0.0s\n",
            "[CV 4/5] END ........C=1, gamma=0.1, kernel=rbf;, score=0.579 total time=   0.0s\n",
            "[CV 5/5] END ........C=1, gamma=0.1, kernel=rbf;, score=0.556 total time=   0.0s\n",
            "[CV 1/5] END .......C=1, gamma=0.01, kernel=rbf;, score=0.579 total time=   0.0s\n",
            "[CV 2/5] END .......C=1, gamma=0.01, kernel=rbf;, score=0.579 total time=   0.0s\n",
            "[CV 3/5] END .......C=1, gamma=0.01, kernel=rbf;, score=0.579 total time=   0.0s\n",
            "[CV 4/5] END .......C=1, gamma=0.01, kernel=rbf;, score=0.579 total time=   0.0s\n",
            "[CV 5/5] END .......C=1, gamma=0.01, kernel=rbf;, score=0.556 total time=   0.0s\n",
            "[CV 1/5] END ......C=1, gamma=0.001, kernel=rbf;, score=0.579 total time=   0.0s\n",
            "[CV 2/5] END ......C=1, gamma=0.001, kernel=rbf;, score=0.579 total time=   0.0s\n",
            "[CV 3/5] END ......C=1, gamma=0.001, kernel=rbf;, score=0.579 total time=   0.0s\n",
            "[CV 4/5] END ......C=1, gamma=0.001, kernel=rbf;, score=0.579 total time=   0.0s\n",
            "[CV 5/5] END ......C=1, gamma=0.001, kernel=rbf;, score=0.556 total time=   0.0s\n",
            "[CV 1/5] END .....C=1, gamma=0.0001, kernel=rbf;, score=0.579 total time=   0.0s\n",
            "[CV 2/5] END .....C=1, gamma=0.0001, kernel=rbf;, score=0.579 total time=   0.0s\n",
            "[CV 3/5] END .....C=1, gamma=0.0001, kernel=rbf;, score=0.579 total time=   0.0s\n",
            "[CV 4/5] END .....C=1, gamma=0.0001, kernel=rbf;, score=0.579 total time=   0.0s\n",
            "[CV 5/5] END .....C=1, gamma=0.0001, kernel=rbf;, score=0.556 total time=   0.0s\n",
            "[CV 1/5] END .........C=10, gamma=1, kernel=rbf;, score=0.947 total time=   0.0s\n",
            "[CV 2/5] END .........C=10, gamma=1, kernel=rbf;, score=0.842 total time=   0.0s\n",
            "[CV 3/5] END .........C=10, gamma=1, kernel=rbf;, score=0.842 total time=   0.0s\n",
            "[CV 4/5] END .........C=10, gamma=1, kernel=rbf;, score=0.684 total time=   0.0s\n",
            "[CV 5/5] END .........C=10, gamma=1, kernel=rbf;, score=0.889 total time=   0.0s\n",
            "[CV 1/5] END .......C=10, gamma=0.1, kernel=rbf;, score=0.947 total time=   0.0s\n",
            "[CV 2/5] END .......C=10, gamma=0.1, kernel=rbf;, score=0.842 total time=   0.0s\n",
            "[CV 3/5] END .......C=10, gamma=0.1, kernel=rbf;, score=0.842 total time=   0.0s\n",
            "[CV 4/5] END .......C=10, gamma=0.1, kernel=rbf;, score=0.789 total time=   0.0s\n",
            "[CV 5/5] END .......C=10, gamma=0.1, kernel=rbf;, score=0.889 total time=   0.0s\n",
            "[CV 1/5] END ......C=10, gamma=0.01, kernel=rbf;, score=0.579 total time=   0.0s\n",
            "[CV 2/5] END ......C=10, gamma=0.01, kernel=rbf;, score=0.579 total time=   0.0s\n",
            "[CV 3/5] END ......C=10, gamma=0.01, kernel=rbf;, score=0.579 total time=   0.0s\n",
            "[CV 4/5] END ......C=10, gamma=0.01, kernel=rbf;, score=0.579 total time=   0.0s\n",
            "[CV 5/5] END ......C=10, gamma=0.01, kernel=rbf;, score=0.556 total time=   0.0s\n",
            "[CV 1/5] END .....C=10, gamma=0.001, kernel=rbf;, score=0.579 total time=   0.0s\n",
            "[CV 2/5] END .....C=10, gamma=0.001, kernel=rbf;, score=0.579 total time=   0.0s\n",
            "[CV 3/5] END .....C=10, gamma=0.001, kernel=rbf;, score=0.579 total time=   0.0s\n",
            "[CV 4/5] END .....C=10, gamma=0.001, kernel=rbf;, score=0.579 total time=   0.0s\n",
            "[CV 5/5] END .....C=10, gamma=0.001, kernel=rbf;, score=0.556 total time=   0.0s\n",
            "[CV 1/5] END ....C=10, gamma=0.0001, kernel=rbf;, score=0.579 total time=   0.0s\n",
            "[CV 2/5] END ....C=10, gamma=0.0001, kernel=rbf;, score=0.579 total time=   0.0s\n",
            "[CV 3/5] END ....C=10, gamma=0.0001, kernel=rbf;, score=0.579 total time=   0.0s\n",
            "[CV 4/5] END ....C=10, gamma=0.0001, kernel=rbf;, score=0.579 total time=   0.0s\n",
            "[CV 5/5] END ....C=10, gamma=0.0001, kernel=rbf;, score=0.556 total time=   0.0s\n",
            "[CV 1/5] END ........C=100, gamma=1, kernel=rbf;, score=0.947 total time=   0.0s\n",
            "[CV 2/5] END ........C=100, gamma=1, kernel=rbf;, score=0.842 total time=   0.0s\n",
            "[CV 3/5] END ........C=100, gamma=1, kernel=rbf;, score=0.842 total time=   0.0s\n",
            "[CV 4/5] END ........C=100, gamma=1, kernel=rbf;, score=0.684 total time=   0.0s\n",
            "[CV 5/5] END ........C=100, gamma=1, kernel=rbf;, score=0.889 total time=   0.0s\n",
            "[CV 1/5] END ......C=100, gamma=0.1, kernel=rbf;, score=0.947 total time=   0.0s\n",
            "[CV 2/5] END ......C=100, gamma=0.1, kernel=rbf;, score=0.842 total time=   0.0s\n",
            "[CV 3/5] END ......C=100, gamma=0.1, kernel=rbf;, score=0.842 total time=   0.0s\n",
            "[CV 4/5] END ......C=100, gamma=0.1, kernel=rbf;, score=0.789 total time=   0.0s\n",
            "[CV 5/5] END ......C=100, gamma=0.1, kernel=rbf;, score=0.889 total time=   0.0s\n",
            "[CV 1/5] END .....C=100, gamma=0.01, kernel=rbf;, score=0.947 total time=   0.0s\n",
            "[CV 2/5] END .....C=100, gamma=0.01, kernel=rbf;, score=0.842 total time=   0.0s\n",
            "[CV 3/5] END .....C=100, gamma=0.01, kernel=rbf;, score=0.842 total time=   0.0s\n",
            "[CV 4/5] END .....C=100, gamma=0.01, kernel=rbf;, score=0.789 total time=   0.0s\n",
            "[CV 5/5] END .....C=100, gamma=0.01, kernel=rbf;, score=0.889 total time=   0.0s\n",
            "[CV 1/5] END ....C=100, gamma=0.001, kernel=rbf;, score=0.579 total time=   0.0s\n",
            "[CV 2/5] END ....C=100, gamma=0.001, kernel=rbf;, score=0.579 total time=   0.0s\n",
            "[CV 3/5] END ....C=100, gamma=0.001, kernel=rbf;, score=0.579 total time=   0.0s\n",
            "[CV 4/5] END ....C=100, gamma=0.001, kernel=rbf;, score=0.579 total time=   0.0s\n",
            "[CV 5/5] END ....C=100, gamma=0.001, kernel=rbf;, score=0.556 total time=   0.0s\n",
            "[CV 1/5] END ...C=100, gamma=0.0001, kernel=rbf;, score=0.579 total time=   0.0s\n",
            "[CV 2/5] END ...C=100, gamma=0.0001, kernel=rbf;, score=0.579 total time=   0.0s\n",
            "[CV 3/5] END ...C=100, gamma=0.0001, kernel=rbf;, score=0.579 total time=   0.0s\n",
            "[CV 4/5] END ...C=100, gamma=0.0001, kernel=rbf;, score=0.579 total time=   0.0s\n",
            "[CV 5/5] END ...C=100, gamma=0.0001, kernel=rbf;, score=0.556 total time=   0.0s\n",
            "[CV 1/5] END .......C=1000, gamma=1, kernel=rbf;, score=0.947 total time=   0.0s\n",
            "[CV 2/5] END .......C=1000, gamma=1, kernel=rbf;, score=0.842 total time=   0.0s\n",
            "[CV 3/5] END .......C=1000, gamma=1, kernel=rbf;, score=0.842 total time=   0.0s\n",
            "[CV 4/5] END .......C=1000, gamma=1, kernel=rbf;, score=0.684 total time=   0.0s\n",
            "[CV 5/5] END .......C=1000, gamma=1, kernel=rbf;, score=0.889 total time=   0.0s\n",
            "[CV 1/5] END .....C=1000, gamma=0.1, kernel=rbf;, score=0.947 total time=   0.0s\n",
            "[CV 2/5] END .....C=1000, gamma=0.1, kernel=rbf;, score=0.842 total time=   0.0s\n",
            "[CV 3/5] END .....C=1000, gamma=0.1, kernel=rbf;, score=0.842 total time=   0.0s\n",
            "[CV 4/5] END .....C=1000, gamma=0.1, kernel=rbf;, score=0.789 total time=   0.0s\n",
            "[CV 5/5] END .....C=1000, gamma=0.1, kernel=rbf;, score=0.889 total time=   0.0s\n",
            "[CV 1/5] END ....C=1000, gamma=0.01, kernel=rbf;, score=0.947 total time=   0.0s\n",
            "[CV 2/5] END ....C=1000, gamma=0.01, kernel=rbf;, score=0.842 total time=   0.0s\n",
            "[CV 3/5] END ....C=1000, gamma=0.01, kernel=rbf;, score=0.842 total time=   0.0s\n",
            "[CV 4/5] END ....C=1000, gamma=0.01, kernel=rbf;, score=0.789 total time=   0.0s\n",
            "[CV 5/5] END ....C=1000, gamma=0.01, kernel=rbf;, score=0.889 total time=   0.0s\n",
            "[CV 1/5] END ...C=1000, gamma=0.001, kernel=rbf;, score=0.947 total time=   0.0s\n",
            "[CV 2/5] END ...C=1000, gamma=0.001, kernel=rbf;, score=0.842 total time=   0.0s\n",
            "[CV 3/5] END ...C=1000, gamma=0.001, kernel=rbf;, score=0.842 total time=   0.0s\n",
            "[CV 4/5] END ...C=1000, gamma=0.001, kernel=rbf;, score=0.789 total time=   0.0s\n",
            "[CV 5/5] END ...C=1000, gamma=0.001, kernel=rbf;, score=0.889 total time=   0.0s\n",
            "[CV 1/5] END ..C=1000, gamma=0.0001, kernel=rbf;, score=0.579 total time=   0.0s\n",
            "[CV 2/5] END ..C=1000, gamma=0.0001, kernel=rbf;, score=0.579 total time=   0.0s\n",
            "[CV 3/5] END ..C=1000, gamma=0.0001, kernel=rbf;, score=0.579 total time=   0.0s\n",
            "[CV 4/5] END ..C=1000, gamma=0.0001, kernel=rbf;, score=0.579 total time=   0.0s\n",
            "[CV 5/5] END ..C=1000, gamma=0.0001, kernel=rbf;, score=0.556 total time=   0.0s\n"
          ]
        },
        {
          "output_type": "execute_result",
          "data": {
            "text/plain": [
              "GridSearchCV(estimator=SVC(),\n",
              "             param_grid={'C': [0.1, 1, 10, 100, 1000],\n",
              "                         'gamma': [1, 0.1, 0.01, 0.001, 0.0001],\n",
              "                         'kernel': ['rbf']},\n",
              "             verbose=3)"
            ],
            "text/html": [
              "<style>#sk-container-id-2 {color: black;background-color: white;}#sk-container-id-2 pre{padding: 0;}#sk-container-id-2 div.sk-toggleable {background-color: white;}#sk-container-id-2 label.sk-toggleable__label {cursor: pointer;display: block;width: 100%;margin-bottom: 0;padding: 0.3em;box-sizing: border-box;text-align: center;}#sk-container-id-2 label.sk-toggleable__label-arrow:before {content: \"▸\";float: left;margin-right: 0.25em;color: #696969;}#sk-container-id-2 label.sk-toggleable__label-arrow:hover:before {color: black;}#sk-container-id-2 div.sk-estimator:hover label.sk-toggleable__label-arrow:before {color: black;}#sk-container-id-2 div.sk-toggleable__content {max-height: 0;max-width: 0;overflow: hidden;text-align: left;background-color: #f0f8ff;}#sk-container-id-2 div.sk-toggleable__content pre {margin: 0.2em;color: black;border-radius: 0.25em;background-color: #f0f8ff;}#sk-container-id-2 input.sk-toggleable__control:checked~div.sk-toggleable__content {max-height: 200px;max-width: 100%;overflow: auto;}#sk-container-id-2 input.sk-toggleable__control:checked~label.sk-toggleable__label-arrow:before {content: \"▾\";}#sk-container-id-2 div.sk-estimator input.sk-toggleable__control:checked~label.sk-toggleable__label {background-color: #d4ebff;}#sk-container-id-2 div.sk-label input.sk-toggleable__control:checked~label.sk-toggleable__label {background-color: #d4ebff;}#sk-container-id-2 input.sk-hidden--visually {border: 0;clip: rect(1px 1px 1px 1px);clip: rect(1px, 1px, 1px, 1px);height: 1px;margin: -1px;overflow: hidden;padding: 0;position: absolute;width: 1px;}#sk-container-id-2 div.sk-estimator {font-family: monospace;background-color: #f0f8ff;border: 1px dotted black;border-radius: 0.25em;box-sizing: border-box;margin-bottom: 0.5em;}#sk-container-id-2 div.sk-estimator:hover {background-color: #d4ebff;}#sk-container-id-2 div.sk-parallel-item::after {content: \"\";width: 100%;border-bottom: 1px solid gray;flex-grow: 1;}#sk-container-id-2 div.sk-label:hover label.sk-toggleable__label {background-color: #d4ebff;}#sk-container-id-2 div.sk-serial::before {content: \"\";position: absolute;border-left: 1px solid gray;box-sizing: border-box;top: 0;bottom: 0;left: 50%;z-index: 0;}#sk-container-id-2 div.sk-serial {display: flex;flex-direction: column;align-items: center;background-color: white;padding-right: 0.2em;padding-left: 0.2em;position: relative;}#sk-container-id-2 div.sk-item {position: relative;z-index: 1;}#sk-container-id-2 div.sk-parallel {display: flex;align-items: stretch;justify-content: center;background-color: white;position: relative;}#sk-container-id-2 div.sk-item::before, #sk-container-id-2 div.sk-parallel-item::before {content: \"\";position: absolute;border-left: 1px solid gray;box-sizing: border-box;top: 0;bottom: 0;left: 50%;z-index: -1;}#sk-container-id-2 div.sk-parallel-item {display: flex;flex-direction: column;z-index: 1;position: relative;background-color: white;}#sk-container-id-2 div.sk-parallel-item:first-child::after {align-self: flex-end;width: 50%;}#sk-container-id-2 div.sk-parallel-item:last-child::after {align-self: flex-start;width: 50%;}#sk-container-id-2 div.sk-parallel-item:only-child::after {width: 0;}#sk-container-id-2 div.sk-dashed-wrapped {border: 1px dashed gray;margin: 0 0.4em 0.5em 0.4em;box-sizing: border-box;padding-bottom: 0.4em;background-color: white;}#sk-container-id-2 div.sk-label label {font-family: monospace;font-weight: bold;display: inline-block;line-height: 1.2em;}#sk-container-id-2 div.sk-label-container {text-align: center;}#sk-container-id-2 div.sk-container {/* jupyter's `normalize.less` sets `[hidden] { display: none; }` but bootstrap.min.css set `[hidden] { display: none !important; }` so we also need the `!important` here to be able to override the default hidden behavior on the sphinx rendered scikit-learn.org. See: https://github.com/scikit-learn/scikit-learn/issues/21755 */display: inline-block !important;position: relative;}#sk-container-id-2 div.sk-text-repr-fallback {display: none;}</style><div id=\"sk-container-id-2\" class=\"sk-top-container\"><div class=\"sk-text-repr-fallback\"><pre>GridSearchCV(estimator=SVC(),\n",
              "             param_grid={&#x27;C&#x27;: [0.1, 1, 10, 100, 1000],\n",
              "                         &#x27;gamma&#x27;: [1, 0.1, 0.01, 0.001, 0.0001],\n",
              "                         &#x27;kernel&#x27;: [&#x27;rbf&#x27;]},\n",
              "             verbose=3)</pre><b>In a Jupyter environment, please rerun this cell to show the HTML representation or trust the notebook. <br />On GitHub, the HTML representation is unable to render, please try loading this page with nbviewer.org.</b></div><div class=\"sk-container\" hidden><div class=\"sk-item sk-dashed-wrapped\"><div class=\"sk-label-container\"><div class=\"sk-label sk-toggleable\"><input class=\"sk-toggleable__control sk-hidden--visually\" id=\"sk-estimator-id-4\" type=\"checkbox\" ><label for=\"sk-estimator-id-4\" class=\"sk-toggleable__label sk-toggleable__label-arrow\">GridSearchCV</label><div class=\"sk-toggleable__content\"><pre>GridSearchCV(estimator=SVC(),\n",
              "             param_grid={&#x27;C&#x27;: [0.1, 1, 10, 100, 1000],\n",
              "                         &#x27;gamma&#x27;: [1, 0.1, 0.01, 0.001, 0.0001],\n",
              "                         &#x27;kernel&#x27;: [&#x27;rbf&#x27;]},\n",
              "             verbose=3)</pre></div></div></div><div class=\"sk-parallel\"><div class=\"sk-parallel-item\"><div class=\"sk-item\"><div class=\"sk-label-container\"><div class=\"sk-label sk-toggleable\"><input class=\"sk-toggleable__control sk-hidden--visually\" id=\"sk-estimator-id-5\" type=\"checkbox\" ><label for=\"sk-estimator-id-5\" class=\"sk-toggleable__label sk-toggleable__label-arrow\">estimator: SVC</label><div class=\"sk-toggleable__content\"><pre>SVC()</pre></div></div></div><div class=\"sk-serial\"><div class=\"sk-item\"><div class=\"sk-estimator sk-toggleable\"><input class=\"sk-toggleable__control sk-hidden--visually\" id=\"sk-estimator-id-6\" type=\"checkbox\" ><label for=\"sk-estimator-id-6\" class=\"sk-toggleable__label sk-toggleable__label-arrow\">SVC</label><div class=\"sk-toggleable__content\"><pre>SVC()</pre></div></div></div></div></div></div></div></div></div></div>"
            ]
          },
          "metadata": {},
          "execution_count": 23
        }
      ]
    },
    {
      "cell_type": "code",
      "source": [
        "# print best parameter after tuning\n",
        "print(grid.best_params_)\n",
        "\n",
        "# print how our model looks after hyper-parameter tunning\n",
        "print(grid.best_estimator_)"
      ],
      "metadata": {
        "colab": {
          "base_uri": "https://localhost:8080/"
        },
        "id": "QEo8ltkingbN",
        "outputId": "e9936cf7-00f3-4176-e142-f038996ca52d"
      },
      "execution_count": null,
      "outputs": [
        {
          "output_type": "stream",
          "name": "stdout",
          "text": [
            "{'C': 10, 'gamma': 0.1, 'kernel': 'rbf'}\n",
            "SVC(C=10, gamma=0.1)\n"
          ]
        }
      ]
    },
    {
      "cell_type": "code",
      "source": [
        "# re-run prediction model\n",
        "grid_predictions = grid.predict(Test_X_Tfidf)\n",
        "\n",
        "#print classification report\n",
        "print(classification_report(Test_Y, grid_predictions))"
      ],
      "metadata": {
        "colab": {
          "base_uri": "https://localhost:8080/"
        },
        "id": "j1Wt3nEEnitu",
        "outputId": "fa50d364-ce47-4275-c337-0f172b77c0e2"
      },
      "execution_count": null,
      "outputs": [
        {
          "output_type": "stream",
          "name": "stdout",
          "text": [
            "              precision    recall  f1-score   support\n",
            "\n",
            "           0       1.00      0.71      0.83         7\n",
            "           1       0.83      1.00      0.91        10\n",
            "           2       1.00      1.00      1.00         7\n",
            "\n",
            "    accuracy                           0.92        24\n",
            "   macro avg       0.94      0.90      0.91        24\n",
            "weighted avg       0.93      0.92      0.91        24\n",
            "\n"
          ]
        }
      ]
    },
    {
      "cell_type": "markdown",
      "source": [
        "Classifier - SVM Algorithm"
      ],
      "metadata": {
        "id": "Tsh5YwBAnkx3"
      }
    },
    {
      "cell_type": "code",
      "source": [
        "# fit the training dataset on the classifier\n",
        "SVM = svm.SVC(C=10, kernel='rbf', gamma=0.1)\n",
        "SVM.fit(Train_X_Tfidf,Train_Y)\n",
        "\n",
        "# predict the labels on validation dataset\n",
        "predictions_SVM = SVM.predict(Test_X_Tfidf)"
      ],
      "metadata": {
        "id": "QJ_e1Cc0ntRY"
      },
      "execution_count": null,
      "outputs": []
    },
    {
      "cell_type": "markdown",
      "source": [
        "**Visualize Classifier - SVM Algorithm**"
      ],
      "metadata": {
        "id": "Tj_lpblXO0ap"
      }
    },
    {
      "cell_type": "code",
      "source": [
        "# visualize classifier SVM algorithm toward the data\n",
        "conf_matrix = confusion_matrix(Test_Y, predictions_SVM)\n",
        "class_label = [\"NEGATIF\", \"NETRAL\", \"POSITIF\"]\n",
        "test = pd.DataFrame(conf_matrix, index = class_label, columns = class_label)\n",
        "sns.heatmap(test, annot = True, fmt = \"d\")\n",
        "plt.title(\"Confusion Matrix SVM\")\n",
        "plt.xlabel(\"Predicted Label\")\n",
        "plt.ylabel(\"True Label\")\n",
        "plt.show()"
      ],
      "metadata": {
        "colab": {
          "base_uri": "https://localhost:8080/",
          "height": 472
        },
        "id": "PKqHfevsnlu-",
        "outputId": "44329514-f99a-4139-d80b-c550fcbbd5d6"
      },
      "execution_count": null,
      "outputs": [
        {
          "output_type": "display_data",
          "data": {
            "text/plain": [
              "<Figure size 640x480 with 2 Axes>"
            ],
            "image/png": "[encoded data removed]"
          },
          "metadata": {}
        }
      ]
    },
    {
      "cell_type": "code",
      "source": [
        "# SVM RESULT\n",
        "print(\"SVM RESULT\")\n",
        "print(\"Accuracy Score =\",accuracy_score(predictions_SVM, Test_Y))\n",
        "precision, recall, fscore, support = score(Test_Y, predictions_SVM, average='weighted')\n",
        "print(\"Precision =\", precision)\n",
        "print(\"Recall =\", recall)\n",
        "print(\"F-score =\", fscore)"
      ],
      "metadata": {
        "id": "teOqQwZPn0JM",
        "outputId": "45a87d9c-a742-4059-b852-eb8946341f07",
        "colab": {
          "base_uri": "https://localhost:8080/"
        }
      },
      "execution_count": null,
      "outputs": [
        {
          "output_type": "stream",
          "name": "stdout",
          "text": [
            "SVM RESULT\n",
            "Accuracy Score = 0.9166666666666666\n",
            "Precision = 0.9305555555555557\n",
            "Recall = 0.9166666666666666\n",
            "F-score = 0.9135101010101009\n"
          ]
        }
      ]
    },
    {
      "cell_type": "markdown",
      "source": [
        "**Random-forest-Classifier Algorithm**\n",
        "\n",
        "data training 70% dan data testing 30% dengan menjadikan test_size=0.3"
      ],
      "metadata": {
        "id": "fGF1HoUj_6ZH"
      }
    },
    {
      "cell_type": "markdown",
      "source": [
        "Hyperparameter Tuning"
      ],
      "metadata": {
        "id": "cDFlFSJJ_7z_"
      }
    },
    {
      "cell_type": "code",
      "source": [
        "import pandas as pd\n",
        "import numpy as np\n",
        "from sklearn.ensemble import RandomForestClassifier"
      ],
      "metadata": {
        "id": "lL-KW6Q8_9-n"
      },
      "execution_count": null,
      "outputs": []
    },
    {
      "cell_type": "code",
      "source": [
        "# Number of trees in random forest\n",
        "n_estimators = [int(x) for x in np.linspace(start = 50, stop = 300, num = 5)]\n",
        "# Number of features to consider at every split\n",
        "max_features = ['auto', 'sqrt']\n",
        "# Maximum number of levels in tree\n",
        "max_depth = [int(x) for x in np.linspace(10, 110, num = 5)]\n",
        "max_depth.append(None)\n",
        "# Minimum number of samples required to split a node\n",
        "min_samples_split = [2, 5, 10]\n",
        "# Minimum number of samples required at each leaf node\n",
        "min_samples_leaf = [1, 2, 4]\n",
        "# Method of selecting samples for training each tree\n",
        "bootstrap = [True, False]"
      ],
      "metadata": {
        "id": "yejHWNR6AAWG"
      },
      "execution_count": null,
      "outputs": []
    },
    {
      "cell_type": "code",
      "source": [
        "# Create the param grid\n",
        "param_grid = {'n_estimators': n_estimators,\n",
        "               'max_features': max_features,\n",
        "               'max_depth': max_depth,\n",
        "               'min_samples_split': min_samples_split,\n",
        "               'min_samples_leaf': min_samples_leaf,\n",
        "               'bootstrap': bootstrap}\n",
        "print(param_grid)"
      ],
      "metadata": {
        "colab": {
          "base_uri": "https://localhost:8080/"
        },
        "id": "ZS6BFJSdADUc",
        "outputId": "4fa2f227-d652-46fd-c369-b482230ace29"
      },
      "execution_count": null,
      "outputs": [
        {
          "output_type": "stream",
          "name": "stdout",
          "text": [
            "{'n_estimators': [50, 112, 175, 237, 300], 'max_features': ['auto', 'sqrt'], 'max_depth': [10, 35, 60, 85, 110, None], 'min_samples_split': [2, 5, 10], 'min_samples_leaf': [1, 2, 4], 'bootstrap': [True, False]}\n"
          ]
        }
      ]
    },
    {
      "cell_type": "code",
      "source": [
        "rf_Model = RandomForestClassifier()"
      ],
      "metadata": {
        "id": "3JNJbAfJAFvH"
      },
      "execution_count": null,
      "outputs": []
    },
    {
      "cell_type": "code",
      "source": [
        "from sklearn.model_selection import GridSearchCV\n",
        "rf_Grid = GridSearchCV(estimator = rf_Model, param_grid = param_grid, cv = 3, verbose=2, n_jobs = 4)"
      ],
      "metadata": {
        "id": "MZUQbnjpAIDF"
      },
      "execution_count": null,
      "outputs": []
    },
    {
      "cell_type": "code",
      "source": [
        "rf_Grid.fit(Train_X_Tfidf, Train_Y)"
      ],
      "metadata": {
        "colab": {
          "base_uri": "https://localhost:8080/",
          "height": 186
        },
        "id": "4awkg62wAKz7",
        "outputId": "ed4a63f4-c63f-4b29-c6a7-da58f353cc80"
      },
      "execution_count": null,
      "outputs": [
        {
          "output_type": "stream",
          "name": "stdout",
          "text": [
            "Fitting 3 folds for each of 1080 candidates, totalling 3240 fits\n"
          ]
        },
        {
          "output_type": "stream",
          "name": "stderr",
          "text": [
            "/usr/local/lib/python3.10/dist-packages/sklearn/ensemble/_forest.py:424: FutureWarning: `max_features='auto'` has been deprecated in 1.1 and will be removed in 1.3. To keep the past behaviour, explicitly set `max_features='sqrt'` or remove this parameter as it is also the default value for RandomForestClassifiers and ExtraTreesClassifiers.\n",
            "  warn(\n"
          ]
        },
        {
          "output_type": "execute_result",
          "data": {
            "text/plain": [
              "GridSearchCV(cv=3, estimator=RandomForestClassifier(), n_jobs=4,\n",
              "             param_grid={'bootstrap': [True, False],\n",
              "                         'max_depth': [10, 35, 60, 85, 110, None],\n",
              "                         'max_features': ['auto', 'sqrt'],\n",
              "                         'min_samples_leaf': [1, 2, 4],\n",
              "                         'min_samples_split': [2, 5, 10],\n",
              "                         'n_estimators': [50, 112, 175, 237, 300]},\n",
              "             verbose=2)"
            ],
            "text/html": [
              "<style>#sk-container-id-3 {color: black;background-color: white;}#sk-container-id-3 pre{padding: 0;}#sk-container-id-3 div.sk-toggleable {background-color: white;}#sk-container-id-3 label.sk-toggleable__label {cursor: pointer;display: block;width: 100%;margin-bottom: 0;padding: 0.3em;box-sizing: border-box;text-align: center;}#sk-container-id-3 label.sk-toggleable__label-arrow:before {content: \"▸\";float: left;margin-right: 0.25em;color: #696969;}#sk-container-id-3 label.sk-toggleable__label-arrow:hover:before {color: black;}#sk-container-id-3 div.sk-estimator:hover label.sk-toggleable__label-arrow:before {color: black;}#sk-container-id-3 div.sk-toggleable__content {max-height: 0;max-width: 0;overflow: hidden;text-align: left;background-color: #f0f8ff;}#sk-container-id-3 div.sk-toggleable__content pre {margin: 0.2em;color: black;border-radius: 0.25em;background-color: #f0f8ff;}#sk-container-id-3 input.sk-toggleable__control:checked~div.sk-toggleable__content {max-height: 200px;max-width: 100%;overflow: auto;}#sk-container-id-3 input.sk-toggleable__control:checked~label.sk-toggleable__label-arrow:before {content: \"▾\";}#sk-container-id-3 div.sk-estimator input.sk-toggleable__control:checked~label.sk-toggleable__label {background-color: #d4ebff;}#sk-container-id-3 div.sk-label input.sk-toggleable__control:checked~label.sk-toggleable__label {background-color: #d4ebff;}#sk-container-id-3 input.sk-hidden--visually {border: 0;clip: rect(1px 1px 1px 1px);clip: rect(1px, 1px, 1px, 1px);height: 1px;margin: -1px;overflow: hidden;padding: 0;position: absolute;width: 1px;}#sk-container-id-3 div.sk-estimator {font-family: monospace;background-color: #f0f8ff;border: 1px dotted black;border-radius: 0.25em;box-sizing: border-box;margin-bottom: 0.5em;}#sk-container-id-3 div.sk-estimator:hover {background-color: #d4ebff;}#sk-container-id-3 div.sk-parallel-item::after {content: \"\";width: 100%;border-bottom: 1px solid gray;flex-grow: 1;}#sk-container-id-3 div.sk-label:hover label.sk-toggleable__label {background-color: #d4ebff;}#sk-container-id-3 div.sk-serial::before {content: \"\";position: absolute;border-left: 1px solid gray;box-sizing: border-box;top: 0;bottom: 0;left: 50%;z-index: 0;}#sk-container-id-3 div.sk-serial {display: flex;flex-direction: column;align-items: center;background-color: white;padding-right: 0.2em;padding-left: 0.2em;position: relative;}#sk-container-id-3 div.sk-item {position: relative;z-index: 1;}#sk-container-id-3 div.sk-parallel {display: flex;align-items: stretch;justify-content: center;background-color: white;position: relative;}#sk-container-id-3 div.sk-item::before, #sk-container-id-3 div.sk-parallel-item::before {content: \"\";position: absolute;border-left: 1px solid gray;box-sizing: border-box;top: 0;bottom: 0;left: 50%;z-index: -1;}#sk-container-id-3 div.sk-parallel-item {display: flex;flex-direction: column;z-index: 1;position: relative;background-color: white;}#sk-container-id-3 div.sk-parallel-item:first-child::after {align-self: flex-end;width: 50%;}#sk-container-id-3 div.sk-parallel-item:last-child::after {align-self: flex-start;width: 50%;}#sk-container-id-3 div.sk-parallel-item:only-child::after {width: 0;}#sk-container-id-3 div.sk-dashed-wrapped {border: 1px dashed gray;margin: 0 0.4em 0.5em 0.4em;box-sizing: border-box;padding-bottom: 0.4em;background-color: white;}#sk-container-id-3 div.sk-label label {font-family: monospace;font-weight: bold;display: inline-block;line-height: 1.2em;}#sk-container-id-3 div.sk-label-container {text-align: center;}#sk-container-id-3 div.sk-container {/* jupyter's `normalize.less` sets `[hidden] { display: none; }` but bootstrap.min.css set `[hidden] { display: none !important; }` so we also need the `!important` here to be able to override the default hidden behavior on the sphinx rendered scikit-learn.org. See: https://github.com/scikit-learn/scikit-learn/issues/21755 */display: inline-block !important;position: relative;}#sk-container-id-3 div.sk-text-repr-fallback {display: none;}</style><div id=\"sk-container-id-3\" class=\"sk-top-container\"><div class=\"sk-text-repr-fallback\"><pre>GridSearchCV(cv=3, estimator=RandomForestClassifier(), n_jobs=4,\n",
              "             param_grid={&#x27;bootstrap&#x27;: [True, False],\n",
              "                         &#x27;max_depth&#x27;: [10, 35, 60, 85, 110, None],\n",
              "                         &#x27;max_features&#x27;: [&#x27;auto&#x27;, &#x27;sqrt&#x27;],\n",
              "                         &#x27;min_samples_leaf&#x27;: [1, 2, 4],\n",
              "                         &#x27;min_samples_split&#x27;: [2, 5, 10],\n",
              "                         &#x27;n_estimators&#x27;: [50, 112, 175, 237, 300]},\n",
              "             verbose=2)</pre><b>In a Jupyter environment, please rerun this cell to show the HTML representation or trust the notebook. <br />On GitHub, the HTML representation is unable to render, please try loading this page with nbviewer.org.</b></div><div class=\"sk-container\" hidden><div class=\"sk-item sk-dashed-wrapped\"><div class=\"sk-label-container\"><div class=\"sk-label sk-toggleable\"><input class=\"sk-toggleable__control sk-hidden--visually\" id=\"sk-estimator-id-7\" type=\"checkbox\" ><label for=\"sk-estimator-id-7\" class=\"sk-toggleable__label sk-toggleable__label-arrow\">GridSearchCV</label><div class=\"sk-toggleable__content\"><pre>GridSearchCV(cv=3, estimator=RandomForestClassifier(), n_jobs=4,\n",
              "             param_grid={&#x27;bootstrap&#x27;: [True, False],\n",
              "                         &#x27;max_depth&#x27;: [10, 35, 60, 85, 110, None],\n",
              "                         &#x27;max_features&#x27;: [&#x27;auto&#x27;, &#x27;sqrt&#x27;],\n",
              "                         &#x27;min_samples_leaf&#x27;: [1, 2, 4],\n",
              "                         &#x27;min_samples_split&#x27;: [2, 5, 10],\n",
              "                         &#x27;n_estimators&#x27;: [50, 112, 175, 237, 300]},\n",
              "             verbose=2)</pre></div></div></div><div class=\"sk-parallel\"><div class=\"sk-parallel-item\"><div class=\"sk-item\"><div class=\"sk-label-container\"><div class=\"sk-label sk-toggleable\"><input class=\"sk-toggleable__control sk-hidden--visually\" id=\"sk-estimator-id-8\" type=\"checkbox\" ><label for=\"sk-estimator-id-8\" class=\"sk-toggleable__label sk-toggleable__label-arrow\">estimator: RandomForestClassifier</label><div class=\"sk-toggleable__content\"><pre>RandomForestClassifier()</pre></div></div></div><div class=\"sk-serial\"><div class=\"sk-item\"><div class=\"sk-estimator sk-toggleable\"><input class=\"sk-toggleable__control sk-hidden--visually\" id=\"sk-estimator-id-9\" type=\"checkbox\" ><label for=\"sk-estimator-id-9\" class=\"sk-toggleable__label sk-toggleable__label-arrow\">RandomForestClassifier</label><div class=\"sk-toggleable__content\"><pre>RandomForestClassifier()</pre></div></div></div></div></div></div></div></div></div></div>"
            ]
          },
          "metadata": {},
          "execution_count": 34
        }
      ]
    },
    {
      "cell_type": "code",
      "source": [
        "# print how our model looks after hyper-parameter tunning\n",
        "rf_Grid.best_params_"
      ],
      "metadata": {
        "colab": {
          "base_uri": "https://localhost:8080/"
        },
        "id": "gJFUpQI9BVHr",
        "outputId": "5c8ed92d-dc40-4521-b84b-b81cca80d700"
      },
      "execution_count": null,
      "outputs": [
        {
          "output_type": "execute_result",
          "data": {
            "text/plain": [
              "{'bootstrap': False,\n",
              " 'max_depth': None,\n",
              " 'max_features': 'auto',\n",
              " 'min_samples_leaf': 1,\n",
              " 'min_samples_split': 2,\n",
              " 'n_estimators': 50}"
            ]
          },
          "metadata": {},
          "execution_count": 35
        }
      ]
    },
    {
      "cell_type": "code",
      "source": [
        "#check accuracy\n",
        "print (f'Train Accuracy - : {rf_Grid.score(Train_X_Tfidf,Train_Y ):.3f}')\n",
        "print (f'Test Accuracy - : {rf_Grid.score(Test_X_Tfidf,Test_Y):.3f}')"
      ],
      "metadata": {
        "colab": {
          "base_uri": "https://localhost:8080/"
        },
        "id": "1SiDA5d9CbEH",
        "outputId": "9ed3ccee-db8c-4cff-8b95-cb70e416caa7"
      },
      "execution_count": null,
      "outputs": [
        {
          "output_type": "stream",
          "name": "stdout",
          "text": [
            "Train Accuracy - : 1.000\n",
            "Test Accuracy - : 0.917\n"
          ]
        }
      ]
    },
    {
      "cell_type": "markdown",
      "source": [
        "Classifier - Random-forest Algorithm"
      ],
      "metadata": {
        "id": "MsLoHiHpCjEk"
      }
    },
    {
      "cell_type": "code",
      "source": [
        "# from sklearn.model_selection import train_test_split\n",
        "# from sklearn import model_selection\n",
        "\n",
        "# fit the training dataset on the classifier\n",
        "rf_clf = RandomForestClassifier(n_estimators=50, max_depth= None, max_features='auto', bootstrap=False, min_samples_leaf=1,\n",
        "                                min_samples_split=2)\n",
        "rf_clf.fit(Train_X_Tfidf, Train_Y)\n",
        "\n",
        "# predict the labels on validation dataset\n",
        "predictions_RFC = rf_clf.predict(Test_X_Tfidf )"
      ],
      "metadata": {
        "colab": {
          "base_uri": "https://localhost:8080/"
        },
        "id": "eVVmeLSeCgD7",
        "outputId": "7fec031f-06bf-445f-de50-f51e73c96740"
      },
      "execution_count": null,
      "outputs": [
        {
          "output_type": "stream",
          "name": "stderr",
          "text": [
            "/usr/local/lib/python3.10/dist-packages/sklearn/ensemble/_forest.py:424: FutureWarning: `max_features='auto'` has been deprecated in 1.1 and will be removed in 1.3. To keep the past behaviour, explicitly set `max_features='sqrt'` or remove this parameter as it is also the default value for RandomForestClassifiers and ExtraTreesClassifiers.\n",
            "  warn(\n"
          ]
        }
      ]
    },
    {
      "cell_type": "markdown",
      "source": [
        "Visualize Classifier - Random-forest Algorithm"
      ],
      "metadata": {
        "id": "Dmw9wpARCtJr"
      }
    },
    {
      "cell_type": "code",
      "source": [
        "# visualize classifier Random-forest algorithm toward the data\n",
        "conf_matrix = confusion_matrix(Test_Y, predictions_RFC)\n",
        "class_label = [\"NEGATIF\", \"NETRAL\", \"POSITIF\"]\n",
        "test = pd.DataFrame(conf_matrix, index = class_label, columns = class_label)\n",
        "sns.heatmap(test, annot = True, fmt = \"d\")\n",
        "plt.title(\"Confusion Matrix Random-Forest\")\n",
        "plt.xlabel(\"Predicted Label\")\n",
        "plt.ylabel(\"True Label\")\n",
        "plt.show()"
      ],
      "metadata": {
        "colab": {
          "base_uri": "https://localhost:8080/",
          "height": 472
        },
        "id": "FeovtPT8Coio",
        "outputId": "5194c40f-1bbd-4b7d-9b38-1883d4fd96fe"
      },
      "execution_count": null,
      "outputs": [
        {
          "output_type": "display_data",
          "data": {
            "text/plain": [
              "<Figure size 640x480 with 2 Axes>"
            ],
            "image/png": "[encoded data removed]"
          },
          "metadata": {}
        }
      ]
    },
    {
      "cell_type": "code",
      "source": [
        "# RANDOM FOREST RESULT\n",
        "print(\"RANDOM FOREST RESULT\")\n",
        "print(\"Accuracy Score =\",accuracy_score(predictions_RFC, Test_Y))\n",
        "precision, recall, fscore, support = score(Test_Y, predictions_RFC, average='weighted')\n",
        "print(\"Precision =\", precision)\n",
        "print(\"Recall =\", recall)\n",
        "print(\"F-score =\", fscore)"
      ],
      "metadata": {
        "colab": {
          "base_uri": "https://localhost:8080/"
        },
        "id": "KQPRcOGzCwc-",
        "outputId": "5bd29dca-9343-431f-9269-53b4fb47c1b4"
      },
      "execution_count": null,
      "outputs": [
        {
          "output_type": "stream",
          "name": "stdout",
          "text": [
            "RANDOM FOREST RESULT\n",
            "Accuracy Score = 0.9166666666666666\n",
            "Precision = 0.9305555555555557\n",
            "Recall = 0.9166666666666666\n",
            "F-score = 0.9135101010101009\n"
          ]
        }
      ]
    },
    {
      "cell_type": "markdown",
      "source": [
        "**Random-forest-Classifier Algorithm**\n",
        "\n",
        "data training 80% dan data testing 20% dengan menjadikan test_size=0.2"
      ],
      "metadata": {
        "id": "IRZgQnD5FgYC"
      }
    },
    {
      "cell_type": "code",
      "source": [
        "#rename colume text_lemmatized into text_final\n",
        "corpus = corpus.rename(columns={'text_lemmatized':'text_final'})\n",
        "\n",
        "#HOLD-OUT - Dividing testing and training data\n",
        "#Train_X,Test_X,Train_Y,Test_Y = model_selection.train_test_split(df_new['text_final'],df_new['label'],test_size=0.2)\n",
        "#Train_X,Test_X,Train_Y,Test_Y = model_selection.train_test_split(df_new['text_final'],df_new['label'],test_size=0.20, random_state=66)\n",
        "Train_X,Test_X,Train_Y,Test_Y = train_test_split(corpus['text_final'],corpus['label'],test_size=0.2)\n",
        "\n",
        "# Label encode - transform Categorical data of string (negatif, netral, positif) into numerical values (0,1,2)\n",
        "Encoder = LabelEncoder()\n",
        "Train_Y = Encoder.fit_transform(Train_Y)\n",
        "Test_Y = Encoder.fit_transform(Test_Y)"
      ],
      "metadata": {
        "id": "7FYlk_o_FlVZ"
      },
      "execution_count": null,
      "outputs": []
    },
    {
      "cell_type": "code",
      "source": [
        "#TF-IDF Vectorizer\n",
        "Tfidf_vect = TfidfVectorizer(max_features=5000)\n",
        "Tfidf_vect.fit(corpus['text_final'])\n",
        "\n",
        "Train_X_Tfidf = Tfidf_vect.transform(Train_X)\n",
        "Test_X_Tfidf = Tfidf_vect.transform(Test_X)\n",
        "\n",
        "#CHECKING\n",
        "print(Tfidf_vect.vocabulary_)\n",
        "print(Train_X_Tfidf)"
      ],
      "metadata": {
        "colab": {
          "base_uri": "https://localhost:8080/"
        },
        "id": "siqDSJG6GPCf",
        "outputId": "c67f3d23-d441-4dea-b653-772787a202dc"
      },
      "execution_count": null,
      "outputs": [
        {
          "output_type": "stream",
          "name": "stdout",
          "text": [
            "{'hoop': 138, 'child': 55, 'north': 211, 'pakistan': 218, 'whose': 325, 'parent': 220, 'slaughter': 271, 'taliban': 295, 'shiit': 267, 'minor': 194, 'think': 304, 'muslim': 203, 'shia': 265, 'surpris': 289, 'someon': 274, 'year': 332, 'sinc': 269, 'invas': 148, 'yemen': 333, 'sunnah': 287, 'peopl': 224, 'yam': 330, 'hope': 139, 'lastli': 170, 'suspend': 290, 've': 320, 'start': 278, 'get': 123, 'critic': 72, 'wkwkwk': 326, 'even': 100, 'though': 305, 'saudi': 258, 'back': 32, 'yemeni': 334, 'govern': 128, 'houthi': 140, 'rebellion': 249, 'complic': 65, 'koranist': 168, 'alway': 15, 'point': 229, 'pray': 233, 'oh': 212, 'accord': 5, 'tradit': 308, 'mean': 191, 'stingi': 283, 'person': 226, 'follow': 115, 'follback': 114, 'porn': 231, 'pl': 228, 'cebong': 52, 'buzzerp': 50, 'pki': 227, 'blasphemi': 44, 'li': 173, 'bashar': 36, 'al': 10, 'assad': 25, 'armi': 22, 'israel': 154, 'behavior': 37, 'bad': 33, 'month': 198, 'ramadhan': 245, 'best': 39, 'opportun': 213, 'make': 183, 'peac': 223, 'allah': 13, 'swt': 291, 'gloriou': 126, 'give': 124, 'servant': 262, 'imam': 145, 'ali': 12, 'zainal': 336, 'abidin': 1, 'right': 255, 'fast': 107, 'discus': 83, 'act': 6, 'worship': 328, 'day': 75, 'prayer': 234, 'read': 246, 'full': 120, 'enjoy': 96, 'updat': 319, 'link': 178, 'given': 125, 'istiqomah': 156, 'say': 259, 'claim': 59, 'padang': 217, 'see': 260, 'face': 104, 'name': 205, 'fix': 112, 'arab': 19, 'descent': 78, 'mukeny': 202, 'bin': 42, 'abi': 0, 'talib': 294, 'said': 256, 'abstain': 3, 'eat': 89, 'drink': 87, 'stay': 281, 'away': 30, 'everyth': 101, 'ramadan': 244, 'problem': 238, 'human': 141, 'mani': 186, 'young': 335, 'civilian': 58, 'expo': 103, 'daili': 73, 'th': 302, 'deztron': 80, 'technolog': 299, 'lead': 171, 'guarante': 130, 'product': 239, 'effici': 92, 'smart': 272, 'like': 177, 'bewar': 40, 'jil': 160, 'repeatedli': 253, 'sparrow': 275, 'necessarili': 206, 'christian': 56, 'emprit': 94, 'hajj': 131, 'bangkok': 35, 'chicken': 54, 'arhh': 21, 'noisi': 210, 'ar': 18, 'hang': 134, 'mutaah': 204, 'sapot': 257, 'mind': 193, 'distanc': 84, 'turn': 312, 'origin': 214, 'issu': 155, 'seem': 261, 'simpl': 268, 'question': 243, 'era': 98, 'terror': 301, 'mark': 189, 'bu': 49, 'never': 208, 'stop': 284, 'attack': 28, 'viral': 322, 'keun': 164, 'danger': 74, 'stage': 277, 'matur': 190, 'societi': 273, 'easili': 88, 'punish': 241, 'wahhabi': 324, 'belief': 38, 'chang': 53, 'iran': 150, 'angel': 17, 'gabriel': 121, 'wrong': 329, 'revel': 254, 'famili': 106, 'broken': 48, 'ah': 9, 'unstabl': 318, 'long': 179, 'twitter': 313, 'pro': 237, 'cathol': 51, 'itj': 157, 'present': 236, 'high': 137, 'qual': 242, 'tech': 298, 'complement': 64, 'life': 176, 'need': 207, 'flower': 113, 'pot': 232, 'gang': 122, 'let': 172, 'go': 127, 'dog': 85, 'readi': 247, 'packag': 216, 'come': 62, 'directli': 82, 'parliament': 221, 'statement': 280, 'egypt': 93, 'state': 279, 'misguid': 195, 'islam': 152, 'made': 181, 'tri': 309, 'realli': 248, 'hard': 135, 'today': 307, 'enter': 97, 'kaaba': 161, 'great': 129, 'bless': 45, 'dream': 86, 'symbol': 292, 'truth': 311, 'husni': 142, 'mubarak': 199, 'ter': 300, 'kimak': 167, 'actor': 7, 'assist': 26, 'lick': 175, 'black': 43, 'kwkwkw': 169, 'bhrwi': 41, 'politic': 230, 'religion': 252, 'continu': 67, 'taqiyyah': 297, 'kafir': 162, 'ask': 24, 'alazhar': 11, 'confirm': 66, 'deviat': 79, 'kalau': 163, 'proof': 240, 'talk': 296, 'evid': 102, 'slander': 270, 'especi': 99, 'true': 310, 'muhammadiyah': 201, 'orma': 215, 'fill': 110, 'academ': 4, 'educ': 91, 'food': 116, 'viciou': 321, 'circl': 57, 'indonesia': 147, 'hate': 136, 'jew': 159, 'brave': 46, 'abl': 2, 'fight': 109, 'iranian': 151, 'major': 182, 'palestin': 219, 'forget': 117, 'pe': 222, 'mufti': 200, 'arrest': 23, 'lost': 180, 'control': 68, 'unlik': 317, 'sunni': 288, 'free': 119, 'moder': 197, 'indic': 146, 'shame': 264, 'understand': 315, 'malay': 184, 'man': 185, 'bring': 47, 'shiia': 266, 'manipul': 187, 'thought': 306, 'medium': 192, 'correct': 70, 'percept': 225, 'spread': 276, 'thing': 303, 'fact': 105, 'azhar': 31, 'mistaken': 196, 'studi': 285, 'hypocrit': 143, 'coloni': 61, 'countri': 71, 'admit': 8, 'diplomaci': 81, 'regim': 250, 'ira': 149, 'ye': 331, 'still': 282, 'shaman': 263, 'khawarij': 165, 'takfiri': 293, 'amp': 16, 'also': 14, 'ijtihad': 144, 'halal': 132, 'kill': 166, 'fellow': 108, 'archipelago': 20, 'two': 314, 'island': 153, 'sumatra': 286, 'java': 158, 'unit': 316, 'pre': 235, 'religi': 251, 'maritim': 188, 'author': 29, 'clear': 60, 'enemi': 95, 'definit': 77, 'communist': 63, 'half': 133, 'bak': 34, 'atheist': 27, 'liber': 174, 'corner': 69, 'defend': 76, 'wkwkwkwk': 327, 'form': 118, 'econom': 90, 'nois': 209, 'finish': 111, 'wahhab': 323}\n",
            "  (0, 265)\t0.23380005538163337\n",
            "  (0, 177)\t0.48238094745515014\n",
            "  (0, 160)\t0.561539264030819\n",
            "  (0, 40)\t0.6303330949486493\n",
            "  (1, 309)\t0.2803813867167584\n",
            "  (1, 265)\t0.2539709086207696\n",
            "  (1, 222)\t0.304992735949858\n",
            "  (1, 219)\t0.609985471899716\n",
            "  (1, 182)\t0.5239978550328277\n",
            "  (1, 117)\t0.34235720901892097\n",
            "  (2, 316)\t0.2773500981126146\n",
            "  (2, 314)\t0.2773500981126146\n",
            "  (2, 286)\t0.2773500981126146\n",
            "  (2, 251)\t0.2773500981126146\n",
            "  (2, 235)\t0.2773500981126146\n",
            "  (2, 188)\t0.2773500981126146\n",
            "  (2, 158)\t0.2773500981126146\n",
            "  (2, 153)\t0.5547001962252291\n",
            "  (2, 29)\t0.2773500981126146\n",
            "  (2, 20)\t0.2773500981126146\n",
            "  (3, 265)\t0.16703123072544734\n",
            "  (3, 175)\t0.4503220174366308\n",
            "  (3, 167)\t0.4503220174366308\n",
            "  (3, 97)\t0.40117438902496444\n",
            "  (3, 26)\t0.4503220174366308\n",
            "  :\t:\n",
            "  (90, 13)\t0.46563048389626\n",
            "  (91, 315)\t0.34479201516636926\n",
            "  (91, 265)\t0.12788856064682638\n",
            "  (91, 264)\t0.34479201516636926\n",
            "  (91, 259)\t0.2262320295420434\n",
            "  (91, 240)\t0.30716181014737765\n",
            "  (91, 224)\t0.2638622345610351\n",
            "  (91, 195)\t0.2823754277535\n",
            "  (91, 185)\t0.34479201516636926\n",
            "  (91, 184)\t0.34479201516636926\n",
            "  (91, 47)\t0.34479201516636926\n",
            "  (91, 24)\t0.30716181014737765\n",
            "  (92, 277)\t0.5613974752007292\n",
            "  (92, 267)\t0.4296259361224219\n",
            "  (92, 123)\t0.5001271987450687\n",
            "  (92, 74)\t0.5001271987450687\n",
            "  (93, 317)\t0.3578671953366034\n",
            "  (93, 288)\t0.3578671953366034\n",
            "  (93, 265)\t0.13273834225027306\n",
            "  (93, 207)\t0.293083650192301\n",
            "  (93, 197)\t0.3578671953366034\n",
            "  (93, 180)\t0.3578671953366034\n",
            "  (93, 146)\t0.3578671953366034\n",
            "  (93, 119)\t0.3578671953366034\n",
            "  (93, 68)\t0.3578671953366034\n"
          ]
        }
      ]
    },
    {
      "cell_type": "code",
      "source": [
        "import pandas as pd\n",
        "import numpy as np\n",
        "from sklearn.ensemble import RandomForestClassifier"
      ],
      "metadata": {
        "id": "RgKsHvGINT8K"
      },
      "execution_count": null,
      "outputs": []
    },
    {
      "cell_type": "code",
      "source": [
        "# Number of trees in random forest\n",
        "n_estimators = [int(x) for x in np.linspace(start = 50, stop = 300, num = 5)]\n",
        "# Number of features to consider at every split\n",
        "max_features = ['auto', 'sqrt']\n",
        "# Maximum number of levels in tree\n",
        "max_depth = [int(x) for x in np.linspace(10, 110, num = 5)]\n",
        "max_depth.append(None)\n",
        "# Minimum number of samples required to split a node\n",
        "min_samples_split = [2, 5, 10]\n",
        "# Minimum number of samples required at each leaf node\n",
        "min_samples_leaf = [1, 2, 4]\n",
        "# Method of selecting samples for training each tree\n",
        "bootstrap = [True, False]"
      ],
      "metadata": {
        "id": "-_MZWH25NZ6U"
      },
      "execution_count": null,
      "outputs": []
    },
    {
      "cell_type": "code",
      "source": [
        "# Create the param grid\n",
        "param_grid = {'n_estimators': n_estimators,\n",
        "               'max_features': max_features,\n",
        "               'max_depth': max_depth,\n",
        "               'min_samples_split': min_samples_split,\n",
        "               'min_samples_leaf': min_samples_leaf,\n",
        "               'bootstrap': bootstrap}\n",
        "print(param_grid)"
      ],
      "metadata": {
        "colab": {
          "base_uri": "https://localhost:8080/"
        },
        "id": "iNSI4pUyNahY",
        "outputId": "92ef918d-7391-43f1-cdd4-28d36790b145"
      },
      "execution_count": null,
      "outputs": [
        {
          "output_type": "stream",
          "name": "stdout",
          "text": [
            "{'n_estimators': [50, 112, 175, 237, 300], 'max_features': ['auto', 'sqrt'], 'max_depth': [10, 35, 60, 85, 110, None], 'min_samples_split': [2, 5, 10], 'min_samples_leaf': [1, 2, 4], 'bootstrap': [True, False]}\n"
          ]
        }
      ]
    },
    {
      "cell_type": "code",
      "source": [
        "rf_Model = RandomForestClassifier()"
      ],
      "metadata": {
        "id": "odlZheKCNfd0"
      },
      "execution_count": null,
      "outputs": []
    },
    {
      "cell_type": "code",
      "source": [
        "from sklearn.model_selection import GridSearchCV\n",
        "rf_Grid = GridSearchCV(estimator = rf_Model, param_grid = param_grid, cv = 3, verbose=2, n_jobs = 4)"
      ],
      "metadata": {
        "id": "7Hgz3tcVNhXO"
      },
      "execution_count": null,
      "outputs": []
    },
    {
      "cell_type": "code",
      "source": [
        "rf_Grid.fit(Train_X_Tfidf, Train_Y)"
      ],
      "metadata": {
        "colab": {
          "base_uri": "https://localhost:8080/",
          "height": 186
        },
        "id": "5Z1OqSCWNmbq",
        "outputId": "f07720d9-a406-421d-8b71-e69d327e910c"
      },
      "execution_count": null,
      "outputs": [
        {
          "output_type": "stream",
          "name": "stdout",
          "text": [
            "Fitting 3 folds for each of 1080 candidates, totalling 3240 fits\n"
          ]
        },
        {
          "output_type": "stream",
          "name": "stderr",
          "text": [
            "/usr/local/lib/python3.10/dist-packages/sklearn/ensemble/_forest.py:424: FutureWarning: `max_features='auto'` has been deprecated in 1.1 and will be removed in 1.3. To keep the past behaviour, explicitly set `max_features='sqrt'` or remove this parameter as it is also the default value for RandomForestClassifiers and ExtraTreesClassifiers.\n",
            "  warn(\n"
          ]
        },
        {
          "output_type": "execute_result",
          "data": {
            "text/plain": [
              "GridSearchCV(cv=3, estimator=RandomForestClassifier(), n_jobs=4,\n",
              "             param_grid={'bootstrap': [True, False],\n",
              "                         'max_depth': [10, 35, 60, 85, 110, None],\n",
              "                         'max_features': ['auto', 'sqrt'],\n",
              "                         'min_samples_leaf': [1, 2, 4],\n",
              "                         'min_samples_split': [2, 5, 10],\n",
              "                         'n_estimators': [50, 112, 175, 237, 300]},\n",
              "             verbose=2)"
            ],
            "text/html": [
              "<style>#sk-container-id-4 {color: black;background-color: white;}#sk-container-id-4 pre{padding: 0;}#sk-container-id-4 div.sk-toggleable {background-color: white;}#sk-container-id-4 label.sk-toggleable__label {cursor: pointer;display: block;width: 100%;margin-bottom: 0;padding: 0.3em;box-sizing: border-box;text-align: center;}#sk-container-id-4 label.sk-toggleable__label-arrow:before {content: \"▸\";float: left;margin-right: 0.25em;color: #696969;}#sk-container-id-4 label.sk-toggleable__label-arrow:hover:before {color: black;}#sk-container-id-4 div.sk-estimator:hover label.sk-toggleable__label-arrow:before {color: black;}#sk-container-id-4 div.sk-toggleable__content {max-height: 0;max-width: 0;overflow: hidden;text-align: left;background-color: #f0f8ff;}#sk-container-id-4 div.sk-toggleable__content pre {margin: 0.2em;color: black;border-radius: 0.25em;background-color: #f0f8ff;}#sk-container-id-4 input.sk-toggleable__control:checked~div.sk-toggleable__content {max-height: 200px;max-width: 100%;overflow: auto;}#sk-container-id-4 input.sk-toggleable__control:checked~label.sk-toggleable__label-arrow:before {content: \"▾\";}#sk-container-id-4 div.sk-estimator input.sk-toggleable__control:checked~label.sk-toggleable__label {background-color: #d4ebff;}#sk-container-id-4 div.sk-label input.sk-toggleable__control:checked~label.sk-toggleable__label {background-color: #d4ebff;}#sk-container-id-4 input.sk-hidden--visually {border: 0;clip: rect(1px 1px 1px 1px);clip: rect(1px, 1px, 1px, 1px);height: 1px;margin: -1px;overflow: hidden;padding: 0;position: absolute;width: 1px;}#sk-container-id-4 div.sk-estimator {font-family: monospace;background-color: #f0f8ff;border: 1px dotted black;border-radius: 0.25em;box-sizing: border-box;margin-bottom: 0.5em;}#sk-container-id-4 div.sk-estimator:hover {background-color: #d4ebff;}#sk-container-id-4 div.sk-parallel-item::after {content: \"\";width: 100%;border-bottom: 1px solid gray;flex-grow: 1;}#sk-container-id-4 div.sk-label:hover label.sk-toggleable__label {background-color: #d4ebff;}#sk-container-id-4 div.sk-serial::before {content: \"\";position: absolute;border-left: 1px solid gray;box-sizing: border-box;top: 0;bottom: 0;left: 50%;z-index: 0;}#sk-container-id-4 div.sk-serial {display: flex;flex-direction: column;align-items: center;background-color: white;padding-right: 0.2em;padding-left: 0.2em;position: relative;}#sk-container-id-4 div.sk-item {position: relative;z-index: 1;}#sk-container-id-4 div.sk-parallel {display: flex;align-items: stretch;justify-content: center;background-color: white;position: relative;}#sk-container-id-4 div.sk-item::before, #sk-container-id-4 div.sk-parallel-item::before {content: \"\";position: absolute;border-left: 1px solid gray;box-sizing: border-box;top: 0;bottom: 0;left: 50%;z-index: -1;}#sk-container-id-4 div.sk-parallel-item {display: flex;flex-direction: column;z-index: 1;position: relative;background-color: white;}#sk-container-id-4 div.sk-parallel-item:first-child::after {align-self: flex-end;width: 50%;}#sk-container-id-4 div.sk-parallel-item:last-child::after {align-self: flex-start;width: 50%;}#sk-container-id-4 div.sk-parallel-item:only-child::after {width: 0;}#sk-container-id-4 div.sk-dashed-wrapped {border: 1px dashed gray;margin: 0 0.4em 0.5em 0.4em;box-sizing: border-box;padding-bottom: 0.4em;background-color: white;}#sk-container-id-4 div.sk-label label {font-family: monospace;font-weight: bold;display: inline-block;line-height: 1.2em;}#sk-container-id-4 div.sk-label-container {text-align: center;}#sk-container-id-4 div.sk-container {/* jupyter's `normalize.less` sets `[hidden] { display: none; }` but bootstrap.min.css set `[hidden] { display: none !important; }` so we also need the `!important` here to be able to override the default hidden behavior on the sphinx rendered scikit-learn.org. See: https://github.com/scikit-learn/scikit-learn/issues/21755 */display: inline-block !important;position: relative;}#sk-container-id-4 div.sk-text-repr-fallback {display: none;}</style><div id=\"sk-container-id-4\" class=\"sk-top-container\"><div class=\"sk-text-repr-fallback\"><pre>GridSearchCV(cv=3, estimator=RandomForestClassifier(), n_jobs=4,\n",
              "             param_grid={&#x27;bootstrap&#x27;: [True, False],\n",
              "                         &#x27;max_depth&#x27;: [10, 35, 60, 85, 110, None],\n",
              "                         &#x27;max_features&#x27;: [&#x27;auto&#x27;, &#x27;sqrt&#x27;],\n",
              "                         &#x27;min_samples_leaf&#x27;: [1, 2, 4],\n",
              "                         &#x27;min_samples_split&#x27;: [2, 5, 10],\n",
              "                         &#x27;n_estimators&#x27;: [50, 112, 175, 237, 300]},\n",
              "             verbose=2)</pre><b>In a Jupyter environment, please rerun this cell to show the HTML representation or trust the notebook. <br />On GitHub, the HTML representation is unable to render, please try loading this page with nbviewer.org.</b></div><div class=\"sk-container\" hidden><div class=\"sk-item sk-dashed-wrapped\"><div class=\"sk-label-container\"><div class=\"sk-label sk-toggleable\"><input class=\"sk-toggleable__control sk-hidden--visually\" id=\"sk-estimator-id-10\" type=\"checkbox\" ><label for=\"sk-estimator-id-10\" class=\"sk-toggleable__label sk-toggleable__label-arrow\">GridSearchCV</label><div class=\"sk-toggleable__content\"><pre>GridSearchCV(cv=3, estimator=RandomForestClassifier(), n_jobs=4,\n",
              "             param_grid={&#x27;bootstrap&#x27;: [True, False],\n",
              "                         &#x27;max_depth&#x27;: [10, 35, 60, 85, 110, None],\n",
              "                         &#x27;max_features&#x27;: [&#x27;auto&#x27;, &#x27;sqrt&#x27;],\n",
              "                         &#x27;min_samples_leaf&#x27;: [1, 2, 4],\n",
              "                         &#x27;min_samples_split&#x27;: [2, 5, 10],\n",
              "                         &#x27;n_estimators&#x27;: [50, 112, 175, 237, 300]},\n",
              "             verbose=2)</pre></div></div></div><div class=\"sk-parallel\"><div class=\"sk-parallel-item\"><div class=\"sk-item\"><div class=\"sk-label-container\"><div class=\"sk-label sk-toggleable\"><input class=\"sk-toggleable__control sk-hidden--visually\" id=\"sk-estimator-id-11\" type=\"checkbox\" ><label for=\"sk-estimator-id-11\" class=\"sk-toggleable__label sk-toggleable__label-arrow\">estimator: RandomForestClassifier</label><div class=\"sk-toggleable__content\"><pre>RandomForestClassifier()</pre></div></div></div><div class=\"sk-serial\"><div class=\"sk-item\"><div class=\"sk-estimator sk-toggleable\"><input class=\"sk-toggleable__control sk-hidden--visually\" id=\"sk-estimator-id-12\" type=\"checkbox\" ><label for=\"sk-estimator-id-12\" class=\"sk-toggleable__label sk-toggleable__label-arrow\">RandomForestClassifier</label><div class=\"sk-toggleable__content\"><pre>RandomForestClassifier()</pre></div></div></div></div></div></div></div></div></div></div>"
            ]
          },
          "metadata": {},
          "execution_count": 47
        }
      ]
    },
    {
      "cell_type": "code",
      "source": [
        "# print how our model looks after hyper-parameter tunning\n",
        "rf_Grid.best_params_"
      ],
      "metadata": {
        "colab": {
          "base_uri": "https://localhost:8080/"
        },
        "id": "y36VBqgSNxNS",
        "outputId": "71b8e1d3-c9b5-4ea8-e94e-db4cbcad6518"
      },
      "execution_count": null,
      "outputs": [
        {
          "output_type": "execute_result",
          "data": {
            "text/plain": [
              "{'bootstrap': False,\n",
              " 'max_depth': 10,\n",
              " 'max_features': 'auto',\n",
              " 'min_samples_leaf': 2,\n",
              " 'min_samples_split': 2,\n",
              " 'n_estimators': 300}"
            ]
          },
          "metadata": {},
          "execution_count": 48
        }
      ]
    },
    {
      "cell_type": "code",
      "source": [
        "#check accuracy\n",
        "print (f'Train Accuracy - : {rf_Grid.score(Train_X_Tfidf,Train_Y ):.3f}')\n",
        "print (f'Test Accuracy - : {rf_Grid.score(Test_X_Tfidf,Test_Y):.3f}')"
      ],
      "metadata": {
        "colab": {
          "base_uri": "https://localhost:8080/"
        },
        "id": "HF694Cv-NzrT",
        "outputId": "91cfeb86-b2f9-4db0-8c91-ba066e145fb4"
      },
      "execution_count": null,
      "outputs": [
        {
          "output_type": "stream",
          "name": "stdout",
          "text": [
            "Train Accuracy - : 0.745\n",
            "Test Accuracy - : 0.333\n"
          ]
        }
      ]
    },
    {
      "cell_type": "markdown",
      "source": [
        "Classifier - Random-forest Algorithm"
      ],
      "metadata": {
        "id": "ae2oRqlLGUaT"
      }
    },
    {
      "cell_type": "code",
      "source": [
        "# from sklearn.model_selection import train_test_split\n",
        "# from sklearn import model_selection\n",
        "\n",
        "# fit the training dataset on the classifier\n",
        "rf_clf = RandomForestClassifier(n_estimators=300, max_depth=10, max_features='auto', bootstrap=False, min_samples_leaf=2,\n",
        "                                min_samples_split=2)\n",
        "rf_clf.fit(Train_X_Tfidf, Train_Y)\n",
        "\n",
        "# predict the labels on validation dataset\n",
        "predictions_RFC = rf_clf.predict(Test_X_Tfidf )"
      ],
      "metadata": {
        "id": "4zn1MNmYGRTo",
        "colab": {
          "base_uri": "https://localhost:8080/"
        },
        "outputId": "d78e9e7d-c4d0-42d0-bbfa-6c4494805a30"
      },
      "execution_count": null,
      "outputs": [
        {
          "output_type": "stream",
          "name": "stderr",
          "text": [
            "/usr/local/lib/python3.10/dist-packages/sklearn/ensemble/_forest.py:424: FutureWarning: `max_features='auto'` has been deprecated in 1.1 and will be removed in 1.3. To keep the past behaviour, explicitly set `max_features='sqrt'` or remove this parameter as it is also the default value for RandomForestClassifiers and ExtraTreesClassifiers.\n",
            "  warn(\n"
          ]
        }
      ]
    },
    {
      "cell_type": "markdown",
      "source": [
        "**Visualize Classifier - Random-forest Algorithm**"
      ],
      "metadata": {
        "id": "hY0F3lN6GZAG"
      }
    },
    {
      "cell_type": "code",
      "source": [
        "# visualize classifier Random-forest algorithm toward the data\n",
        "conf_matrix = confusion_matrix(Test_Y, predictions_RFC)\n",
        "class_label = [\"NEGATIF\", \"NETRAL\", \"POSITIF\"]\n",
        "test = pd.DataFrame(conf_matrix, index = class_label, columns = class_label)\n",
        "sns.heatmap(test, annot = True, fmt = \"d\")\n",
        "plt.title(\"Confusion Matrix Random-Forest\")\n",
        "plt.xlabel(\"Predicted Label\")\n",
        "plt.ylabel(\"True Label\")\n",
        "plt.show()"
      ],
      "metadata": {
        "colab": {
          "base_uri": "https://localhost:8080/",
          "height": 472
        },
        "id": "DmedsereGbq3",
        "outputId": "e6c0729a-9182-4827-e596-7afda98f773a"
      },
      "execution_count": null,
      "outputs": [
        {
          "output_type": "display_data",
          "data": {
            "text/plain": [
              "<Figure size 640x480 with 2 Axes>"
            ],
            "image/png": "[encoded data removed]"
          },
          "metadata": {}
        }
      ]
    },
    {
      "cell_type": "code",
      "source": [
        "# RANDOM FOREST RESULT\n",
        "print(\"RANDOM FOREST RESULT\")\n",
        "print(\"Accuracy Score =\",accuracy_score(predictions_RFC, Test_Y))\n",
        "precision, recall, fscore, support = score(Test_Y, predictions_RFC, average='weighted')\n",
        "print(\"Precision =\", precision)\n",
        "print(\"Recall =\", recall)\n",
        "print(\"F-score =\", fscore)"
      ],
      "metadata": {
        "colab": {
          "base_uri": "https://localhost:8080/"
        },
        "id": "WspoW8kyGejC",
        "outputId": "d037fedf-e296-432e-d870-4ef8e7d8e401"
      },
      "execution_count": null,
      "outputs": [
        {
          "output_type": "stream",
          "name": "stdout",
          "text": [
            "RANDOM FOREST RESULT\n",
            "Accuracy Score = 0.3333333333333333\n",
            "Precision = 0.2564814814814815\n",
            "Recall = 0.3333333333333333\n",
            "F-score = 0.28902116402116407\n"
          ]
        },
        {
          "output_type": "stream",
          "name": "stderr",
          "text": [
            "/usr/local/lib/python3.10/dist-packages/sklearn/metrics/_classification.py:1344: UndefinedMetricWarning: Precision and F-score are ill-defined and being set to 0.0 in labels with no predicted samples. Use `zero_division` parameter to control this behavior.\n",
            "  _warn_prf(average, modifier, msg_start, len(result))\n"
          ]
        }
      ]
    }
  ]
}